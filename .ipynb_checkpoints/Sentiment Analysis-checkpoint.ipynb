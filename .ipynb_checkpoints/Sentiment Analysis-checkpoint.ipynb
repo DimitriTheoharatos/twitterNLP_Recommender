{
 "cells": [
  {
   "cell_type": "code",
   "execution_count": 1,
   "metadata": {},
   "outputs": [],
   "source": [
    "from textblob import TextBlob\n",
    "import pandas as pd\n",
    "from tqdm import tqdm\n",
    "from vaderSentiment import vaderSentiment\n",
    "import matplotlib.pyplot as plt\n",
    "%matplotlib inline\n",
    "# set some nicer defaults for matplotlib\n",
    "from matplotlib import rcParams\n",
    "\n",
    "#these colors come from colorbrewer2.org. Each is an RGB triplet\n",
    "dark2_colors = [(0.10588235294117647, 0.6196078431372549, 0.4666666666666667),\n",
    "                (0.8509803921568627, 0.37254901960784315, 0.00784313725490196),\n",
    "                (0.4588235294117647, 0.4392156862745098, 0.7019607843137254),\n",
    "                (0.9058823529411765, 0.1607843137254902, 0.5411764705882353),\n",
    "                (0.4, 0.6509803921568628, 0.11764705882352941),\n",
    "                (0.9019607843137255, 0.6705882352941176, 0.00784313725490196),\n",
    "                (0.6509803921568628, 0.4627450980392157, 0.11372549019607843),\n",
    "                (0.4, 0.4, 0.4)]\n",
    "\n",
    "rcParams['figure.figsize'] = (8, 5)\n",
    "rcParams['figure.dpi'] = 150\n",
    "rcParams['axes.color_cycle'] = dark2_colors\n",
    "rcParams['lines.linewidth'] = 2\n",
    "rcParams['axes.grid'] = True\n",
    "#rcParams['grid.color'] = '#eeeeee'\n",
    "rcParams['grid.color'] = 'white'\n",
    "rcParams['axes.facecolor'] = '#eeeeee'\n",
    "rcParams['axes.facecolor'] = 'white'\n",
    "rcParams['font.size'] = 16\n",
    "rcParams['patch.edgecolor'] = 'none'"
   ]
  },
  {
   "cell_type": "markdown",
   "metadata": {},
   "source": [
    "Since I do not want to manually label each tweet in order to run sentiment analysis, I will instead import the pre-trained sentiment classifier, `TextBlob`, which is already trained on several IMDB movie reviews. "
   ]
  },
  {
   "cell_type": "markdown",
   "metadata": {},
   "source": [
    "# Individual Tweet Analysis"
   ]
  },
  {
   "cell_type": "code",
   "execution_count": 2,
   "metadata": {},
   "outputs": [],
   "source": [
    "tweets_df = pd.read_csv('cleaned_tweets.csv', index_col=0)"
   ]
  },
  {
   "cell_type": "code",
   "execution_count": 3,
   "metadata": {},
   "outputs": [],
   "source": [
    "tweets_df = tweets_df.dropna()"
   ]
  },
  {
   "cell_type": "code",
   "execution_count": 4,
   "metadata": {},
   "outputs": [
    {
     "name": "stderr",
     "output_type": "stream",
     "text": [
      "100%|██████████| 210289/210289 [01:42<00:00, 2046.22it/s]\n"
     ]
    }
   ],
   "source": [
    "polarity = [] # Lies in range [-1,1]  Very negative sentiment to very positive\n",
    "subjectivity = [] # [0,1] Very objective statement to very subjective statement\n",
    "\n",
    "for tweet in tqdm(tweets_df.lemmatized):\n",
    "    try:\n",
    "        text = TextBlob(tweet).sentiment\n",
    "        polarity.append(text.polarity)\n",
    "        subjectivity.append(text.subjectivity)\n",
    "    except:\n",
    "        print(tweet)"
   ]
  },
  {
   "cell_type": "markdown",
   "metadata": {},
   "source": [
    "In addition to the TextBlob Analysis, let's incorporate VaderSentiment since it was designed to work well with tweets. However, since we have already eliminated punctuation, it will not be as useful.  "
   ]
  },
  {
   "cell_type": "code",
   "execution_count": 5,
   "metadata": {
    "scrolled": true
   },
   "outputs": [
    {
     "name": "stderr",
     "output_type": "stream",
     "text": [
      "100%|██████████| 210289/210289 [00:38<00:00, 5473.79it/s]\n"
     ]
    }
   ],
   "source": [
    "analyzer = vaderSentiment.SentimentIntensityAnalyzer()\n",
    "vader_polarity = [] # Lies in range [-1,1]  Very negative sentiment to very positive\n",
    "\n",
    "for tweet in tqdm(tweets_df.lemmatized):\n",
    "    try:\n",
    "        text = analyzer.polarity_scores(tweet)\n",
    "        vader_polarity.append(text['compound'])\n",
    "    except:\n",
    "        print(tweet)"
   ]
  },
  {
   "cell_type": "code",
   "execution_count": 6,
   "metadata": {},
   "outputs": [],
   "source": [
    "tweets_df['textblob_polarity'] = polarity\n",
    "tweets_df['textblob_subjectivity'] = subjectivity"
   ]
  },
  {
   "cell_type": "code",
   "execution_count": 7,
   "metadata": {},
   "outputs": [],
   "source": [
    "tweets_df['vader_polarity'] = vader_polarity"
   ]
  },
  {
   "cell_type": "code",
   "execution_count": 8,
   "metadata": {
    "scrolled": true
   },
   "outputs": [
    {
     "data": {
      "text/html": [
       "<div>\n",
       "<style scoped>\n",
       "    .dataframe tbody tr th:only-of-type {\n",
       "        vertical-align: middle;\n",
       "    }\n",
       "\n",
       "    .dataframe tbody tr th {\n",
       "        vertical-align: top;\n",
       "    }\n",
       "\n",
       "    .dataframe thead th {\n",
       "        text-align: right;\n",
       "    }\n",
       "</style>\n",
       "<table border=\"1\" class=\"dataframe\">\n",
       "  <thead>\n",
       "    <tr style=\"text-align: right;\">\n",
       "      <th></th>\n",
       "      <th>full_text</th>\n",
       "      <th>screen_name</th>\n",
       "      <th>retweet</th>\n",
       "      <th>filtered_tweets</th>\n",
       "      <th>lemmatized</th>\n",
       "      <th>textblob_polarity</th>\n",
       "      <th>textblob_subjectivity</th>\n",
       "      <th>vader_polarity</th>\n",
       "    </tr>\n",
       "  </thead>\n",
       "  <tbody>\n",
       "    <tr>\n",
       "      <th>0</th>\n",
       "      <td>We are mobilizing to support those impacted by...</td>\n",
       "      <td>sundarpichai</td>\n",
       "      <td>0</td>\n",
       "      <td>we are mobilizing to support those impacted by...</td>\n",
       "      <td>mobilize support impact campfire hillfire wool...</td>\n",
       "      <td>0.000000</td>\n",
       "      <td>0.00000</td>\n",
       "      <td>0.5719</td>\n",
       "    </tr>\n",
       "    <tr>\n",
       "      <th>1</th>\n",
       "      <td>RT @stshank: The @GoogleAI and @googlecloud fo...</td>\n",
       "      <td>sundarpichai</td>\n",
       "      <td>1</td>\n",
       "      <td>rt the and folks are helping the process 5 7 m...</td>\n",
       "      <td>folk help process 5 7 million analog photo mor...</td>\n",
       "      <td>0.000000</td>\n",
       "      <td>0.00000</td>\n",
       "      <td>0.4019</td>\n",
       "    </tr>\n",
       "    <tr>\n",
       "      <th>2</th>\n",
       "      <td>RT @Google: Go Vote: Here’s where to find the ...</td>\n",
       "      <td>sundarpichai</td>\n",
       "      <td>1</td>\n",
       "      <td>rt go vote here s where to find the informatio...</td>\n",
       "      <td>go vote find information need make voice hear ...</td>\n",
       "      <td>0.000000</td>\n",
       "      <td>0.00000</td>\n",
       "      <td>0.0000</td>\n",
       "    </tr>\n",
       "    <tr>\n",
       "      <th>3</th>\n",
       "      <td>RT @AndrewCrow: Amazing change to Google's sit...</td>\n",
       "      <td>sundarpichai</td>\n",
       "      <td>1</td>\n",
       "      <td>rt amazing change to google s site govote</td>\n",
       "      <td>amazing change google site govote</td>\n",
       "      <td>0.600000</td>\n",
       "      <td>0.90000</td>\n",
       "      <td>0.5859</td>\n",
       "    </tr>\n",
       "    <tr>\n",
       "      <th>4</th>\n",
       "      <td>We’re announcing our AI for Social Good progra...</td>\n",
       "      <td>sundarpichai</td>\n",
       "      <td>0</td>\n",
       "      <td>we re announcing our ai for social good progra...</td>\n",
       "      <td>announce ai social good program apply expertis...</td>\n",
       "      <td>0.320202</td>\n",
       "      <td>0.40404</td>\n",
       "      <td>0.8720</td>\n",
       "    </tr>\n",
       "  </tbody>\n",
       "</table>\n",
       "</div>"
      ],
      "text/plain": [
       "                                           full_text   screen_name  retweet  \\\n",
       "0  We are mobilizing to support those impacted by...  sundarpichai        0   \n",
       "1  RT @stshank: The @GoogleAI and @googlecloud fo...  sundarpichai        1   \n",
       "2  RT @Google: Go Vote: Here’s where to find the ...  sundarpichai        1   \n",
       "3  RT @AndrewCrow: Amazing change to Google's sit...  sundarpichai        1   \n",
       "4  We’re announcing our AI for Social Good progra...  sundarpichai        0   \n",
       "\n",
       "                                     filtered_tweets  \\\n",
       "0  we are mobilizing to support those impacted by...   \n",
       "1  rt the and folks are helping the process 5 7 m...   \n",
       "2  rt go vote here s where to find the informatio...   \n",
       "3        rt amazing change to google s site govote     \n",
       "4  we re announcing our ai for social good progra...   \n",
       "\n",
       "                                          lemmatized  textblob_polarity  \\\n",
       "0  mobilize support impact campfire hillfire wool...           0.000000   \n",
       "1  folk help process 5 7 million analog photo mor...           0.000000   \n",
       "2  go vote find information need make voice hear ...           0.000000   \n",
       "3                amazing change google site govote             0.600000   \n",
       "4  announce ai social good program apply expertis...           0.320202   \n",
       "\n",
       "   textblob_subjectivity  vader_polarity  \n",
       "0                0.00000          0.5719  \n",
       "1                0.00000          0.4019  \n",
       "2                0.00000          0.0000  \n",
       "3                0.90000          0.5859  \n",
       "4                0.40404          0.8720  "
      ]
     },
     "execution_count": 8,
     "metadata": {},
     "output_type": "execute_result"
    }
   ],
   "source": [
    "tweets_df.head()"
   ]
  },
  {
   "cell_type": "code",
   "execution_count": 23,
   "metadata": {},
   "outputs": [],
   "source": [
    "difference_in_polarity = tweets_df.vader_polarity - tweets_df.textblob_polarity"
   ]
  },
  {
   "cell_type": "code",
   "execution_count": 9,
   "metadata": {},
   "outputs": [],
   "source": [
    "tweets_df.to_csv('tweets_with_sentiment.csv')"
   ]
  },
  {
   "cell_type": "code",
   "execution_count": 10,
   "metadata": {},
   "outputs": [],
   "source": [
    "tweets_df = pd.read_csv('tweets_with_sentiment.csv', index_col=0)"
   ]
  },
  {
   "cell_type": "code",
   "execution_count": 11,
   "metadata": {},
   "outputs": [
    {
     "data": {
      "text/html": [
       "<div>\n",
       "<style scoped>\n",
       "    .dataframe tbody tr th:only-of-type {\n",
       "        vertical-align: middle;\n",
       "    }\n",
       "\n",
       "    .dataframe tbody tr th {\n",
       "        vertical-align: top;\n",
       "    }\n",
       "\n",
       "    .dataframe thead th {\n",
       "        text-align: right;\n",
       "    }\n",
       "</style>\n",
       "<table border=\"1\" class=\"dataframe\">\n",
       "  <thead>\n",
       "    <tr style=\"text-align: right;\">\n",
       "      <th></th>\n",
       "      <th>full_text</th>\n",
       "      <th>screen_name</th>\n",
       "      <th>retweet</th>\n",
       "      <th>filtered_tweets</th>\n",
       "      <th>lemmatized</th>\n",
       "      <th>textblob_polarity</th>\n",
       "      <th>textblob_subjectivity</th>\n",
       "      <th>vader_polarity</th>\n",
       "    </tr>\n",
       "  </thead>\n",
       "  <tbody>\n",
       "    <tr>\n",
       "      <th>0</th>\n",
       "      <td>We are mobilizing to support those impacted by...</td>\n",
       "      <td>sundarpichai</td>\n",
       "      <td>0</td>\n",
       "      <td>we are mobilizing to support those impacted by...</td>\n",
       "      <td>mobilize support impact campfire hillfire wool...</td>\n",
       "      <td>0.000000</td>\n",
       "      <td>0.00000</td>\n",
       "      <td>0.5719</td>\n",
       "    </tr>\n",
       "    <tr>\n",
       "      <th>1</th>\n",
       "      <td>RT @stshank: The @GoogleAI and @googlecloud fo...</td>\n",
       "      <td>sundarpichai</td>\n",
       "      <td>1</td>\n",
       "      <td>rt the and folks are helping the process 5 7 m...</td>\n",
       "      <td>folk help process 5 7 million analog photo mor...</td>\n",
       "      <td>0.000000</td>\n",
       "      <td>0.00000</td>\n",
       "      <td>0.4019</td>\n",
       "    </tr>\n",
       "    <tr>\n",
       "      <th>2</th>\n",
       "      <td>RT @Google: Go Vote: Here’s where to find the ...</td>\n",
       "      <td>sundarpichai</td>\n",
       "      <td>1</td>\n",
       "      <td>rt go vote here s where to find the informatio...</td>\n",
       "      <td>go vote find information need make voice hear ...</td>\n",
       "      <td>0.000000</td>\n",
       "      <td>0.00000</td>\n",
       "      <td>0.0000</td>\n",
       "    </tr>\n",
       "    <tr>\n",
       "      <th>3</th>\n",
       "      <td>RT @AndrewCrow: Amazing change to Google's sit...</td>\n",
       "      <td>sundarpichai</td>\n",
       "      <td>1</td>\n",
       "      <td>rt amazing change to google s site govote</td>\n",
       "      <td>amazing change google site govote</td>\n",
       "      <td>0.600000</td>\n",
       "      <td>0.90000</td>\n",
       "      <td>0.5859</td>\n",
       "    </tr>\n",
       "    <tr>\n",
       "      <th>4</th>\n",
       "      <td>We’re announcing our AI for Social Good progra...</td>\n",
       "      <td>sundarpichai</td>\n",
       "      <td>0</td>\n",
       "      <td>we re announcing our ai for social good progra...</td>\n",
       "      <td>announce ai social good program apply expertis...</td>\n",
       "      <td>0.320202</td>\n",
       "      <td>0.40404</td>\n",
       "      <td>0.8720</td>\n",
       "    </tr>\n",
       "  </tbody>\n",
       "</table>\n",
       "</div>"
      ],
      "text/plain": [
       "                                           full_text   screen_name  retweet  \\\n",
       "0  We are mobilizing to support those impacted by...  sundarpichai        0   \n",
       "1  RT @stshank: The @GoogleAI and @googlecloud fo...  sundarpichai        1   \n",
       "2  RT @Google: Go Vote: Here’s where to find the ...  sundarpichai        1   \n",
       "3  RT @AndrewCrow: Amazing change to Google's sit...  sundarpichai        1   \n",
       "4  We’re announcing our AI for Social Good progra...  sundarpichai        0   \n",
       "\n",
       "                                     filtered_tweets  \\\n",
       "0  we are mobilizing to support those impacted by...   \n",
       "1  rt the and folks are helping the process 5 7 m...   \n",
       "2  rt go vote here s where to find the informatio...   \n",
       "3        rt amazing change to google s site govote     \n",
       "4  we re announcing our ai for social good progra...   \n",
       "\n",
       "                                          lemmatized  textblob_polarity  \\\n",
       "0  mobilize support impact campfire hillfire wool...           0.000000   \n",
       "1  folk help process 5 7 million analog photo mor...           0.000000   \n",
       "2  go vote find information need make voice hear ...           0.000000   \n",
       "3                amazing change google site govote             0.600000   \n",
       "4  announce ai social good program apply expertis...           0.320202   \n",
       "\n",
       "   textblob_subjectivity  vader_polarity  \n",
       "0                0.00000          0.5719  \n",
       "1                0.00000          0.4019  \n",
       "2                0.00000          0.0000  \n",
       "3                0.90000          0.5859  \n",
       "4                0.40404          0.8720  "
      ]
     },
     "execution_count": 11,
     "metadata": {},
     "output_type": "execute_result"
    }
   ],
   "source": [
    "tweets_df.head()"
   ]
  },
  {
   "cell_type": "markdown",
   "metadata": {},
   "source": [
    "# Sentiment Analysis per User"
   ]
  },
  {
   "cell_type": "code",
   "execution_count": null,
   "metadata": {},
   "outputs": [],
   "source": [
    "user_df = pd.read_csv('twitter_users.csv', index_col=0)"
   ]
  },
  {
   "cell_type": "code",
   "execution_count": 14,
   "metadata": {
    "scrolled": true
   },
   "outputs": [
    {
     "name": "stderr",
     "output_type": "stream",
     "text": [
      "100%|██████████| 79/79 [00:12<00:00,  7.25it/s]\n"
     ]
    }
   ],
   "source": [
    "polarity = [] # Lies in range [-1,1]  Very negative sentiment to very positive\n",
    "subjectivity = [] # [0,1] Very objective statement to very subjective statement\n",
    "\n",
    "for tweet in tqdm(user_df.documents):\n",
    "    try:\n",
    "        text = TextBlob(tweet).sentiment\n",
    "        polarity.append(text.polarity)\n",
    "        subjectivity.append(text.subjectivity)\n",
    "    except:\n",
    "        print(tweet)"
   ]
  },
  {
   "cell_type": "code",
   "execution_count": 15,
   "metadata": {},
   "outputs": [
    {
     "name": "stderr",
     "output_type": "stream",
     "text": [
      "100%|██████████| 3/3 [05:49<00:00, 110.81s/it]\n"
     ]
    }
   ],
   "source": [
    "vader_polarity = [] # Lies in range [-1,1]  Very negative sentiment to very positive\n",
    "\n",
    "for tweet in tqdm(user_df.documents[0:3]):\n",
    "    text = analyzer.polarity_scores(tweet)\n",
    "    vader_polarity.append(text['compound'])"
   ]
  },
  {
   "cell_type": "markdown",
   "metadata": {},
   "source": [
    "Trying to do the polarity for the vader sentiment on a document per user basis took much too long.  Instead, we can groupby each user and average the sentiments per tweet. "
   ]
  },
  {
   "cell_type": "code",
   "execution_count": null,
   "metadata": {},
   "outputs": [],
   "source": [
    "user_d"
   ]
  },
  {
   "cell_type": "code",
   "execution_count": 73,
   "metadata": {},
   "outputs": [],
   "source": [
    "user_df['polarity'] = polarity\n",
    "user_df['subjectivity'] = subjectivity"
   ]
  },
  {
   "cell_type": "code",
   "execution_count": 74,
   "metadata": {},
   "outputs": [],
   "source": [
    "user_df.to_csv('user_with_sentiment.csv')"
   ]
  },
  {
   "cell_type": "code",
   "execution_count": 12,
   "metadata": {},
   "outputs": [],
   "source": [
    "user_df = pd.read_csv('user_with_sentiment.csv', index_col=0)"
   ]
  }
 ],
 "metadata": {
  "kernelspec": {
   "display_name": "Python 3",
   "language": "python",
   "name": "python3"
  },
  "language_info": {
   "codemirror_mode": {
    "name": "ipython",
    "version": 3
   },
   "file_extension": ".py",
   "mimetype": "text/x-python",
   "name": "python",
   "nbconvert_exporter": "python",
   "pygments_lexer": "ipython3",
   "version": "3.6.4"
  }
 },
 "nbformat": 4,
 "nbformat_minor": 2
}
