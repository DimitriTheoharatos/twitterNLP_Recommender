{
 "cells": [
  {
   "cell_type": "markdown",
   "metadata": {},
   "source": [
    "For topic modeling, I think it would be useful to use the document per twitter user information rather than doing the analysis on a per-tweet basis. This is because tweets at an individual level wil not convey much meaning, mostly because there is a max limit of 140 characters.  By aggregating each tweet per user, we get more robust documents that will likely do better with topic modeling. "
   ]
  },
  {
   "cell_type": "code",
   "execution_count": 129,
   "metadata": {},
   "outputs": [],
   "source": [
    "\n",
    "import gensim\n",
    "import pyLDAvis\n",
    "from pyLDAvis import gensim as gensimvis\n",
    "import spacy\n",
    "\n",
    "from sklearn.decomposition import TruncatedSVD\n",
    "from sklearn.decomposition import LatentDirichletAllocation\n",
    "from sklearn.feature_extraction.text import CountVectorizer\n",
    "from sklearn.feature_extraction.text import TfidfVectorizer \n",
    "from sklearn.preprocessing import Normalizer\n",
    "import pandas as pd\n",
    "import numpy as np"
   ]
  },
  {
   "cell_type": "markdown",
   "metadata": {},
   "source": [
    "# Latent Dirichlet Allocation"
   ]
  },
  {
   "cell_type": "code",
   "execution_count": 4,
   "metadata": {},
   "outputs": [],
   "source": [
    "data = pd.read_csv('user_with_sentiment.csv')"
   ]
  },
  {
   "cell_type": "code",
   "execution_count": 7,
   "metadata": {},
   "outputs": [],
   "source": [
    "test = 'this is a test string'"
   ]
  },
  {
   "cell_type": "code",
   "execution_count": 8,
   "metadata": {},
   "outputs": [
    {
     "data": {
      "text/plain": [
       "<gensim.models.phrases.Phrases at 0x1a26e12860>"
      ]
     },
     "execution_count": 8,
     "metadata": {},
     "output_type": "execute_result"
    }
   ],
   "source": [
    "gensim.models.Phrases(test)"
   ]
  },
  {
   "cell_type": "code",
   "execution_count": 9,
   "metadata": {},
   "outputs": [
    {
     "data": {
      "text/html": [
       "<div>\n",
       "<style scoped>\n",
       "    .dataframe tbody tr th:only-of-type {\n",
       "        vertical-align: middle;\n",
       "    }\n",
       "\n",
       "    .dataframe tbody tr th {\n",
       "        vertical-align: top;\n",
       "    }\n",
       "\n",
       "    .dataframe thead th {\n",
       "        text-align: right;\n",
       "    }\n",
       "</style>\n",
       "<table border=\"1\" class=\"dataframe\">\n",
       "  <thead>\n",
       "    <tr style=\"text-align: right;\">\n",
       "      <th></th>\n",
       "      <th>screen_name</th>\n",
       "      <th>documents</th>\n",
       "      <th>polarity</th>\n",
       "      <th>subjectivity</th>\n",
       "    </tr>\n",
       "  </thead>\n",
       "  <tbody>\n",
       "    <tr>\n",
       "      <th>0</th>\n",
       "      <td>511SFBay</td>\n",
       "      <td>today tomorrow day visit learn green commute  ...</td>\n",
       "      <td>0.020008</td>\n",
       "      <td>0.369191</td>\n",
       "    </tr>\n",
       "    <tr>\n",
       "      <th>1</th>\n",
       "      <td>ABCPolitics</td>\n",
       "      <td>president trump threaten pull federal funding ...</td>\n",
       "      <td>0.071031</td>\n",
       "      <td>0.420216</td>\n",
       "    </tr>\n",
       "    <tr>\n",
       "      <th>2</th>\n",
       "      <td>AdorabIeDog</td>\n",
       "      <td>dog rescue friend slip fall water  dog rescue ...</td>\n",
       "      <td>0.179136</td>\n",
       "      <td>0.562469</td>\n",
       "    </tr>\n",
       "    <tr>\n",
       "      <th>3</th>\n",
       "      <td>AndrewYNg</td>\n",
       "      <td>apparently 20 year ago already contribute face...</td>\n",
       "      <td>0.195607</td>\n",
       "      <td>0.500348</td>\n",
       "    </tr>\n",
       "    <tr>\n",
       "      <th>4</th>\n",
       "      <td>BarackObama</td>\n",
       "      <td>veteran family thank tribute truly match magni...</td>\n",
       "      <td>0.170326</td>\n",
       "      <td>0.445381</td>\n",
       "    </tr>\n",
       "  </tbody>\n",
       "</table>\n",
       "</div>"
      ],
      "text/plain": [
       "   screen_name                                          documents  polarity  \\\n",
       "0     511SFBay  today tomorrow day visit learn green commute  ...  0.020008   \n",
       "1  ABCPolitics  president trump threaten pull federal funding ...  0.071031   \n",
       "2  AdorabIeDog  dog rescue friend slip fall water  dog rescue ...  0.179136   \n",
       "3    AndrewYNg  apparently 20 year ago already contribute face...  0.195607   \n",
       "4  BarackObama  veteran family thank tribute truly match magni...  0.170326   \n",
       "\n",
       "   subjectivity  \n",
       "0      0.369191  \n",
       "1      0.420216  \n",
       "2      0.562469  \n",
       "3      0.500348  \n",
       "4      0.445381  "
      ]
     },
     "execution_count": 9,
     "metadata": {},
     "output_type": "execute_result"
    }
   ],
   "source": [
    "data.head()"
   ]
  },
  {
   "cell_type": "code",
   "execution_count": 70,
   "metadata": {},
   "outputs": [],
   "source": [
    "count = CountVectorizer( max_features = None, ngram_range=(1,3), max_df = 0.05)"
   ]
  },
  {
   "cell_type": "code",
   "execution_count": 71,
   "metadata": {
    "scrolled": false
   },
   "outputs": [],
   "source": [
    "lda = LatentDirichletAllocation(n_topics = 5, random_state = 0,\\\n",
    "                                learning_method='batch')"
   ]
  },
  {
   "cell_type": "code",
   "execution_count": 72,
   "metadata": {},
   "outputs": [],
   "source": [
    "X = count.fit_transform(data.documents)"
   ]
  },
  {
   "cell_type": "code",
   "execution_count": 73,
   "metadata": {
    "scrolled": true
   },
   "outputs": [
    {
     "name": "stderr",
     "output_type": "stream",
     "text": [
      "/Users/dimitriostheoharatos/anaconda/envs/py36/lib/python3.6/site-packages/sklearn/decomposition/online_lda.py:294: DeprecationWarning: n_topics has been renamed to n_components in version 0.19 and will be removed in 0.21\n",
      "  DeprecationWarning)\n"
     ]
    }
   ],
   "source": [
    "X_topics = lda.fit_transform(X)"
   ]
  },
  {
   "cell_type": "code",
   "execution_count": 74,
   "metadata": {},
   "outputs": [
    {
     "data": {
      "text/plain": [
       "array([[3.03721822e-06, 3.03686186e-06, 9.99987852e-01, 3.03692493e-06,\n",
       "        3.03723148e-06],\n",
       "       [2.58908699e-06, 2.59018890e-06, 2.58958041e-06, 2.59054565e-06,\n",
       "        9.99989641e-01],\n",
       "       [1.17776230e-05, 1.17771957e-05, 1.17764786e-05, 9.99952892e-01,\n",
       "        1.17767670e-05],\n",
       "       [9.99959834e-01, 1.00400437e-05, 1.00406915e-05, 1.00414712e-05,\n",
       "        1.00436368e-05],\n",
       "       [9.99982937e-01, 4.26799165e-06, 4.26383566e-06, 4.26574552e-06,\n",
       "        4.26496527e-06],\n",
       "       [3.35786038e-06, 9.99986576e-01, 3.35464249e-06, 3.35639481e-06,\n",
       "        3.35500951e-06],\n",
       "       [2.57816702e-06, 2.57929347e-06, 2.57718056e-06, 9.99989688e-01,\n",
       "        2.57744937e-06],\n",
       "       [1.00247104e-05, 1.00239189e-05, 1.00221117e-05, 1.00230521e-05,\n",
       "        9.99959906e-01],\n",
       "       [5.37449172e-06, 5.36996743e-06, 5.40017876e-06, 9.99978485e-01,\n",
       "        5.36986350e-06],\n",
       "       [3.60737409e-06, 9.99985577e-01, 3.60453429e-06, 3.60648241e-06,\n",
       "        3.60483203e-06],\n",
       "       [9.96336422e-06, 9.96316714e-06, 9.96340042e-06, 9.99960139e-01,\n",
       "        9.97081058e-06],\n",
       "       [6.65738960e-06, 6.65587235e-06, 9.88918358e-01, 1.10616583e-02,\n",
       "        6.67057475e-06],\n",
       "       [9.99971021e-01, 7.23926899e-06, 7.24328650e-06, 7.24503461e-06,\n",
       "        7.25118738e-06],\n",
       "       [6.25853537e-06, 6.25675915e-06, 9.99974952e-01, 6.25690951e-06,\n",
       "        6.27586117e-06],\n",
       "       [4.20520494e-06, 4.20042066e-06, 9.99983180e-01, 4.21369177e-06,\n",
       "        4.20072348e-06],\n",
       "       [3.12884149e-06, 9.99987479e-01, 3.12953127e-06, 3.13067005e-06,\n",
       "        3.13237959e-06],\n",
       "       [3.88773306e-06, 3.88275200e-06, 9.99984462e-01, 3.88392820e-06,\n",
       "        3.88387155e-06],\n",
       "       [3.24827918e-06, 3.24824865e-06, 3.24858395e-06, 3.24822027e-06,\n",
       "        9.99987007e-01],\n",
       "       [9.99988268e-01, 2.93189516e-06, 2.93150510e-06, 2.93254291e-06,\n",
       "        2.93621119e-06],\n",
       "       [4.64382612e-06, 9.99981423e-01, 4.64457224e-06, 4.64341365e-06,\n",
       "        4.64566942e-06],\n",
       "       [3.15335752e-06, 3.15078687e-06, 3.15058517e-06, 3.15038586e-06,\n",
       "        9.99987395e-01],\n",
       "       [3.79222384e-06, 9.99984836e-01, 3.78973527e-06, 3.79184641e-06,\n",
       "        3.79035638e-06],\n",
       "       [7.20289044e-06, 7.20068860e-06, 7.20206035e-06, 9.99971193e-01,\n",
       "        7.20135171e-06],\n",
       "       [5.77280756e-05, 5.77396761e-05, 5.77298112e-05, 9.99769089e-01,\n",
       "        5.77133268e-05],\n",
       "       [3.21622574e-06, 3.21237685e-06, 9.99987142e-01, 3.21328234e-06,\n",
       "        3.21604576e-06],\n",
       "       [2.49259494e-06, 2.49203186e-06, 2.49540435e-06, 9.99990025e-01,\n",
       "        2.49524231e-06],\n",
       "       [2.71317287e-06, 2.71375014e-06, 9.99989147e-01, 2.71307917e-06,\n",
       "        2.71342256e-06],\n",
       "       [1.39770492e-05, 1.39666939e-05, 1.39538283e-05, 9.99944143e-01,\n",
       "        1.39595285e-05],\n",
       "       [2.57603779e-06, 2.57763924e-06, 2.57522801e-06, 9.99989694e-01,\n",
       "        2.57698924e-06],\n",
       "       [9.99984590e-01, 3.85034386e-06, 3.85793191e-06, 3.85319034e-06,\n",
       "        3.84891353e-06],\n",
       "       [9.99989038e-01, 2.74231775e-06, 2.73954900e-06, 2.74052186e-06,\n",
       "        2.73986639e-06],\n",
       "       [2.30845776e-06, 2.30813839e-06, 9.99990767e-01, 2.30807325e-06,\n",
       "        2.30862745e-06],\n",
       "       [2.55821559e-05, 2.55502495e-05, 2.55590984e-05, 9.99897754e-01,\n",
       "        2.55542269e-05],\n",
       "       [2.61931735e-06, 9.99989530e-01, 2.61658934e-06, 2.61788867e-06,\n",
       "        2.61667402e-06],\n",
       "       [9.99989709e-01, 2.57541752e-06, 2.57127570e-06, 2.57238369e-06,\n",
       "        2.57165604e-06],\n",
       "       [8.17546325e-06, 8.12891833e-06, 9.99967434e-01, 8.13150873e-06,\n",
       "        8.12984983e-06],\n",
       "       [2.52698811e-06, 2.52597727e-06, 2.52605326e-06, 9.99989895e-01,\n",
       "        2.52590765e-06],\n",
       "       [9.99983751e-01, 4.06237902e-06, 4.06252366e-06, 4.06244595e-06,\n",
       "        4.06142911e-06],\n",
       "       [4.16972840e-06, 4.17030741e-06, 9.99983320e-01, 4.16978669e-06,\n",
       "        4.16990970e-06],\n",
       "       [4.11759436e-06, 9.99983530e-01, 4.11794432e-06, 4.11677865e-06,\n",
       "        4.11750603e-06],\n",
       "       [2.89812755e-06, 9.99988407e-01, 2.89816895e-06, 2.89837862e-06,\n",
       "        2.89808950e-06],\n",
       "       [4.36227333e-06, 4.36215151e-06, 9.99982552e-01, 4.36251479e-06,\n",
       "        4.36078109e-06],\n",
       "       [6.42989637e-06, 6.43453307e-06, 6.42982592e-06, 9.99974276e-01,\n",
       "        6.42995830e-06],\n",
       "       [5.20207266e-06, 5.20062929e-06, 5.20061758e-06, 5.20166754e-06,\n",
       "        9.99979195e-01],\n",
       "       [3.25138800e-06, 3.25032880e-06, 3.25073409e-06, 9.99986999e-01,\n",
       "        3.24866822e-06],\n",
       "       [4.40902454e-06, 9.99982365e-01, 4.40856257e-06, 4.40818313e-06,\n",
       "        4.40888542e-06],\n",
       "       [3.27782885e-06, 3.27866024e-06, 9.99986885e-01, 3.27850035e-06,\n",
       "        3.28005215e-06],\n",
       "       [6.36805867e-06, 6.36064248e-06, 6.37371432e-06, 6.36150103e-06,\n",
       "        9.99974536e-01],\n",
       "       [3.77679778e-06, 3.78004965e-06, 3.77775345e-06, 9.99984886e-01,\n",
       "        3.77897718e-06],\n",
       "       [4.30965652e-05, 9.99827612e-01, 4.30938195e-05, 4.30905494e-05,\n",
       "        4.31069380e-05],\n",
       "       [9.49271801e-06, 9.43411500e-06, 9.43187796e-06, 9.99962204e-01,\n",
       "        9.43695886e-06],\n",
       "       [4.26177240e-06, 4.25944360e-06, 4.25850103e-06, 4.25974034e-06,\n",
       "        9.99982961e-01],\n",
       "       [4.00752909e-06, 9.99983971e-01, 4.00738520e-06, 4.00709716e-06,\n",
       "        4.00653558e-06],\n",
       "       [9.99933785e-01, 1.65510581e-05, 1.65472871e-05, 1.65477496e-05,\n",
       "        1.65687408e-05],\n",
       "       [9.99981521e-01, 4.61142483e-06, 4.63932391e-06, 4.61628311e-06,\n",
       "        4.61207603e-06],\n",
       "       [1.02642203e-05, 9.99958957e-01, 1.02604656e-05, 1.02599287e-05,\n",
       "        1.02587330e-05],\n",
       "       [5.05946001e-06, 5.06686295e-06, 5.06663350e-06, 5.06137011e-06,\n",
       "        9.99979746e-01],\n",
       "       [9.99982580e-01, 4.35464825e-06, 4.35540842e-06, 4.35462947e-06,\n",
       "        4.35482464e-06],\n",
       "       [4.99135485e-06, 4.99020389e-06, 4.99148838e-06, 4.99058374e-06,\n",
       "        9.99980036e-01],\n",
       "       [9.99974728e-01, 6.30994611e-06, 6.30892226e-06, 6.33804125e-06,\n",
       "        6.31461939e-06],\n",
       "       [3.46758392e-06, 3.46535947e-06, 9.99986132e-01, 3.46686959e-06,\n",
       "        3.46770557e-06],\n",
       "       [4.76639978e-06, 4.76456163e-06, 4.76894643e-06, 4.78067065e-06,\n",
       "        9.99980919e-01],\n",
       "       [9.99985478e-01, 3.63171736e-06, 3.62929659e-06, 3.63145138e-06,\n",
       "        3.62993207e-06],\n",
       "       [9.99978084e-01, 5.47673152e-06, 5.48178593e-06, 5.47782308e-06,\n",
       "        5.47946459e-06],\n",
       "       [9.99989135e-01, 2.71309715e-06, 2.72023934e-06, 2.71391148e-06,\n",
       "        2.71741019e-06],\n",
       "       [2.55483962e-06, 9.99989778e-01, 2.55459770e-06, 2.55667419e-06,\n",
       "        2.55558680e-06],\n",
       "       [2.26627482e-06, 2.26667767e-06, 2.26554632e-06, 9.99990935e-01,\n",
       "        2.26602461e-06],\n",
       "       [9.99944044e-01, 1.39913954e-05, 1.39864284e-05, 1.39890283e-05,\n",
       "        1.39889976e-05],\n",
       "       [2.47897437e-06, 2.47758371e-06, 2.47987296e-06, 2.47756752e-06,\n",
       "        9.99990086e-01],\n",
       "       [9.99985747e-01, 3.56211284e-06, 3.56374996e-06, 3.56278834e-06,\n",
       "        3.56473710e-06],\n",
       "       [3.77113585e-06, 3.77110086e-06, 3.77023806e-06, 9.99984917e-01,\n",
       "        3.77048723e-06],\n",
       "       [4.05572726e-06, 4.05292658e-06, 4.05527970e-06, 9.99983778e-01,\n",
       "        4.05845324e-06],\n",
       "       [1.10051960e-05, 1.10012659e-05, 1.09981822e-05, 1.09965785e-05,\n",
       "        9.99955999e-01],\n",
       "       [9.99988326e-01, 2.91885134e-06, 2.91817730e-06, 2.91854327e-06,\n",
       "        2.91836656e-06],\n",
       "       [1.54412378e-05, 1.54419272e-05, 1.54291568e-05, 9.99938253e-01,\n",
       "        1.54350462e-05],\n",
       "       [3.18033801e-06, 9.99987276e-01, 3.18037132e-06, 3.18178694e-06,\n",
       "        3.18121341e-06],\n",
       "       [4.00009213e-06, 4.00317263e-06, 4.00015750e-06, 9.99983995e-01,\n",
       "        4.00142674e-06],\n",
       "       [1.12498998e-05, 1.12449763e-05, 1.12531955e-05, 1.12956594e-05,\n",
       "        9.99954956e-01],\n",
       "       [4.18070879e-06, 4.18198488e-06, 9.99983278e-01, 4.17943839e-06,\n",
       "        4.18012028e-06]])"
      ]
     },
     "execution_count": 74,
     "metadata": {},
     "output_type": "execute_result"
    }
   ],
   "source": [
    "lda.transform(X)"
   ]
  },
  {
   "cell_type": "code",
   "execution_count": 75,
   "metadata": {},
   "outputs": [
    {
     "data": {
      "text/plain": [
       "(79, 5)"
      ]
     },
     "execution_count": 75,
     "metadata": {},
     "output_type": "execute_result"
    }
   ],
   "source": [
    "X_topics.shape"
   ]
  },
  {
   "cell_type": "code",
   "execution_count": 76,
   "metadata": {},
   "outputs": [
    {
     "data": {
      "text/plain": [
       "(5, 2866220)"
      ]
     },
     "execution_count": 76,
     "metadata": {},
     "output_type": "execute_result"
    }
   ],
   "source": [
    "lda.components_.shape"
   ]
  },
  {
   "cell_type": "markdown",
   "metadata": {},
   "source": [
    "Let's check out the top ten topics provided when using LDA and an ngrams up to trigrams. "
   ]
  },
  {
   "cell_type": "code",
   "execution_count": 77,
   "metadata": {},
   "outputs": [
    {
     "name": "stdout",
     "output_type": "stream",
     "text": [
      "Topic 1: \n",
      "americangreatness drinkup emtech githubber actonclimate ocasio2018 emtechdigital harvard18 bacow 30 10\n",
      "Topic 2: \n",
      "financial time briefing need briefing need know page financial time front page financial page financial debatenight publish front page publish front unlimited access\n",
      "Topic 3: \n",
      "update residual update residual delay capitol corridor capitol corridor train corridor train block update lane block update update capitol corridor update capitol sf muni\n",
      "Topic 4: \n",
      "abdsc abdsc bigdata abdsc bigdata datascience bigdata datascience ai datascience ai machinelearn sidelinecam analytic datascience predictiveanalytic bigdata analytic datascience dataliteracy\n",
      "Topic 5: \n",
      "kdn let see help follow let follow let know let know share know share next step dm share next step next step dm please follow let\n"
     ]
    }
   ],
   "source": [
    "n_top_words = 10\n",
    "feature_names = count.get_feature_names()\n",
    "for topic_idx, topic in enumerate(lda.components_):\n",
    "    print(\"Topic %d: \" % (topic_idx + 1))\n",
    "    print( \" \".join([feature_names[i] for i in topic.argsort()\\\n",
    "                     [:-n_top_words - 1:-1]]))"
   ]
  },
  {
   "cell_type": "markdown",
   "metadata": {},
   "source": [
    "# Latent Sematic Analysis"
   ]
  },
  {
   "cell_type": "markdown",
   "metadata": {},
   "source": [
    "LDA is a useful measure for extracting underlying topics from documents, but another method, namely Latent Semantic Analysis (LSA), is also very useful.  Instead of replicating a document-generating stochastic process, LDA uses matrix factorization techniques in order to extract the underlying important features. "
   ]
  },
  {
   "cell_type": "markdown",
   "metadata": {},
   "source": [
    "In order to properly execute LSA, we first need a document to term matrix.  Each row will make up the document of each user and each column will represent a term in the corpus.  The actual values inside the matrix will be the frequency of that term within the respective document. "
   ]
  },
  {
   "cell_type": "code",
   "execution_count": 79,
   "metadata": {},
   "outputs": [
    {
     "data": {
      "text/html": [
       "<div>\n",
       "<style scoped>\n",
       "    .dataframe tbody tr th:only-of-type {\n",
       "        vertical-align: middle;\n",
       "    }\n",
       "\n",
       "    .dataframe tbody tr th {\n",
       "        vertical-align: top;\n",
       "    }\n",
       "\n",
       "    .dataframe thead th {\n",
       "        text-align: right;\n",
       "    }\n",
       "</style>\n",
       "<table border=\"1\" class=\"dataframe\">\n",
       "  <thead>\n",
       "    <tr style=\"text-align: right;\">\n",
       "      <th></th>\n",
       "      <th>screen_name</th>\n",
       "      <th>documents</th>\n",
       "      <th>polarity</th>\n",
       "      <th>subjectivity</th>\n",
       "    </tr>\n",
       "  </thead>\n",
       "  <tbody>\n",
       "    <tr>\n",
       "      <th>0</th>\n",
       "      <td>511SFBay</td>\n",
       "      <td>today tomorrow day visit learn green commute  ...</td>\n",
       "      <td>0.020008</td>\n",
       "      <td>0.369191</td>\n",
       "    </tr>\n",
       "    <tr>\n",
       "      <th>1</th>\n",
       "      <td>ABCPolitics</td>\n",
       "      <td>president trump threaten pull federal funding ...</td>\n",
       "      <td>0.071031</td>\n",
       "      <td>0.420216</td>\n",
       "    </tr>\n",
       "    <tr>\n",
       "      <th>2</th>\n",
       "      <td>AdorabIeDog</td>\n",
       "      <td>dog rescue friend slip fall water  dog rescue ...</td>\n",
       "      <td>0.179136</td>\n",
       "      <td>0.562469</td>\n",
       "    </tr>\n",
       "    <tr>\n",
       "      <th>3</th>\n",
       "      <td>AndrewYNg</td>\n",
       "      <td>apparently 20 year ago already contribute face...</td>\n",
       "      <td>0.195607</td>\n",
       "      <td>0.500348</td>\n",
       "    </tr>\n",
       "    <tr>\n",
       "      <th>4</th>\n",
       "      <td>BarackObama</td>\n",
       "      <td>veteran family thank tribute truly match magni...</td>\n",
       "      <td>0.170326</td>\n",
       "      <td>0.445381</td>\n",
       "    </tr>\n",
       "  </tbody>\n",
       "</table>\n",
       "</div>"
      ],
      "text/plain": [
       "   screen_name                                          documents  polarity  \\\n",
       "0     511SFBay  today tomorrow day visit learn green commute  ...  0.020008   \n",
       "1  ABCPolitics  president trump threaten pull federal funding ...  0.071031   \n",
       "2  AdorabIeDog  dog rescue friend slip fall water  dog rescue ...  0.179136   \n",
       "3    AndrewYNg  apparently 20 year ago already contribute face...  0.195607   \n",
       "4  BarackObama  veteran family thank tribute truly match magni...  0.170326   \n",
       "\n",
       "   subjectivity  \n",
       "0      0.369191  \n",
       "1      0.420216  \n",
       "2      0.562469  \n",
       "3      0.500348  \n",
       "4      0.445381  "
      ]
     },
     "execution_count": 79,
     "metadata": {},
     "output_type": "execute_result"
    }
   ],
   "source": [
    "data.head()"
   ]
  },
  {
   "cell_type": "code",
   "execution_count": 96,
   "metadata": {},
   "outputs": [],
   "source": [
    "vectorizer = CountVectorizer(ngram_range=(1,3))\n",
    "dtm = vectorizer.fit_transform(data.documents)"
   ]
  },
  {
   "cell_type": "code",
   "execution_count": 119,
   "metadata": {},
   "outputs": [],
   "source": [
    "lsa = TruncatedSVD(20, algorithm='arpack')\n",
    "dtm_lsa = lsa.fit_transform(dtm.asfptype())\n",
    "dtm_lsa = Normalizer(copy=False).fit_transform(dtm_lsa)"
   ]
  },
  {
   "cell_type": "code",
   "execution_count": 120,
   "metadata": {},
   "outputs": [
    {
     "data": {
      "text/plain": [
       "array([0.09444461, 0.19630054, 0.12005429, 0.11230977, 0.04684205,\n",
       "       0.03518249, 0.02678811, 0.02583805, 0.02246343, 0.02047923,\n",
       "       0.01970678, 0.01844419, 0.01690844, 0.01424714, 0.01297385,\n",
       "       0.01210545, 0.01204705, 0.01080512, 0.01059234, 0.00991071])"
      ]
     },
     "execution_count": 120,
     "metadata": {},
     "output_type": "execute_result"
    }
   ],
   "source": [
    "lsa.explained_variance_ratio_"
   ]
  },
  {
   "cell_type": "code",
   "execution_count": 127,
   "metadata": {
    "scrolled": false
   },
   "outputs": [
    {
     "data": {
      "text/html": [
       "<div>\n",
       "<style scoped>\n",
       "    .dataframe tbody tr th:only-of-type {\n",
       "        vertical-align: middle;\n",
       "    }\n",
       "\n",
       "    .dataframe tbody tr th {\n",
       "        vertical-align: top;\n",
       "    }\n",
       "\n",
       "    .dataframe thead th {\n",
       "        text-align: right;\n",
       "    }\n",
       "</style>\n",
       "<table border=\"1\" class=\"dataframe\">\n",
       "  <thead>\n",
       "    <tr style=\"text-align: right;\">\n",
       "      <th></th>\n",
       "      <th>0</th>\n",
       "      <th>1</th>\n",
       "      <th>2</th>\n",
       "      <th>3</th>\n",
       "      <th>4</th>\n",
       "      <th>5</th>\n",
       "      <th>6</th>\n",
       "      <th>7</th>\n",
       "      <th>8</th>\n",
       "      <th>9</th>\n",
       "      <th>10</th>\n",
       "      <th>11</th>\n",
       "      <th>12</th>\n",
       "      <th>13</th>\n",
       "      <th>14</th>\n",
       "      <th>15</th>\n",
       "      <th>16</th>\n",
       "      <th>17</th>\n",
       "      <th>18</th>\n",
       "      <th>19</th>\n",
       "    </tr>\n",
       "  </thead>\n",
       "  <tbody>\n",
       "    <tr>\n",
       "      <th>0</th>\n",
       "      <td>0.12093</td>\n",
       "      <td>-0.08309</td>\n",
       "      <td>0.98538</td>\n",
       "      <td>-0.00226</td>\n",
       "      <td>0.04047</td>\n",
       "      <td>0.03706</td>\n",
       "      <td>-0.05017</td>\n",
       "      <td>-0.03132</td>\n",
       "      <td>-0.00695</td>\n",
       "      <td>0.01116</td>\n",
       "      <td>0.00875</td>\n",
       "      <td>0.01748</td>\n",
       "      <td>0.01815</td>\n",
       "      <td>-0.00714</td>\n",
       "      <td>-0.00122</td>\n",
       "      <td>-0.00150</td>\n",
       "      <td>-0.00601</td>\n",
       "      <td>0.00083</td>\n",
       "      <td>-0.00061</td>\n",
       "      <td>-0.00133</td>\n",
       "    </tr>\n",
       "    <tr>\n",
       "      <th>1</th>\n",
       "      <td>0.65787</td>\n",
       "      <td>-0.29228</td>\n",
       "      <td>-0.09410</td>\n",
       "      <td>-0.18592</td>\n",
       "      <td>0.57564</td>\n",
       "      <td>-0.08380</td>\n",
       "      <td>-0.02241</td>\n",
       "      <td>-0.00074</td>\n",
       "      <td>-0.15144</td>\n",
       "      <td>0.04299</td>\n",
       "      <td>0.06320</td>\n",
       "      <td>-0.11964</td>\n",
       "      <td>-0.15424</td>\n",
       "      <td>-0.06525</td>\n",
       "      <td>-0.02112</td>\n",
       "      <td>0.07496</td>\n",
       "      <td>-0.11908</td>\n",
       "      <td>0.03211</td>\n",
       "      <td>0.06654</td>\n",
       "      <td>-0.05128</td>\n",
       "    </tr>\n",
       "    <tr>\n",
       "      <th>2</th>\n",
       "      <td>0.81858</td>\n",
       "      <td>-0.16723</td>\n",
       "      <td>-0.06681</td>\n",
       "      <td>-0.03051</td>\n",
       "      <td>-0.33462</td>\n",
       "      <td>0.05272</td>\n",
       "      <td>0.07276</td>\n",
       "      <td>-0.07331</td>\n",
       "      <td>-0.04111</td>\n",
       "      <td>-0.07084</td>\n",
       "      <td>0.14767</td>\n",
       "      <td>0.18169</td>\n",
       "      <td>0.20348</td>\n",
       "      <td>-0.11852</td>\n",
       "      <td>-0.04273</td>\n",
       "      <td>-0.19711</td>\n",
       "      <td>0.10782</td>\n",
       "      <td>0.01927</td>\n",
       "      <td>0.01226</td>\n",
       "      <td>0.03672</td>\n",
       "    </tr>\n",
       "    <tr>\n",
       "      <th>3</th>\n",
       "      <td>0.75492</td>\n",
       "      <td>-0.19301</td>\n",
       "      <td>-0.05117</td>\n",
       "      <td>0.33904</td>\n",
       "      <td>-0.36537</td>\n",
       "      <td>-0.17756</td>\n",
       "      <td>-0.21561</td>\n",
       "      <td>-0.02505</td>\n",
       "      <td>-0.06120</td>\n",
       "      <td>0.04596</td>\n",
       "      <td>-0.04089</td>\n",
       "      <td>0.04133</td>\n",
       "      <td>0.02451</td>\n",
       "      <td>-0.04460</td>\n",
       "      <td>0.01531</td>\n",
       "      <td>0.00747</td>\n",
       "      <td>0.01647</td>\n",
       "      <td>0.11943</td>\n",
       "      <td>0.18952</td>\n",
       "      <td>0.02374</td>\n",
       "    </tr>\n",
       "    <tr>\n",
       "      <th>4</th>\n",
       "      <td>0.44443</td>\n",
       "      <td>-0.15040</td>\n",
       "      <td>-0.06329</td>\n",
       "      <td>-0.09346</td>\n",
       "      <td>0.07158</td>\n",
       "      <td>0.35235</td>\n",
       "      <td>-0.40609</td>\n",
       "      <td>0.62165</td>\n",
       "      <td>-0.01362</td>\n",
       "      <td>-0.23327</td>\n",
       "      <td>0.12620</td>\n",
       "      <td>-0.07001</td>\n",
       "      <td>0.04461</td>\n",
       "      <td>0.05707</td>\n",
       "      <td>-0.04340</td>\n",
       "      <td>-0.02170</td>\n",
       "      <td>0.02603</td>\n",
       "      <td>-0.01411</td>\n",
       "      <td>0.01078</td>\n",
       "      <td>0.04978</td>\n",
       "    </tr>\n",
       "  </tbody>\n",
       "</table>\n",
       "</div>"
      ],
      "text/plain": [
       "        0        1        2        3        4        5        6        7   \\\n",
       "0  0.12093 -0.08309  0.98538 -0.00226  0.04047  0.03706 -0.05017 -0.03132   \n",
       "1  0.65787 -0.29228 -0.09410 -0.18592  0.57564 -0.08380 -0.02241 -0.00074   \n",
       "2  0.81858 -0.16723 -0.06681 -0.03051 -0.33462  0.05272  0.07276 -0.07331   \n",
       "3  0.75492 -0.19301 -0.05117  0.33904 -0.36537 -0.17756 -0.21561 -0.02505   \n",
       "4  0.44443 -0.15040 -0.06329 -0.09346  0.07158  0.35235 -0.40609  0.62165   \n",
       "\n",
       "        8        9        10       11       12       13       14       15  \\\n",
       "0 -0.00695  0.01116  0.00875  0.01748  0.01815 -0.00714 -0.00122 -0.00150   \n",
       "1 -0.15144  0.04299  0.06320 -0.11964 -0.15424 -0.06525 -0.02112  0.07496   \n",
       "2 -0.04111 -0.07084  0.14767  0.18169  0.20348 -0.11852 -0.04273 -0.19711   \n",
       "3 -0.06120  0.04596 -0.04089  0.04133  0.02451 -0.04460  0.01531  0.00747   \n",
       "4 -0.01362 -0.23327  0.12620 -0.07001  0.04461  0.05707 -0.04340 -0.02170   \n",
       "\n",
       "        16       17       18       19  \n",
       "0 -0.00601  0.00083 -0.00061 -0.00133  \n",
       "1 -0.11908  0.03211  0.06654 -0.05128  \n",
       "2  0.10782  0.01927  0.01226  0.03672  \n",
       "3  0.01647  0.11943  0.18952  0.02374  \n",
       "4  0.02603 -0.01411  0.01078  0.04978  "
      ]
     },
     "execution_count": 127,
     "metadata": {},
     "output_type": "execute_result"
    }
   ],
   "source": [
    "pd.DataFrame(dtm_lsa[:][0:5].round(5), index = data.index[0:5])\n"
   ]
  },
  {
   "cell_type": "code",
   "execution_count": 128,
   "metadata": {},
   "outputs": [],
   "source": []
  },
  {
   "cell_type": "code",
   "execution_count": 139,
   "metadata": {},
   "outputs": [],
   "source": [
    "test = np.random.randn(5,5)"
   ]
  },
  {
   "cell_type": "code",
   "execution_count": null,
   "metadata": {},
   "outputs": [],
   "source": []
  }
 ],
 "metadata": {
  "kernelspec": {
   "display_name": "Python 3",
   "language": "python",
   "name": "python3"
  },
  "language_info": {
   "codemirror_mode": {
    "name": "ipython",
    "version": 3
   },
   "file_extension": ".py",
   "mimetype": "text/x-python",
   "name": "python",
   "nbconvert_exporter": "python",
   "pygments_lexer": "ipython3",
   "version": "3.6.4"
  }
 },
 "nbformat": 4,
 "nbformat_minor": 2
}
