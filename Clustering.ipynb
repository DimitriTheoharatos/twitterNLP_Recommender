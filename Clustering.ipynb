{
 "cells": [
  {
   "cell_type": "code",
   "execution_count": 1,
   "metadata": {},
   "outputs": [],
   "source": [
    "from sklearn.decomposition import TruncatedSVD\n",
    "from sklearn.decomposition import LatentDirichletAllocation\n",
    "from sklearn.feature_extraction.text import CountVectorizer\n",
    "from sklearn.feature_extraction.text import TfidfVectorizer \n",
    "from sklearn.preprocessing import Normalizer\n",
    "import pandas as pd\n",
    "import numpy as np\n",
    "import pprint as pp\n",
    "from sklearn.metrics.pairwise import cosine_similarity\n",
    "from sklearn.decomposition import PCA\n",
    "\n",
    "from gensim.test.utils import common_texts\n",
    "from gensim.models.doc2vec import Doc2Vec, TaggedDocument\n",
    "from nltk.tokenize import word_tokenize\n",
    "\n",
    "from sklearn.cluster import KMeans, DBSCAN\n",
    "import matplotlib.pyplot as plt\n",
    "import seaborn as sns\n",
    "plt.style.use('ggplot')\n",
    "import re\n",
    "\n",
    "from matplotlib import rcParams\n",
    "rcParams['figure.figsize'] = (12, 7)\n",
    "rcParams['font.size'] = 20\n"
   ]
  },
  {
   "cell_type": "code",
   "execution_count": 2,
   "metadata": {},
   "outputs": [],
   "source": [
    "data = pd.read_csv('user_with_sentiment.csv')"
   ]
  },
  {
   "cell_type": "markdown",
   "metadata": {},
   "source": [
    "# LSA"
   ]
  },
  {
   "cell_type": "markdown",
   "metadata": {},
   "source": [
    "Let's create a truncated SVD with 20 components since this describes nearly 85% of the variance. "
   ]
  },
  {
   "cell_type": "code",
   "execution_count": 3,
   "metadata": {},
   "outputs": [],
   "source": [
    "vectorizer = CountVectorizer( max_features = 40000, ngram_range=(1,2), min_df=5, max_df=0.4)\n",
    "dtm = vectorizer.fit_transform(data.documents)"
   ]
  },
  {
   "cell_type": "code",
   "execution_count": 4,
   "metadata": {},
   "outputs": [],
   "source": [
    "lsa = TruncatedSVD(30, algorithm='arpack')\n",
    "dtm_lsa = lsa.fit_transform(dtm.asfptype())\n",
    "dtm_lsa = Normalizer(copy=False).fit_transform(dtm_lsa)"
   ]
  },
  {
   "cell_type": "markdown",
   "metadata": {},
   "source": [
    "# Doc 2 Vec Training"
   ]
  },
  {
   "cell_type": "code",
   "execution_count": 5,
   "metadata": {},
   "outputs": [
    {
     "data": {
      "text/html": [
       "<div>\n",
       "<style scoped>\n",
       "    .dataframe tbody tr th:only-of-type {\n",
       "        vertical-align: middle;\n",
       "    }\n",
       "\n",
       "    .dataframe tbody tr th {\n",
       "        vertical-align: top;\n",
       "    }\n",
       "\n",
       "    .dataframe thead th {\n",
       "        text-align: right;\n",
       "    }\n",
       "</style>\n",
       "<table border=\"1\" class=\"dataframe\">\n",
       "  <thead>\n",
       "    <tr style=\"text-align: right;\">\n",
       "      <th></th>\n",
       "      <th>screen_name</th>\n",
       "      <th>documents</th>\n",
       "      <th>textblob_polarity</th>\n",
       "      <th>textblob_subjectivity</th>\n",
       "      <th>vader_polarity</th>\n",
       "      <th>grouped_sentiment</th>\n",
       "    </tr>\n",
       "  </thead>\n",
       "  <tbody>\n",
       "    <tr>\n",
       "      <th>0</th>\n",
       "      <td>511SFBay</td>\n",
       "      <td>today tomorrow day visit learn green commute  ...</td>\n",
       "      <td>0.005019</td>\n",
       "      <td>0.312647</td>\n",
       "      <td>-0.273358</td>\n",
       "      <td>-0.217682</td>\n",
       "    </tr>\n",
       "    <tr>\n",
       "      <th>1</th>\n",
       "      <td>ABCPolitics</td>\n",
       "      <td>president trump threaten pull federal funding ...</td>\n",
       "      <td>0.073089</td>\n",
       "      <td>0.341123</td>\n",
       "      <td>0.033277</td>\n",
       "      <td>0.041240</td>\n",
       "    </tr>\n",
       "  </tbody>\n",
       "</table>\n",
       "</div>"
      ],
      "text/plain": [
       "   screen_name                                          documents  \\\n",
       "0     511SFBay  today tomorrow day visit learn green commute  ...   \n",
       "1  ABCPolitics  president trump threaten pull federal funding ...   \n",
       "\n",
       "   textblob_polarity  textblob_subjectivity  vader_polarity  grouped_sentiment  \n",
       "0           0.005019               0.312647       -0.273358          -0.217682  \n",
       "1           0.073089               0.341123        0.033277           0.041240  "
      ]
     },
     "execution_count": 5,
     "metadata": {},
     "output_type": "execute_result"
    }
   ],
   "source": [
    "data.head(2)"
   ]
  },
  {
   "cell_type": "code",
   "execution_count": null,
   "metadata": {},
   "outputs": [],
   "source": [
    "tagged_data = [TaggedDocument(words=word_tokenize(_d.lower()), tags=[str(i)]) for i, _d in enumerate(data.documents)]"
   ]
  },
  {
   "cell_type": "code",
   "execution_count": null,
   "metadata": {
    "scrolled": true
   },
   "outputs": [
    {
     "name": "stdout",
     "output_type": "stream",
     "text": [
      "iteration 0\n",
      "iteration 1\n",
      "iteration 2\n",
      "iteration 3\n",
      "iteration 4\n",
      "iteration 5\n",
      "iteration 6\n",
      "iteration 7\n",
      "iteration 8\n",
      "iteration 9\n",
      "iteration 10\n",
      "iteration 11\n",
      "iteration 12\n",
      "iteration 13\n",
      "iteration 14\n",
      "iteration 15\n",
      "iteration 16\n",
      "iteration 17\n",
      "iteration 18\n",
      "iteration 19\n",
      "iteration 20\n",
      "iteration 21\n",
      "iteration 22\n",
      "iteration 23\n",
      "iteration 24\n",
      "iteration 25\n",
      "iteration 26\n",
      "iteration 27\n",
      "iteration 28\n",
      "iteration 29\n",
      "iteration 30\n",
      "iteration 31\n",
      "iteration 32\n",
      "iteration 33\n",
      "iteration 34\n",
      "iteration 35\n",
      "iteration 36\n",
      "iteration 37\n",
      "iteration 38\n",
      "iteration 39\n",
      "iteration 40\n",
      "iteration 41\n",
      "iteration 42\n",
      "iteration 43\n",
      "iteration 44\n",
      "iteration 45\n",
      "iteration 46\n",
      "iteration 47\n",
      "iteration 48\n",
      "iteration 49\n",
      "iteration 50\n",
      "iteration 51\n",
      "iteration 52\n",
      "iteration 53\n",
      "iteration 54\n",
      "iteration 55\n",
      "iteration 56\n",
      "iteration 57\n",
      "iteration 58\n",
      "iteration 59\n",
      "iteration 60\n",
      "iteration 61\n",
      "iteration 62\n",
      "iteration 63\n",
      "iteration 64\n",
      "iteration 65\n",
      "iteration 66\n",
      "iteration 67\n",
      "iteration 68\n",
      "iteration 69\n",
      "iteration 70\n",
      "iteration 71\n",
      "iteration 72\n",
      "iteration 73\n",
      "iteration 74\n",
      "iteration 75\n",
      "iteration 76\n",
      "iteration 77\n",
      "iteration 78\n",
      "iteration 79\n",
      "iteration 80\n",
      "iteration 81\n",
      "iteration 82\n",
      "iteration 83\n",
      "iteration 84\n",
      "iteration 85\n",
      "iteration 86\n",
      "iteration 87\n",
      "iteration 88\n",
      "iteration 89\n",
      "iteration 90\n",
      "iteration 91\n",
      "iteration 92\n",
      "iteration 93\n",
      "iteration 94\n",
      "iteration 95\n",
      "iteration 96\n",
      "iteration 97\n",
      "iteration 98\n",
      "iteration 99\n",
      "iteration 100\n",
      "iteration 101\n",
      "iteration 102\n",
      "iteration 103\n",
      "iteration 104\n",
      "iteration 105\n",
      "iteration 106\n",
      "iteration 107\n",
      "iteration 108\n",
      "iteration 109\n",
      "iteration 110\n",
      "iteration 111\n",
      "iteration 112\n",
      "iteration 113\n",
      "iteration 114\n",
      "iteration 115\n",
      "iteration 116\n",
      "iteration 117\n",
      "iteration 118\n",
      "iteration 119\n",
      "iteration 120\n",
      "iteration 121\n",
      "iteration 122\n",
      "iteration 123\n",
      "iteration 124\n",
      "iteration 125\n",
      "iteration 126\n",
      "iteration 127\n",
      "iteration 128\n",
      "iteration 129\n",
      "iteration 130\n",
      "iteration 131\n",
      "iteration 132\n",
      "iteration 133\n",
      "iteration 134\n",
      "iteration 135\n",
      "iteration 136\n",
      "iteration 137\n",
      "iteration 138\n",
      "iteration 139\n",
      "iteration 140\n",
      "iteration 141\n",
      "iteration 142\n",
      "iteration 143\n",
      "iteration 144\n",
      "iteration 145\n",
      "iteration 146\n",
      "iteration 147\n",
      "iteration 148\n",
      "iteration 149\n",
      "iteration 150\n",
      "iteration 151\n",
      "iteration 152\n",
      "iteration 153\n",
      "iteration 154\n",
      "iteration 155\n",
      "iteration 156\n",
      "iteration 157\n",
      "iteration 158\n",
      "iteration 159\n",
      "iteration 160\n",
      "iteration 161\n",
      "iteration 162\n",
      "iteration 163\n",
      "iteration 164\n",
      "iteration 165\n",
      "iteration 166\n",
      "iteration 167\n",
      "iteration 168\n",
      "iteration 169\n",
      "iteration 170\n",
      "iteration 171\n",
      "iteration 172\n",
      "iteration 173\n",
      "iteration 174\n",
      "iteration 175\n",
      "iteration 176\n",
      "iteration 177\n",
      "iteration 178\n",
      "iteration 179\n",
      "iteration 180\n",
      "iteration 181\n",
      "iteration 182\n",
      "iteration 183\n",
      "iteration 184\n",
      "iteration 185\n",
      "iteration 186\n",
      "iteration 187\n",
      "iteration 188\n"
     ]
    }
   ],
   "source": [
    "max_epochs = 1000\n",
    "vec_size = 20\n",
    "alpha = 0.025\n",
    "\n",
    "model = Doc2Vec(size=vec_size,\n",
    "                alpha=alpha, \n",
    "                min_alpha=0.00025,\n",
    "                min_count=1,\n",
    "                dm =1)\n",
    "  \n",
    "model.build_vocab(tagged_data)\n",
    "\n",
    "for epoch in range(max_epochs):\n",
    "    print('iteration {0}'.format(epoch))\n",
    "    model.train(tagged_data,\n",
    "                total_examples=model.corpus_count,\n",
    "                epochs=model.iter)\n",
    "    # decrease the learning rate\n",
    "    model.alpha -= 0.0002\n",
    "    # fix the learning rate, no decay\n",
    "    model.min_alpha = model.alpha\n",
    "\n",
    "model.save(\"d2v.model\")\n",
    "print(\"Model Saved\")"
   ]
  },
  {
   "cell_type": "code",
   "execution_count": 63,
   "metadata": {},
   "outputs": [],
   "source": [
    "model= Doc2Vec.load(\"d2v.model\")\n"
   ]
  },
  {
   "cell_type": "code",
   "execution_count": 64,
   "metadata": {},
   "outputs": [
    {
     "data": {
      "text/plain": [
       "0.82388675"
      ]
     },
     "execution_count": 64,
     "metadata": {},
     "output_type": "execute_result"
    }
   ],
   "source": [
    "model.docvecs.similarity(66,5)"
   ]
  },
  {
   "cell_type": "markdown",
   "metadata": {},
   "source": [
    "# Compare LSA to Doc2Vec"
   ]
  },
  {
   "cell_type": "markdown",
   "metadata": {},
   "source": [
    "Now that we have trained our Doc2Vec algorithm as well as our LSA algorithm, let's see the results we get in comparing their respective similarities. "
   ]
  },
  {
   "cell_type": "code",
   "execution_count": 45,
   "metadata": {},
   "outputs": [
    {
     "data": {
      "text/html": [
       "<div>\n",
       "<style scoped>\n",
       "    .dataframe tbody tr th:only-of-type {\n",
       "        vertical-align: middle;\n",
       "    }\n",
       "\n",
       "    .dataframe tbody tr th {\n",
       "        vertical-align: top;\n",
       "    }\n",
       "\n",
       "    .dataframe thead th {\n",
       "        text-align: right;\n",
       "    }\n",
       "</style>\n",
       "<table border=\"1\" class=\"dataframe\">\n",
       "  <thead>\n",
       "    <tr style=\"text-align: right;\">\n",
       "      <th></th>\n",
       "      <th>screen_name</th>\n",
       "      <th>documents</th>\n",
       "      <th>textblob_polarity</th>\n",
       "      <th>textblob_subjectivity</th>\n",
       "      <th>vader_polarity</th>\n",
       "      <th>grouped_sentiment</th>\n",
       "    </tr>\n",
       "  </thead>\n",
       "  <tbody>\n",
       "    <tr>\n",
       "      <th>0</th>\n",
       "      <td>511SFBay</td>\n",
       "      <td>today tomorrow day visit learn green commute  ...</td>\n",
       "      <td>0.005019</td>\n",
       "      <td>0.312647</td>\n",
       "      <td>-0.273358</td>\n",
       "      <td>-0.217682</td>\n",
       "    </tr>\n",
       "    <tr>\n",
       "      <th>1</th>\n",
       "      <td>ABCPolitics</td>\n",
       "      <td>president trump threaten pull federal funding ...</td>\n",
       "      <td>0.073089</td>\n",
       "      <td>0.341123</td>\n",
       "      <td>0.033277</td>\n",
       "      <td>0.041240</td>\n",
       "    </tr>\n",
       "    <tr>\n",
       "      <th>2</th>\n",
       "      <td>AdorabIeDog</td>\n",
       "      <td>dog rescue friend slip fall water  dog rescue ...</td>\n",
       "      <td>0.141060</td>\n",
       "      <td>0.383278</td>\n",
       "      <td>0.219881</td>\n",
       "      <td>0.204117</td>\n",
       "    </tr>\n",
       "    <tr>\n",
       "      <th>3</th>\n",
       "      <td>AndrewYNg</td>\n",
       "      <td>apparently 20 year ago already contribute face...</td>\n",
       "      <td>0.198599</td>\n",
       "      <td>0.424465</td>\n",
       "      <td>0.315762</td>\n",
       "      <td>0.292330</td>\n",
       "    </tr>\n",
       "    <tr>\n",
       "      <th>4</th>\n",
       "      <td>BarackObama</td>\n",
       "      <td>veteran family thank tribute truly match magni...</td>\n",
       "      <td>0.140160</td>\n",
       "      <td>0.336449</td>\n",
       "      <td>0.215674</td>\n",
       "      <td>0.200571</td>\n",
       "    </tr>\n",
       "  </tbody>\n",
       "</table>\n",
       "</div>"
      ],
      "text/plain": [
       "   screen_name                                          documents  \\\n",
       "0     511SFBay  today tomorrow day visit learn green commute  ...   \n",
       "1  ABCPolitics  president trump threaten pull federal funding ...   \n",
       "2  AdorabIeDog  dog rescue friend slip fall water  dog rescue ...   \n",
       "3    AndrewYNg  apparently 20 year ago already contribute face...   \n",
       "4  BarackObama  veteran family thank tribute truly match magni...   \n",
       "\n",
       "   textblob_polarity  textblob_subjectivity  vader_polarity  grouped_sentiment  \n",
       "0           0.005019               0.312647       -0.273358          -0.217682  \n",
       "1           0.073089               0.341123        0.033277           0.041240  \n",
       "2           0.141060               0.383278        0.219881           0.204117  \n",
       "3           0.198599               0.424465        0.315762           0.292330  \n",
       "4           0.140160               0.336449        0.215674           0.200571  "
      ]
     },
     "execution_count": 45,
     "metadata": {},
     "output_type": "execute_result"
    }
   ],
   "source": [
    "data.head()"
   ]
  },
  {
   "cell_type": "code",
   "execution_count": 46,
   "metadata": {},
   "outputs": [],
   "source": [
    "lsa_sims = [cosine_similarity(np.asmatrix(dtm_lsa)[1],np.asmatrix(dtm_lsa)[i])for i in range(0,len(data))]\n"
   ]
  },
  {
   "cell_type": "code",
   "execution_count": 59,
   "metadata": {},
   "outputs": [
    {
     "data": {
      "text/html": [
       "<div>\n",
       "<style scoped>\n",
       "    .dataframe tbody tr th:only-of-type {\n",
       "        vertical-align: middle;\n",
       "    }\n",
       "\n",
       "    .dataframe tbody tr th {\n",
       "        vertical-align: top;\n",
       "    }\n",
       "\n",
       "    .dataframe thead th {\n",
       "        text-align: right;\n",
       "    }\n",
       "</style>\n",
       "<table border=\"1\" class=\"dataframe\">\n",
       "  <thead>\n",
       "    <tr style=\"text-align: right;\">\n",
       "      <th></th>\n",
       "      <th>screen_name</th>\n",
       "      <th>documents</th>\n",
       "      <th>textblob_polarity</th>\n",
       "      <th>textblob_subjectivity</th>\n",
       "      <th>vader_polarity</th>\n",
       "      <th>grouped_sentiment</th>\n",
       "    </tr>\n",
       "  </thead>\n",
       "  <tbody>\n",
       "    <tr>\n",
       "      <th>74</th>\n",
       "      <td>tim_cook</td>\n",
       "      <td>สว สด คร บชาวกร งเทพ thai customer store tea...</td>\n",
       "      <td>0.306566</td>\n",
       "      <td>0.482156</td>\n",
       "      <td>0.541148</td>\n",
       "      <td>0.494231</td>\n",
       "    </tr>\n",
       "    <tr>\n",
       "      <th>75</th>\n",
       "      <td>voxdotcom</td>\n",
       "      <td>yet see big piece evidence trump much empath...</td>\n",
       "      <td>0.069075</td>\n",
       "      <td>0.363659</td>\n",
       "      <td>-0.009115</td>\n",
       "      <td>0.006523</td>\n",
       "    </tr>\n",
       "    <tr>\n",
       "      <th>76</th>\n",
       "      <td>washingtonpost</td>\n",
       "      <td>attack starve century old diary recount u so...</td>\n",
       "      <td>0.034025</td>\n",
       "      <td>0.286189</td>\n",
       "      <td>-0.095734</td>\n",
       "      <td>-0.069782</td>\n",
       "    </tr>\n",
       "    <tr>\n",
       "      <th>77</th>\n",
       "      <td>wzchen</td>\n",
       "      <td>release dataset question sincerity run corresp...</td>\n",
       "      <td>0.184889</td>\n",
       "      <td>0.328562</td>\n",
       "      <td>0.267094</td>\n",
       "      <td>0.250653</td>\n",
       "    </tr>\n",
       "    <tr>\n",
       "      <th>78</th>\n",
       "      <td>ycombinator</td>\n",
       "      <td>conversation amazon cto werner vogel moderate ...</td>\n",
       "      <td>0.098576</td>\n",
       "      <td>0.217284</td>\n",
       "      <td>0.178381</td>\n",
       "      <td>0.162420</td>\n",
       "    </tr>\n",
       "  </tbody>\n",
       "</table>\n",
       "</div>"
      ],
      "text/plain": [
       "       screen_name                                          documents  \\\n",
       "74        tim_cook    สว สด คร บชาวกร งเทพ thai customer store tea...   \n",
       "75       voxdotcom    yet see big piece evidence trump much empath...   \n",
       "76  washingtonpost    attack starve century old diary recount u so...   \n",
       "77          wzchen  release dataset question sincerity run corresp...   \n",
       "78     ycombinator  conversation amazon cto werner vogel moderate ...   \n",
       "\n",
       "    textblob_polarity  textblob_subjectivity  vader_polarity  \\\n",
       "74           0.306566               0.482156        0.541148   \n",
       "75           0.069075               0.363659       -0.009115   \n",
       "76           0.034025               0.286189       -0.095734   \n",
       "77           0.184889               0.328562        0.267094   \n",
       "78           0.098576               0.217284        0.178381   \n",
       "\n",
       "    grouped_sentiment  \n",
       "74           0.494231  \n",
       "75           0.006523  \n",
       "76          -0.069782  \n",
       "77           0.250653  \n",
       "78           0.162420  "
      ]
     },
     "execution_count": 59,
     "metadata": {},
     "output_type": "execute_result"
    }
   ],
   "source": [
    "data.tail()"
   ]
  },
  {
   "cell_type": "code",
   "execution_count": 61,
   "metadata": {},
   "outputs": [
    {
     "data": {
      "text/plain": [
       "[array([[0.02393918]]),\n",
       " array([[0.11951312]]),\n",
       " array([[0.03399917]]),\n",
       " array([[0.19322516]]),\n",
       " array([[0.21819393]]),\n",
       " array([[0.0009726]]),\n",
       " array([[0.1995835]]),\n",
       " array([[0.5988257]]),\n",
       " array([[0.66666534]]),\n",
       " array([[0.29586579]])]"
      ]
     },
     "execution_count": 61,
     "metadata": {},
     "output_type": "execute_result"
    }
   ],
   "source": [
    "lsa_sims[20:30]"
   ]
  },
  {
   "cell_type": "code",
   "execution_count": 58,
   "metadata": {},
   "outputs": [
    {
     "data": {
      "text/plain": [
       "[array([[1.]]),\n",
       " array([[0.7297294]]),\n",
       " array([[0.70064965]]),\n",
       " array([[0.66666534]]),\n",
       " array([[0.6074215]]),\n",
       " array([[0.59996087]]),\n",
       " array([[0.5988257]]),\n",
       " array([[0.55425992]]),\n",
       " array([[0.53371209]]),\n",
       " array([[0.50800676]]),\n",
       " array([[0.31826023]]),\n",
       " array([[0.30651572]]),\n",
       " array([[0.29586579]]),\n",
       " array([[0.26828836]]),\n",
       " array([[0.24900846]]),\n",
       " array([[0.23600294]]),\n",
       " array([[0.2331303]]),\n",
       " array([[0.22577665]]),\n",
       " array([[0.21819393]]),\n",
       " array([[0.2007632]]),\n",
       " array([[0.1995835]]),\n",
       " array([[0.19322516]]),\n",
       " array([[0.18729889]]),\n",
       " array([[0.16917015]]),\n",
       " array([[0.16587437]]),\n",
       " array([[0.15062259]]),\n",
       " array([[0.15016967]]),\n",
       " array([[0.14278518]]),\n",
       " array([[0.13693082]]),\n",
       " array([[0.12079987]]),\n",
       " array([[0.11996196]]),\n",
       " array([[0.11951312]]),\n",
       " array([[0.11753021]]),\n",
       " array([[0.10331927]]),\n",
       " array([[0.09478229]]),\n",
       " array([[0.07592119]]),\n",
       " array([[0.07526539]]),\n",
       " array([[0.07241625]]),\n",
       " array([[0.06870861]]),\n",
       " array([[0.06391005]]),\n",
       " array([[0.06378805]]),\n",
       " array([[0.06109326]]),\n",
       " array([[0.05122748]]),\n",
       " array([[0.05037781]]),\n",
       " array([[0.04586712]]),\n",
       " array([[0.04236476]]),\n",
       " array([[0.03843238]]),\n",
       " array([[0.03552381]]),\n",
       " array([[0.03399917]]),\n",
       " array([[0.03375424]]),\n",
       " array([[0.03212679]]),\n",
       " array([[0.03107683]]),\n",
       " array([[0.02940256]]),\n",
       " array([[0.02914192]]),\n",
       " array([[0.02822059]]),\n",
       " array([[0.0281505]]),\n",
       " array([[0.02740289]]),\n",
       " array([[0.02393918]]),\n",
       " array([[0.02331504]]),\n",
       " array([[0.02300985]]),\n",
       " array([[0.01890944]]),\n",
       " array([[0.0158689]]),\n",
       " array([[0.01346832]]),\n",
       " array([[0.01331743]]),\n",
       " array([[0.01261369]]),\n",
       " array([[0.0125273]]),\n",
       " array([[0.01057003]]),\n",
       " array([[0.00910979]]),\n",
       " array([[0.00797973]]),\n",
       " array([[0.00785804]]),\n",
       " array([[0.00522034]]),\n",
       " array([[0.0028831]]),\n",
       " array([[0.00224911]]),\n",
       " array([[0.00216803]]),\n",
       " array([[0.00181807]]),\n",
       " array([[0.00137341]]),\n",
       " array([[0.0009726]]),\n",
       " array([[-0.00178431]]),\n",
       " array([[-0.01704334]])]"
      ]
     },
     "execution_count": 58,
     "metadata": {},
     "output_type": "execute_result"
    }
   ],
   "source": [
    "sorted(lsa_sims, reverse=True)"
   ]
  },
  {
   "cell_type": "code",
   "execution_count": 10,
   "metadata": {},
   "outputs": [],
   "source": [
    "lsa_sims = [cosine_similarity(np.asmatrix(dtm_lsa)[1],np.asmatrix(dtm_lsa)[i])for i in [40,16, 28,65,76,16,2,10]]\n",
    "doc2vec_sims = [model.docvecs.similarity(1, i) for i in range(0,79)]"
   ]
  },
  {
   "cell_type": "code",
   "execution_count": 11,
   "metadata": {},
   "outputs": [
    {
     "data": {
      "text/plain": [
       "array([28, 44, 49, 26, 68, 40,  1])"
      ]
     },
     "execution_count": 11,
     "metadata": {},
     "output_type": "execute_result"
    }
   ],
   "source": [
    "np.array(doc2vec_sims).argsort()[-7:][::1]"
   ]
  },
  {
   "cell_type": "code",
   "execution_count": 42,
   "metadata": {},
   "outputs": [
    {
     "data": {
      "text/plain": [
       "array([ 7, 33, 20, 71, 13,  9,  4])"
      ]
     },
     "execution_count": 42,
     "metadata": {},
     "output_type": "execute_result"
    }
   ],
   "source": [
    "np.array(doc2vec_sims).argsort()[0:7]"
   ]
  },
  {
   "cell_type": "code",
   "execution_count": 37,
   "metadata": {},
   "outputs": [],
   "source": [
    "doc2vec_sims = [model.docvecs.similarity(49, i) for i in range(0,79)]"
   ]
  },
  {
   "cell_type": "code",
   "execution_count": 38,
   "metadata": {},
   "outputs": [
    {
     "data": {
      "text/html": [
       "<div>\n",
       "<style scoped>\n",
       "    .dataframe tbody tr th:only-of-type {\n",
       "        vertical-align: middle;\n",
       "    }\n",
       "\n",
       "    .dataframe tbody tr th {\n",
       "        vertical-align: top;\n",
       "    }\n",
       "\n",
       "    .dataframe thead th {\n",
       "        text-align: right;\n",
       "    }\n",
       "</style>\n",
       "<table border=\"1\" class=\"dataframe\">\n",
       "  <thead>\n",
       "    <tr style=\"text-align: right;\">\n",
       "      <th></th>\n",
       "      <th>screen_name</th>\n",
       "      <th>documents</th>\n",
       "      <th>textblob_polarity</th>\n",
       "      <th>textblob_subjectivity</th>\n",
       "      <th>vader_polarity</th>\n",
       "      <th>grouped_sentiment</th>\n",
       "    </tr>\n",
       "  </thead>\n",
       "  <tbody>\n",
       "    <tr>\n",
       "      <th>0</th>\n",
       "      <td>511SFBay</td>\n",
       "      <td>today tomorrow day visit learn green commute  ...</td>\n",
       "      <td>0.005019</td>\n",
       "      <td>0.312647</td>\n",
       "      <td>-0.273358</td>\n",
       "      <td>-0.217682</td>\n",
       "    </tr>\n",
       "    <tr>\n",
       "      <th>1</th>\n",
       "      <td>ABCPolitics</td>\n",
       "      <td>president trump threaten pull federal funding ...</td>\n",
       "      <td>0.073089</td>\n",
       "      <td>0.341123</td>\n",
       "      <td>0.033277</td>\n",
       "      <td>0.041240</td>\n",
       "    </tr>\n",
       "    <tr>\n",
       "      <th>2</th>\n",
       "      <td>AdorabIeDog</td>\n",
       "      <td>dog rescue friend slip fall water  dog rescue ...</td>\n",
       "      <td>0.141060</td>\n",
       "      <td>0.383278</td>\n",
       "      <td>0.219881</td>\n",
       "      <td>0.204117</td>\n",
       "    </tr>\n",
       "    <tr>\n",
       "      <th>3</th>\n",
       "      <td>AndrewYNg</td>\n",
       "      <td>apparently 20 year ago already contribute face...</td>\n",
       "      <td>0.198599</td>\n",
       "      <td>0.424465</td>\n",
       "      <td>0.315762</td>\n",
       "      <td>0.292330</td>\n",
       "    </tr>\n",
       "    <tr>\n",
       "      <th>4</th>\n",
       "      <td>BarackObama</td>\n",
       "      <td>veteran family thank tribute truly match magni...</td>\n",
       "      <td>0.140160</td>\n",
       "      <td>0.336449</td>\n",
       "      <td>0.215674</td>\n",
       "      <td>0.200571</td>\n",
       "    </tr>\n",
       "  </tbody>\n",
       "</table>\n",
       "</div>"
      ],
      "text/plain": [
       "   screen_name                                          documents  \\\n",
       "0     511SFBay  today tomorrow day visit learn green commute  ...   \n",
       "1  ABCPolitics  president trump threaten pull federal funding ...   \n",
       "2  AdorabIeDog  dog rescue friend slip fall water  dog rescue ...   \n",
       "3    AndrewYNg  apparently 20 year ago already contribute face...   \n",
       "4  BarackObama  veteran family thank tribute truly match magni...   \n",
       "\n",
       "   textblob_polarity  textblob_subjectivity  vader_polarity  grouped_sentiment  \n",
       "0           0.005019               0.312647       -0.273358          -0.217682  \n",
       "1           0.073089               0.341123        0.033277           0.041240  \n",
       "2           0.141060               0.383278        0.219881           0.204117  \n",
       "3           0.198599               0.424465        0.315762           0.292330  \n",
       "4           0.140160               0.336449        0.215674           0.200571  "
      ]
     },
     "execution_count": 38,
     "metadata": {},
     "output_type": "execute_result"
    }
   ],
   "source": [
    "data.head()"
   ]
  },
  {
   "cell_type": "code",
   "execution_count": 39,
   "metadata": {},
   "outputs": [
    {
     "data": {
      "text/plain": [
       "array([0.9029001 , 0.77956975, 0.6192051 , 0.6747613 , 0.5449426 ,\n",
       "       0.7348848 , 0.64165384, 0.35856128, 0.7979608 , 0.5305665 ,\n",
       "       0.86173123, 0.767712  , 0.74329805, 0.47159705, 0.7602583 ,\n",
       "       0.8019368 , 0.84757096, 0.6093946 , 0.83356225, 0.7438589 ,\n",
       "       0.4585169 , 0.5474657 , 0.74953806, 0.9298018 , 0.8530065 ,\n",
       "       0.778268  , 0.79010665, 0.61197466, 0.81780607, 0.61365694,\n",
       "       0.6498145 , 0.68514866, 0.74018383, 0.3828479 , 0.76451415,\n",
       "       0.7675094 , 0.84802365, 0.7801556 , 0.76678103, 0.8722248 ,\n",
       "       0.74777097, 0.80537945, 0.8528765 , 0.76564336, 0.7570099 ,\n",
       "       0.8337442 , 0.85275227, 0.8909317 , 0.90009904, 1.        ,\n",
       "       0.9159315 , 0.6633212 , 0.7974124 , 0.783824  , 0.84218127,\n",
       "       0.8092483 , 0.91562086, 0.6314177 , 0.8638426 , 0.615533  ,\n",
       "       0.8561782 , 0.79286915, 0.7555588 , 0.8866554 , 0.8379887 ,\n",
       "       0.8003742 , 0.6912487 , 0.7300662 , 0.90771705, 0.8913954 ,\n",
       "       0.8192739 , 0.46847522, 0.6182244 , 0.8400572 , 0.6748078 ,\n",
       "       0.7490306 , 0.90135044, 0.55322933, 0.8664846 ], dtype=float32)"
      ]
     },
     "execution_count": 39,
     "metadata": {},
     "output_type": "execute_result"
    }
   ],
   "source": [
    "np.array(doc2vec_sims)"
   ]
  },
  {
   "cell_type": "code",
   "execution_count": 40,
   "metadata": {},
   "outputs": [
    {
     "data": {
      "text/html": [
       "<div>\n",
       "<style scoped>\n",
       "    .dataframe tbody tr th:only-of-type {\n",
       "        vertical-align: middle;\n",
       "    }\n",
       "\n",
       "    .dataframe tbody tr th {\n",
       "        vertical-align: top;\n",
       "    }\n",
       "\n",
       "    .dataframe thead th {\n",
       "        text-align: right;\n",
       "    }\n",
       "</style>\n",
       "<table border=\"1\" class=\"dataframe\">\n",
       "  <thead>\n",
       "    <tr style=\"text-align: right;\">\n",
       "      <th></th>\n",
       "      <th>screen_name</th>\n",
       "      <th>documents</th>\n",
       "      <th>textblob_polarity</th>\n",
       "      <th>textblob_subjectivity</th>\n",
       "      <th>vader_polarity</th>\n",
       "      <th>grouped_sentiment</th>\n",
       "    </tr>\n",
       "  </thead>\n",
       "  <tbody>\n",
       "    <tr>\n",
       "      <th>0</th>\n",
       "      <td>511SFBay</td>\n",
       "      <td>today tomorrow day visit learn green commute  ...</td>\n",
       "      <td>0.005019</td>\n",
       "      <td>0.312647</td>\n",
       "      <td>-0.273358</td>\n",
       "      <td>-0.217682</td>\n",
       "    </tr>\n",
       "    <tr>\n",
       "      <th>68</th>\n",
       "      <td>sfchronicle</td>\n",
       "      <td>air another danger fire survivor butte county ...</td>\n",
       "      <td>0.088947</td>\n",
       "      <td>0.348106</td>\n",
       "      <td>0.031441</td>\n",
       "      <td>0.042942</td>\n",
       "    </tr>\n",
       "    <tr>\n",
       "      <th>56</th>\n",
       "      <td>fteconomics</td>\n",
       "      <td>week ahead single day powell walmart  wall str...</td>\n",
       "      <td>0.029378</td>\n",
       "      <td>0.183336</td>\n",
       "      <td>-0.029790</td>\n",
       "      <td>-0.017956</td>\n",
       "    </tr>\n",
       "    <tr>\n",
       "      <th>50</th>\n",
       "      <td>data4democracy</td>\n",
       "      <td>dear internet feel read open source initiative...</td>\n",
       "      <td>0.141787</td>\n",
       "      <td>0.332241</td>\n",
       "      <td>0.191890</td>\n",
       "      <td>0.181870</td>\n",
       "    </tr>\n",
       "    <tr>\n",
       "      <th>23</th>\n",
       "      <td>JeffBezos</td>\n",
       "      <td>yep lucky expose tech cod young age inspire li...</td>\n",
       "      <td>0.264816</td>\n",
       "      <td>0.454217</td>\n",
       "      <td>0.477304</td>\n",
       "      <td>0.434806</td>\n",
       "    </tr>\n",
       "    <tr>\n",
       "      <th>49</th>\n",
       "      <td>chrisalbon</td>\n",
       "      <td>colleague endorse say highlight skill say    k...</td>\n",
       "      <td>0.062657</td>\n",
       "      <td>0.266037</td>\n",
       "      <td>0.070086</td>\n",
       "      <td>0.068600</td>\n",
       "    </tr>\n",
       "  </tbody>\n",
       "</table>\n",
       "</div>"
      ],
      "text/plain": [
       "       screen_name                                          documents  \\\n",
       "0         511SFBay  today tomorrow day visit learn green commute  ...   \n",
       "68     sfchronicle  air another danger fire survivor butte county ...   \n",
       "56     fteconomics  week ahead single day powell walmart  wall str...   \n",
       "50  data4democracy  dear internet feel read open source initiative...   \n",
       "23       JeffBezos  yep lucky expose tech cod young age inspire li...   \n",
       "49      chrisalbon  colleague endorse say highlight skill say    k...   \n",
       "\n",
       "    textblob_polarity  textblob_subjectivity  vader_polarity  \\\n",
       "0            0.005019               0.312647       -0.273358   \n",
       "68           0.088947               0.348106        0.031441   \n",
       "56           0.029378               0.183336       -0.029790   \n",
       "50           0.141787               0.332241        0.191890   \n",
       "23           0.264816               0.454217        0.477304   \n",
       "49           0.062657               0.266037        0.070086   \n",
       "\n",
       "    grouped_sentiment  \n",
       "0           -0.217682  \n",
       "68           0.042942  \n",
       "56          -0.017956  \n",
       "50           0.181870  \n",
       "23           0.434806  \n",
       "49           0.068600  "
      ]
     },
     "execution_count": 40,
     "metadata": {},
     "output_type": "execute_result"
    }
   ],
   "source": [
    "data.iloc[np.array(doc2vec_sims).argsort()[-6:]]\n"
   ]
  },
  {
   "cell_type": "code",
   "execution_count": 15,
   "metadata": {},
   "outputs": [
    {
     "data": {
      "text/html": [
       "<div>\n",
       "<style scoped>\n",
       "    .dataframe tbody tr th:only-of-type {\n",
       "        vertical-align: middle;\n",
       "    }\n",
       "\n",
       "    .dataframe tbody tr th {\n",
       "        vertical-align: top;\n",
       "    }\n",
       "\n",
       "    .dataframe thead th {\n",
       "        text-align: right;\n",
       "    }\n",
       "</style>\n",
       "<table border=\"1\" class=\"dataframe\">\n",
       "  <thead>\n",
       "    <tr style=\"text-align: right;\">\n",
       "      <th></th>\n",
       "      <th>screen_name</th>\n",
       "      <th>documents</th>\n",
       "      <th>textblob_polarity</th>\n",
       "      <th>textblob_subjectivity</th>\n",
       "      <th>vader_polarity</th>\n",
       "      <th>grouped_sentiment</th>\n",
       "    </tr>\n",
       "  </thead>\n",
       "  <tbody>\n",
       "    <tr>\n",
       "      <th>28</th>\n",
       "      <td>NPR</td>\n",
       "      <td>light camera action video vixen hendrix stea...</td>\n",
       "      <td>0.073925</td>\n",
       "      <td>0.340474</td>\n",
       "      <td>-0.025933</td>\n",
       "      <td>-0.005961</td>\n",
       "    </tr>\n",
       "    <tr>\n",
       "      <th>44</th>\n",
       "      <td>UpshotNYT</td>\n",
       "      <td>txsen year beto rourke blue get 148k vote hill...</td>\n",
       "      <td>0.121879</td>\n",
       "      <td>0.406701</td>\n",
       "      <td>0.152963</td>\n",
       "      <td>0.146746</td>\n",
       "    </tr>\n",
       "    <tr>\n",
       "      <th>49</th>\n",
       "      <td>chrisalbon</td>\n",
       "      <td>colleague endorse say highlight skill say    k...</td>\n",
       "      <td>0.062657</td>\n",
       "      <td>0.266037</td>\n",
       "      <td>0.070086</td>\n",
       "      <td>0.068600</td>\n",
       "    </tr>\n",
       "    <tr>\n",
       "      <th>26</th>\n",
       "      <td>Medium</td>\n",
       "      <td>glass block digital screen turn whatev device ...</td>\n",
       "      <td>0.081917</td>\n",
       "      <td>0.406497</td>\n",
       "      <td>0.034360</td>\n",
       "      <td>0.043872</td>\n",
       "    </tr>\n",
       "    <tr>\n",
       "      <th>68</th>\n",
       "      <td>sfchronicle</td>\n",
       "      <td>air another danger fire survivor butte county ...</td>\n",
       "      <td>0.088947</td>\n",
       "      <td>0.348106</td>\n",
       "      <td>0.031441</td>\n",
       "      <td>0.042942</td>\n",
       "    </tr>\n",
       "    <tr>\n",
       "      <th>40</th>\n",
       "      <td>TheAtlantic</td>\n",
       "      <td>ancestor carrot gnarl white root flowery plant...</td>\n",
       "      <td>0.077251</td>\n",
       "      <td>0.366507</td>\n",
       "      <td>0.024849</td>\n",
       "      <td>0.035329</td>\n",
       "    </tr>\n",
       "    <tr>\n",
       "      <th>1</th>\n",
       "      <td>ABCPolitics</td>\n",
       "      <td>president trump threaten pull federal funding ...</td>\n",
       "      <td>0.073089</td>\n",
       "      <td>0.341123</td>\n",
       "      <td>0.033277</td>\n",
       "      <td>0.041240</td>\n",
       "    </tr>\n",
       "  </tbody>\n",
       "</table>\n",
       "</div>"
      ],
      "text/plain": [
       "    screen_name                                          documents  \\\n",
       "28          NPR    light camera action video vixen hendrix stea...   \n",
       "44    UpshotNYT  txsen year beto rourke blue get 148k vote hill...   \n",
       "49   chrisalbon  colleague endorse say highlight skill say    k...   \n",
       "26       Medium  glass block digital screen turn whatev device ...   \n",
       "68  sfchronicle  air another danger fire survivor butte county ...   \n",
       "40  TheAtlantic  ancestor carrot gnarl white root flowery plant...   \n",
       "1   ABCPolitics  president trump threaten pull federal funding ...   \n",
       "\n",
       "    textblob_polarity  textblob_subjectivity  vader_polarity  \\\n",
       "28           0.073925               0.340474       -0.025933   \n",
       "44           0.121879               0.406701        0.152963   \n",
       "49           0.062657               0.266037        0.070086   \n",
       "26           0.081917               0.406497        0.034360   \n",
       "68           0.088947               0.348106        0.031441   \n",
       "40           0.077251               0.366507        0.024849   \n",
       "1            0.073089               0.341123        0.033277   \n",
       "\n",
       "    grouped_sentiment  \n",
       "28          -0.005961  \n",
       "44           0.146746  \n",
       "49           0.068600  \n",
       "26           0.043872  \n",
       "68           0.042942  \n",
       "40           0.035329  \n",
       "1            0.041240  "
      ]
     },
     "execution_count": 15,
     "metadata": {},
     "output_type": "execute_result"
    }
   ],
   "source": [
    "data.iloc[np.array(doc2vec_sims).argsort()[-7:][::1]]"
   ]
  },
  {
   "cell_type": "code",
   "execution_count": 14,
   "metadata": {},
   "outputs": [
    {
     "data": {
      "text/html": [
       "<div>\n",
       "<style scoped>\n",
       "    .dataframe tbody tr th:only-of-type {\n",
       "        vertical-align: middle;\n",
       "    }\n",
       "\n",
       "    .dataframe tbody tr th {\n",
       "        vertical-align: top;\n",
       "    }\n",
       "\n",
       "    .dataframe thead th {\n",
       "        text-align: right;\n",
       "    }\n",
       "</style>\n",
       "<table border=\"1\" class=\"dataframe\">\n",
       "  <thead>\n",
       "    <tr style=\"text-align: right;\">\n",
       "      <th></th>\n",
       "      <th>screen_name</th>\n",
       "      <th>documents</th>\n",
       "      <th>textblob_polarity</th>\n",
       "      <th>textblob_subjectivity</th>\n",
       "      <th>vader_polarity</th>\n",
       "      <th>grouped_sentiment</th>\n",
       "    </tr>\n",
       "  </thead>\n",
       "  <tbody>\n",
       "    <tr>\n",
       "      <th>20</th>\n",
       "      <td>HarvardHBS</td>\n",
       "      <td>join  congratulate colleague win grant  place ...</td>\n",
       "      <td>0.122919</td>\n",
       "      <td>0.321763</td>\n",
       "      <td>0.237178</td>\n",
       "      <td>0.214326</td>\n",
       "    </tr>\n",
       "    <tr>\n",
       "      <th>71</th>\n",
       "      <td>stat110</td>\n",
       "      <td>really like book spatial point pattern metho...</td>\n",
       "      <td>0.190641</td>\n",
       "      <td>0.401988</td>\n",
       "      <td>0.287484</td>\n",
       "      <td>0.268115</td>\n",
       "    </tr>\n",
       "    <tr>\n",
       "      <th>7</th>\n",
       "      <td>BillGates</td>\n",
       "      <td>share stage beaker poop china seriously  toile...</td>\n",
       "      <td>0.222909</td>\n",
       "      <td>0.463673</td>\n",
       "      <td>0.399805</td>\n",
       "      <td>0.364426</td>\n",
       "    </tr>\n",
       "    <tr>\n",
       "      <th>51</th>\n",
       "      <td>dpatil</td>\n",
       "      <td>security like air know thank veteran put life ...</td>\n",
       "      <td>0.137108</td>\n",
       "      <td>0.372440</td>\n",
       "      <td>0.159240</td>\n",
       "      <td>0.154813</td>\n",
       "    </tr>\n",
       "    <tr>\n",
       "      <th>13</th>\n",
       "      <td>Dropbox</td>\n",
       "      <td>dropbox rise beat estimate revenue earning    ...</td>\n",
       "      <td>0.185746</td>\n",
       "      <td>0.333141</td>\n",
       "      <td>0.348898</td>\n",
       "      <td>0.316267</td>\n",
       "    </tr>\n",
       "    <tr>\n",
       "      <th>57</th>\n",
       "      <td>github</td>\n",
       "      <td>fun fact 4 800 publicly accessible gov project...</td>\n",
       "      <td>0.097583</td>\n",
       "      <td>0.251243</td>\n",
       "      <td>0.183954</td>\n",
       "      <td>0.166680</td>\n",
       "    </tr>\n",
       "    <tr>\n",
       "      <th>17</th>\n",
       "      <td>Google</td>\n",
       "      <td>hmm let get connected google one expert plea...</td>\n",
       "      <td>0.105430</td>\n",
       "      <td>0.206924</td>\n",
       "      <td>0.364339</td>\n",
       "      <td>0.312557</td>\n",
       "    </tr>\n",
       "  </tbody>\n",
       "</table>\n",
       "</div>"
      ],
      "text/plain": [
       "   screen_name                                          documents  \\\n",
       "20  HarvardHBS  join  congratulate colleague win grant  place ...   \n",
       "71     stat110    really like book spatial point pattern metho...   \n",
       "7    BillGates  share stage beaker poop china seriously  toile...   \n",
       "51      dpatil  security like air know thank veteran put life ...   \n",
       "13     Dropbox  dropbox rise beat estimate revenue earning    ...   \n",
       "57      github  fun fact 4 800 publicly accessible gov project...   \n",
       "17      Google    hmm let get connected google one expert plea...   \n",
       "\n",
       "    textblob_polarity  textblob_subjectivity  vader_polarity  \\\n",
       "20           0.122919               0.321763        0.237178   \n",
       "71           0.190641               0.401988        0.287484   \n",
       "7            0.222909               0.463673        0.399805   \n",
       "51           0.137108               0.372440        0.159240   \n",
       "13           0.185746               0.333141        0.348898   \n",
       "57           0.097583               0.251243        0.183954   \n",
       "17           0.105430               0.206924        0.364339   \n",
       "\n",
       "    grouped_sentiment  \n",
       "20           0.214326  \n",
       "71           0.268115  \n",
       "7            0.364426  \n",
       "51           0.154813  \n",
       "13           0.316267  \n",
       "57           0.166680  \n",
       "17           0.312557  "
      ]
     },
     "execution_count": 14,
     "metadata": {},
     "output_type": "execute_result"
    }
   ],
   "source": [
    "data.iloc[np.array(doc2vec_sims).argsort()[0:7][::1]]"
   ]
  },
  {
   "cell_type": "markdown",
   "metadata": {},
   "source": [
    "It looks like LSA and Doc2Vec are giving very similar results.  They are very similar to nearly all of the other news media outlets, but differ much more in comparison to the cute doggo meme twitters.  "
   ]
  },
  {
   "cell_type": "code",
   "execution_count": 66,
   "metadata": {},
   "outputs": [
    {
     "name": "stdout",
     "output_type": "stream",
     "text": [
      "[('40', 0.8301066756248474), ('68', 0.8004077672958374), ('26', 0.7802059650421143), ('49', 0.779569685459137), ('44', 0.7786017060279846), ('28', 0.7784062027931213), ('23', 0.7777433395385742), ('78', 0.7591701745986938), ('47', 0.7572511434555054), ('76', 0.7485241889953613)]\n"
     ]
    }
   ],
   "source": [
    "print (model.docvecs.most_similar(1))\n"
   ]
  },
  {
   "cell_type": "code",
   "execution_count": 67,
   "metadata": {},
   "outputs": [],
   "source": [
    "kmeans = KMeans(n_clusters=8, init = 'k-means++', max_iter = 10000)\n",
    "X = kmeans.fit(model.docvecs.doctag_syn0)\n",
    "labels = kmeans.labels_.tolist()\n",
    "\n",
    "\n",
    "l = kmeans.fit_predict(model.docvecs.doctag_syn0)\n",
    "pca = PCA(n_components=2).fit(model.docvecs.doctag_syn0)\n",
    "point = pca.transform(model.docvecs.doctag_syn0)"
   ]
  },
  {
   "cell_type": "code",
   "execution_count": 68,
   "metadata": {
    "scrolled": false
   },
   "outputs": [
    {
     "data": {
      "image/png": "[encoded data removed]",
      "text/plain": [
       "<matplotlib.figure.Figure at 0x1a3c66f4a8>"
      ]
     },
     "metadata": {},
     "output_type": "display_data"
    }
   ],
   "source": [
    "label_colors = sns.color_palette(\"hls\", 8)\n",
    "color = [label_colors[i] for i in labels]\n",
    "plt.scatter(point[:, 0], point[:, 1], c = color)\n",
    "\n",
    "centroids = kmeans.cluster_centers_\n",
    "centroid = pca.transform(centroids)\n",
    "plt.scatter(centroid[:, 0], centroid[:, 1], marker='^', s=150)\n",
    "plt.xlabel('PC1')\n",
    "plt.ylabel('PC2')\n",
    "plt.title('K-Means Clustering (k = 8)')\n",
    "plt.show()\n"
   ]
  },
  {
   "cell_type": "code",
   "execution_count": 267,
   "metadata": {},
   "outputs": [],
   "source": [
    "import tweepy\n",
    "import cnfg\n",
    "from tqdm import tqdm\n",
    "from nltk.corpus import stopwords\n",
    "\n",
    "config = cnfg.load(\".twitter_config\")\n",
    "\n",
    "auth = tweepy.OAuthHandler(config[\"consumer_key\"],\n",
    "                           config[\"consumer_secret\"])\n",
    "auth.set_access_token(config[\"access_token\"],\n",
    "                      config[\"access_token_secret\"])\n",
    "\n",
    "api=tweepy.API(auth)"
   ]
  },
  {
   "cell_type": "code",
   "execution_count": 351,
   "metadata": {},
   "outputs": [
    {
     "name": "stderr",
     "output_type": "stream",
     "text": [
      "1501it [00:10, 146.96it/s]\n"
     ]
    }
   ],
   "source": [
    "tweet_dict_list = []\n",
    "tweets = tweepy.Cursor(api.user_timeline,\\\n",
    "                       screen_name='JoeBiden', tweet_mode='extended').items()\n",
    "for t in tqdm(tweets):\n",
    "    d = {}\n",
    "    d['full_text'] = t.full_text\n",
    "    d['screen_name'] = t.user.screen_name\n",
    "        \n",
    "    tweet_dict_list.append(d)\n"
   ]
  },
  {
   "cell_type": "code",
   "execution_count": 352,
   "metadata": {},
   "outputs": [],
   "source": [
    "def preprocessor(text):\n",
    "    text = re.sub('@[A-Za-z0-9]+', '', text)\n",
    "    text = re.sub('https?://[A-Za-z0-9./]+', '', text)\n",
    "    emoticons = re.findall('(?::|;|=)(?:-)?(?:\\)|\\(|D|P)', text)\n",
    "    text = (re.sub('[\\W]+', ' ', text.lower()))\n",
    "    return text + ' '"
   ]
  },
  {
   "cell_type": "code",
   "execution_count": 353,
   "metadata": {},
   "outputs": [],
   "source": [
    "test_df = pd.DataFrame(tweet_dict_list)\n"
   ]
  },
  {
   "cell_type": "code",
   "execution_count": 354,
   "metadata": {},
   "outputs": [],
   "source": [
    "test_df['filtered_tweets'] = test_df.full_text.apply(preprocessor)"
   ]
  },
  {
   "cell_type": "code",
   "execution_count": 355,
   "metadata": {},
   "outputs": [],
   "source": [
    "import spacy\n",
    "nlp = spacy.load('en')\n",
    "stop = stopwords.words('english')\n",
    "stop.append('rt')\n",
    "stop.append('amp')"
   ]
  },
  {
   "cell_type": "code",
   "execution_count": 356,
   "metadata": {},
   "outputs": [],
   "source": [
    "def lemmatize(tweet):\n",
    "    #only return lemmatized version of word if not in stopwords\n",
    "    return ' '.join([word.lemma_ for word in nlp(tweet) if str(word) not in stop])"
   ]
  },
  {
   "cell_type": "code",
   "execution_count": 357,
   "metadata": {},
   "outputs": [],
   "source": [
    "test_df['lemmatized'] = test_df.filtered_tweets.apply(lemmatize)"
   ]
  },
  {
   "cell_type": "code",
   "execution_count": 358,
   "metadata": {},
   "outputs": [],
   "source": [
    "test_user_df =  test_df.groupby('screen_name').lemmatized.sum()"
   ]
  },
  {
   "cell_type": "code",
   "execution_count": 359,
   "metadata": {},
   "outputs": [],
   "source": [
    "test_user_df.columns = ['documents']"
   ]
  },
  {
   "cell_type": "code",
   "execution_count": 360,
   "metadata": {},
   "outputs": [],
   "source": [
    "test_user_df= test_user_df.apply(lambda x: str(x).replace('-PRON-', ''))"
   ]
  },
  {
   "cell_type": "code",
   "execution_count": 365,
   "metadata": {},
   "outputs": [
    {
     "name": "stdout",
     "output_type": "stream",
     "text": [
      "V1_infer [ 30.222328   -2.267686  -26.961166   -6.93132    44.17862    53.29243\n",
      "  10.2984915  29.92831     6.0922832 -11.099875  -13.108197   15.428094\n",
      " -32.50573    27.642263  -11.899669   -1.6023028 -23.022455   53.178474\n",
      "  39.509468  -43.613953 ]\n",
      "[('76', 0.6422384977340698), ('7', 0.6161287426948547), ('18', 0.6117703914642334), ('24', 0.5830065011978149), ('73', 0.5643200874328613), ('35', 0.5557702779769897), ('56', 0.5512829422950745), ('69', 0.549140453338623), ('43', 0.5473175048828125), ('42', 0.546343207359314)]\n"
     ]
    }
   ],
   "source": [
    "test_data = word_tokenize(test_user_df.values[0])\n",
    "v1 = model.infer_vector(test_data)\n",
    "print(\"V1_infer\", v1)\n",
    "\n",
    "# to find most similar doc using tags\n",
    "similar_doc = model.docvecs.most_similar(4)\n"
   ]
  },
  {
   "cell_type": "code",
   "execution_count": 362,
   "metadata": {},
   "outputs": [
    {
     "data": {
      "text/plain": [
       "array([ 6, 54, 10, 17,  5])"
      ]
     },
     "execution_count": 362,
     "metadata": {},
     "output_type": "execute_result"
    }
   ],
   "source": [
    "arr = np.dot(v1,model.docvecs.doctag_syn0.T)\n",
    "arr.argsort()[-5:][::1]"
   ]
  },
  {
   "cell_type": "code",
   "execution_count": 394,
   "metadata": {},
   "outputs": [
    {
     "data": {
      "text/plain": [
       "array([  86.10771   ,  -40.158665  ,  -47.118996  ,   27.2679    ,\n",
       "         63.258884  ,  126.68082   ,  -70.38445   ,   98.54703   ,\n",
       "         90.64168   ,    0.61647344,  -47.26973   ,  149.50768   ,\n",
       "       -200.88237   ,   88.97751   ,  104.48781   ,   37.472267  ,\n",
       "       -197.55978   ,  154.55504   ,  193.16972   , -205.46513   ],\n",
       "      dtype=float32)"
      ]
     },
     "execution_count": 394,
     "metadata": {},
     "output_type": "execute_result"
    }
   ],
   "source": [
    "model.docvecs.doctag_syn0[0]"
   ]
  },
  {
   "cell_type": "code",
   "execution_count": 406,
   "metadata": {},
   "outputs": [
    {
     "data": {
      "text/plain": [
       "screen_name                                                         Google\n",
       "documents                  hmm let get connected google one expert plea...\n",
       "textblob_polarity                                                  0.10543\n",
       "textblob_subjectivity                                             0.206924\n",
       "vader_polarity                                                    0.364339\n",
       "grouped_sentiment                                                 0.312557\n",
       "Name: 17, dtype: object"
      ]
     },
     "execution_count": 406,
     "metadata": {},
     "output_type": "execute_result"
    }
   ],
   "source": [
    "data.iloc[17]"
   ]
  },
  {
   "cell_type": "code",
   "execution_count": null,
   "metadata": {},
   "outputs": [],
   "source": [
    "model.docvecs.doc"
   ]
  },
  {
   "cell_type": "code",
   "execution_count": 414,
   "metadata": {},
   "outputs": [],
   "source": [
    "biden_sims = [cosine_similarity(model.docvecs.doctag_syn0[i].reshape(1,-1),v1.reshape(1,-1)) for i in range(0,79)]"
   ]
  },
  {
   "cell_type": "code",
   "execution_count": 442,
   "metadata": {},
   "outputs": [
    {
     "data": {
      "text/plain": [
       "screen_name                                                        WSJecon\n",
       "documents                split congress several issue wrangle include u...\n",
       "textblob_polarity                                                0.0700652\n",
       "textblob_subjectivity                                              0.29025\n",
       "vader_polarity                                                   0.0559146\n",
       "grouped_sentiment                                                0.0587447\n",
       "Name: 46, dtype: object"
      ]
     },
     "execution_count": 442,
     "metadata": {},
     "output_type": "execute_result"
    }
   ],
   "source": [
    "data.iloc[-33]"
   ]
  },
  {
   "cell_type": "code",
   "execution_count": null,
   "metadata": {},
   "outputs": [],
   "source": [
    "biden_sims"
   ]
  },
  {
   "cell_type": "code",
   "execution_count": 440,
   "metadata": {},
   "outputs": [
    {
     "data": {
      "text/plain": [
       "array([[0.8880726]], dtype=float32)"
      ]
     },
     "execution_count": 440,
     "metadata": {},
     "output_type": "execute_result"
    }
   ],
   "source": [
    "biden_sims[-33]"
   ]
  },
  {
   "cell_type": "code",
   "execution_count": 424,
   "metadata": {
    "scrolled": true
   },
   "outputs": [
    {
     "data": {
      "text/plain": [
       "array([[0.9041705]], dtype=float32)"
      ]
     },
     "execution_count": 424,
     "metadata": {},
     "output_type": "execute_result"
    }
   ],
   "source": [
    "biden_sims[-11]"
   ]
  },
  {
   "cell_type": "code",
   "execution_count": 390,
   "metadata": {},
   "outputs": [
    {
     "data": {
      "text/plain": [
       "array([56063.19 , 59236.31 , 69923.59 , 55794.977, 50863.86 , 78485.47 ,\n",
       "       65819.33 , 40622.32 , 58068.92 , 49906.42 , 70638.21 , 57330.914,\n",
       "       74557.97 , 59709.6  , 65151.492, 64409.312, 72170.25 , 64408.54 ,\n",
       "       61479.04 , 68457.42 , 50719.4  , 45998.977, 67695.36 , 50255.887,\n",
       "       54484.28 , 58877.445, 66695.8  , 52617.22 , 52731.363, 64464.902,\n",
       "       54220.047, 70767.33 , 56810.188, 56828.137, 59902.215, 55999.562,\n",
       "       70761.58 , 63045.586, 61701.45 , 75175.56 , 50758.223, 66144.55 ,\n",
       "       65270.137, 60022.54 , 59318.68 , 61619.207, 63329.043, 52510.5  ,\n",
       "       61430.527, 52754.54 , 61790.406, 54309.406, 68504.4  , 55633.684,\n",
       "       74177.04 , 70375.75 , 70960.08 , 67035.08 , 63878.125, 54829.785,\n",
       "       65794.195, 69038.92 , 54169.848, 64426.164, 58189.85 , 75428.19 ,\n",
       "       63921.336, 53087.18 , 55368.95 , 64875.773, 66576.625, 53463.547,\n",
       "       51954.656, 69298.83 , 63720.727, 73149.3  , 64610.5  , 66652.04 ,\n",
       "       66193.64 ], dtype=float32)"
      ]
     },
     "execution_count": 390,
     "metadata": {},
     "output_type": "execute_result"
    }
   ],
   "source": [
    "np.dot(v1,model.docvecs.doctag_syn0.T)"
   ]
  },
  {
   "cell_type": "code",
   "execution_count": 364,
   "metadata": {},
   "outputs": [
    {
     "data": {
      "text/html": [
       "<div>\n",
       "<style scoped>\n",
       "    .dataframe tbody tr th:only-of-type {\n",
       "        vertical-align: middle;\n",
       "    }\n",
       "\n",
       "    .dataframe tbody tr th {\n",
       "        vertical-align: top;\n",
       "    }\n",
       "\n",
       "    .dataframe thead th {\n",
       "        text-align: right;\n",
       "    }\n",
       "</style>\n",
       "<table border=\"1\" class=\"dataframe\">\n",
       "  <thead>\n",
       "    <tr style=\"text-align: right;\">\n",
       "      <th></th>\n",
       "      <th>screen_name</th>\n",
       "      <th>documents</th>\n",
       "      <th>textblob_polarity</th>\n",
       "      <th>textblob_subjectivity</th>\n",
       "      <th>vader_polarity</th>\n",
       "      <th>grouped_sentiment</th>\n",
       "    </tr>\n",
       "  </thead>\n",
       "  <tbody>\n",
       "    <tr>\n",
       "      <th>39</th>\n",
       "      <td>TechCrunch</td>\n",
       "      <td>nest online estate agent make home seller chai...</td>\n",
       "      <td>0.077255</td>\n",
       "      <td>0.253428</td>\n",
       "      <td>0.083364</td>\n",
       "      <td>0.082142</td>\n",
       "    </tr>\n",
       "    <tr>\n",
       "      <th>60</th>\n",
       "      <td>kaggle</td>\n",
       "      <td>week kernelaward winner use 2018 kaggle machin...</td>\n",
       "      <td>0.161701</td>\n",
       "      <td>0.343893</td>\n",
       "      <td>0.271860</td>\n",
       "      <td>0.249828</td>\n",
       "    </tr>\n",
       "    <tr>\n",
       "      <th>6</th>\n",
       "      <td>BetoORourke</td>\n",
       "      <td>want say thank everyone make possible everyone...</td>\n",
       "      <td>0.141198</td>\n",
       "      <td>0.330936</td>\n",
       "      <td>0.261334</td>\n",
       "      <td>0.237307</td>\n",
       "    </tr>\n",
       "    <tr>\n",
       "      <th>54</th>\n",
       "      <td>espn</td>\n",
       "      <td>14 game win streak snap cal beat usc first tim...</td>\n",
       "      <td>0.082319</td>\n",
       "      <td>0.259345</td>\n",
       "      <td>0.116816</td>\n",
       "      <td>0.109917</td>\n",
       "    </tr>\n",
       "    <tr>\n",
       "      <th>10</th>\n",
       "      <td>CuteEmergency</td>\n",
       "      <td>cuteness overload mywinterfell siberian_huskie...</td>\n",
       "      <td>0.104839</td>\n",
       "      <td>0.236653</td>\n",
       "      <td>0.147562</td>\n",
       "      <td>0.139018</td>\n",
       "    </tr>\n",
       "    <tr>\n",
       "      <th>17</th>\n",
       "      <td>Google</td>\n",
       "      <td>hmm let get connected google one expert plea...</td>\n",
       "      <td>0.105430</td>\n",
       "      <td>0.206924</td>\n",
       "      <td>0.364339</td>\n",
       "      <td>0.312557</td>\n",
       "    </tr>\n",
       "    <tr>\n",
       "      <th>5</th>\n",
       "      <td>BernieSanders</td>\n",
       "      <td>difficult may seem today must never lose hope ...</td>\n",
       "      <td>0.111212</td>\n",
       "      <td>0.366544</td>\n",
       "      <td>0.130383</td>\n",
       "      <td>0.126549</td>\n",
       "    </tr>\n",
       "  </tbody>\n",
       "</table>\n",
       "</div>"
      ],
      "text/plain": [
       "      screen_name                                          documents  \\\n",
       "39     TechCrunch  nest online estate agent make home seller chai...   \n",
       "60         kaggle  week kernelaward winner use 2018 kaggle machin...   \n",
       "6     BetoORourke  want say thank everyone make possible everyone...   \n",
       "54           espn  14 game win streak snap cal beat usc first tim...   \n",
       "10  CuteEmergency  cuteness overload mywinterfell siberian_huskie...   \n",
       "17         Google    hmm let get connected google one expert plea...   \n",
       "5   BernieSanders  difficult may seem today must never lose hope ...   \n",
       "\n",
       "    textblob_polarity  textblob_subjectivity  vader_polarity  \\\n",
       "39           0.077255               0.253428        0.083364   \n",
       "60           0.161701               0.343893        0.271860   \n",
       "6            0.141198               0.330936        0.261334   \n",
       "54           0.082319               0.259345        0.116816   \n",
       "10           0.104839               0.236653        0.147562   \n",
       "17           0.105430               0.206924        0.364339   \n",
       "5            0.111212               0.366544        0.130383   \n",
       "\n",
       "    grouped_sentiment  \n",
       "39           0.082142  \n",
       "60           0.249828  \n",
       "6            0.237307  \n",
       "54           0.109917  \n",
       "10           0.139018  \n",
       "17           0.312557  \n",
       "5            0.126549  "
      ]
     },
     "execution_count": 364,
     "metadata": {},
     "output_type": "execute_result"
    }
   ],
   "source": [
    "data.iloc[arr.argsort()[-7:][::1]]"
   ]
  }
 ],
 "metadata": {
  "kernelspec": {
   "display_name": "Python 3",
   "language": "python",
   "name": "python3"
  },
  "language_info": {
   "codemirror_mode": {
    "name": "ipython",
    "version": 3
   },
   "file_extension": ".py",
   "mimetype": "text/x-python",
   "name": "python",
   "nbconvert_exporter": "python",
   "pygments_lexer": "ipython3",
   "version": "3.6.4"
  }
 },
 "nbformat": 4,
 "nbformat_minor": 2
}
