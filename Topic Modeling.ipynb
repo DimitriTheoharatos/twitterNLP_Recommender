{
 "cells": [
  {
   "cell_type": "markdown",
   "metadata": {},
   "source": [
    "For topic modeling, I think it would be useful to use the document per twitter user information rather than doing the analysis on a per-tweet basis. This is because tweets at an individual level wil not convey much meaning, mostly because there is a max limit of 140 characters.  By aggregating each tweet per user, we get more robust documents that will likely do better with topic modeling. "
   ]
  },
  {
   "cell_type": "code",
   "execution_count": 1,
   "metadata": {},
   "outputs": [],
   "source": [
    "\n",
    "import gensim\n",
    "import pyLDAvis\n",
    "from pyLDAvis import gensim as gensimvis\n",
    "from pyLDAvis import sklearn\n",
    "import spacy\n",
    "\n",
    "from sklearn.decomposition import TruncatedSVD\n",
    "from sklearn.decomposition import LatentDirichletAllocation\n",
    "from sklearn.feature_extraction.text import CountVectorizer\n",
    "from sklearn.feature_extraction.text import TfidfVectorizer \n",
    "from sklearn.preprocessing import Normalizer\n",
    "import pandas as pd\n",
    "import numpy as np\n",
    "import pprint as pp\n"
   ]
  },
  {
   "cell_type": "markdown",
   "metadata": {},
   "source": [
    "# Latent Dirichlet Allocation"
   ]
  },
  {
   "cell_type": "code",
   "execution_count": 2,
   "metadata": {},
   "outputs": [],
   "source": [
    "data = pd.read_csv('user_with_sentiment.csv')"
   ]
  },
  {
   "cell_type": "code",
   "execution_count": 3,
   "metadata": {},
   "outputs": [
    {
     "data": {
      "text/html": [
       "<div>\n",
       "<style scoped>\n",
       "    .dataframe tbody tr th:only-of-type {\n",
       "        vertical-align: middle;\n",
       "    }\n",
       "\n",
       "    .dataframe tbody tr th {\n",
       "        vertical-align: top;\n",
       "    }\n",
       "\n",
       "    .dataframe thead th {\n",
       "        text-align: right;\n",
       "    }\n",
       "</style>\n",
       "<table border=\"1\" class=\"dataframe\">\n",
       "  <thead>\n",
       "    <tr style=\"text-align: right;\">\n",
       "      <th></th>\n",
       "      <th>screen_name</th>\n",
       "      <th>documents</th>\n",
       "      <th>textblob_polarity</th>\n",
       "      <th>textblob_subjectivity</th>\n",
       "      <th>vader_polarity</th>\n",
       "      <th>grouped_sentiment</th>\n",
       "    </tr>\n",
       "  </thead>\n",
       "  <tbody>\n",
       "    <tr>\n",
       "      <th>0</th>\n",
       "      <td>511SFBay</td>\n",
       "      <td>today tomorrow day visit learn green commute  ...</td>\n",
       "      <td>0.005019</td>\n",
       "      <td>0.312647</td>\n",
       "      <td>-0.273358</td>\n",
       "      <td>-0.217682</td>\n",
       "    </tr>\n",
       "    <tr>\n",
       "      <th>1</th>\n",
       "      <td>ABCPolitics</td>\n",
       "      <td>president trump threaten pull federal funding ...</td>\n",
       "      <td>0.073089</td>\n",
       "      <td>0.341123</td>\n",
       "      <td>0.033277</td>\n",
       "      <td>0.041240</td>\n",
       "    </tr>\n",
       "    <tr>\n",
       "      <th>2</th>\n",
       "      <td>AdorabIeDog</td>\n",
       "      <td>dog rescue friend slip fall water  dog rescue ...</td>\n",
       "      <td>0.141060</td>\n",
       "      <td>0.383278</td>\n",
       "      <td>0.219881</td>\n",
       "      <td>0.204117</td>\n",
       "    </tr>\n",
       "    <tr>\n",
       "      <th>3</th>\n",
       "      <td>AndrewYNg</td>\n",
       "      <td>apparently 20 year ago already contribute face...</td>\n",
       "      <td>0.198599</td>\n",
       "      <td>0.424465</td>\n",
       "      <td>0.315762</td>\n",
       "      <td>0.292330</td>\n",
       "    </tr>\n",
       "    <tr>\n",
       "      <th>4</th>\n",
       "      <td>BarackObama</td>\n",
       "      <td>veteran family thank tribute truly match magni...</td>\n",
       "      <td>0.140160</td>\n",
       "      <td>0.336449</td>\n",
       "      <td>0.215674</td>\n",
       "      <td>0.200571</td>\n",
       "    </tr>\n",
       "  </tbody>\n",
       "</table>\n",
       "</div>"
      ],
      "text/plain": [
       "   screen_name                                          documents  \\\n",
       "0     511SFBay  today tomorrow day visit learn green commute  ...   \n",
       "1  ABCPolitics  president trump threaten pull federal funding ...   \n",
       "2  AdorabIeDog  dog rescue friend slip fall water  dog rescue ...   \n",
       "3    AndrewYNg  apparently 20 year ago already contribute face...   \n",
       "4  BarackObama  veteran family thank tribute truly match magni...   \n",
       "\n",
       "   textblob_polarity  textblob_subjectivity  vader_polarity  grouped_sentiment  \n",
       "0           0.005019               0.312647       -0.273358          -0.217682  \n",
       "1           0.073089               0.341123        0.033277           0.041240  \n",
       "2           0.141060               0.383278        0.219881           0.204117  \n",
       "3           0.198599               0.424465        0.315762           0.292330  \n",
       "4           0.140160               0.336449        0.215674           0.200571  "
      ]
     },
     "execution_count": 3,
     "metadata": {},
     "output_type": "execute_result"
    }
   ],
   "source": [
    "data.head()"
   ]
  },
  {
   "cell_type": "code",
   "execution_count": 42,
   "metadata": {},
   "outputs": [],
   "source": [
    "count = CountVectorizer( max_features = 40000, ngram_range=(1,2), min_df=3, max_df=0.4)"
   ]
  },
  {
   "cell_type": "code",
   "execution_count": 47,
   "metadata": {
    "scrolled": false
   },
   "outputs": [],
   "source": [
    "lda = LatentDirichletAllocation(n_topics = 10,\\\n",
    "                                learning_method='batch',max_iter=100)"
   ]
  },
  {
   "cell_type": "code",
   "execution_count": 48,
   "metadata": {},
   "outputs": [],
   "source": [
    "X = count.fit_transform(data.documents)"
   ]
  },
  {
   "cell_type": "code",
   "execution_count": 49,
   "metadata": {
    "scrolled": false
   },
   "outputs": [
    {
     "name": "stderr",
     "output_type": "stream",
     "text": [
      "/Users/dimitriostheoharatos/anaconda/envs/py36/lib/python3.6/site-packages/sklearn/decomposition/online_lda.py:294: DeprecationWarning: n_topics has been renamed to n_components in version 0.19 and will be removed in 0.21\n",
      "  DeprecationWarning)\n"
     ]
    }
   ],
   "source": [
    "X_topics = lda.fit_transform(X)"
   ]
  },
  {
   "cell_type": "markdown",
   "metadata": {},
   "source": [
    "Let's check out the top ten topics provided when using LDA several ngrams. After doing several combinations, it seemed that the best topic combinations were generated by bigrams and setting the max features to 30000. "
   ]
  },
  {
   "cell_type": "code",
   "execution_count": 50,
   "metadata": {},
   "outputs": [
    {
     "name": "stdout",
     "output_type": "stream",
     "text": [
      "Topic 1: \n",
      "khashoggi brett kavanaugh brexit tariff jamal jamal khashoggi trump say arabia saudi arabia caravan\n",
      "Topic 2: \n",
      "yc blockchain vr mit sponsor content disinformation tesla d4d autonomous combinator\n",
      "Topic 3: \n",
      "espn college football gameday clemson lssc ohio state td playoff oklahoma yard\n",
      "Topic 4: \n",
      "github cohn kaggle data science datum science datum scientist dropbox machine learn dataset data scientist\n",
      "Topic 5: \n",
      "lane block residual residual delay lane open capitol corridor capitol corridor southbound northbound rd\n",
      "Topic 6: \n",
      "lebron sctop10 nba chrome laker disability sctop10 via sox red sox jimmy\n",
      "Topic 7: \n",
      "president obama hillary medicare dreamer first lady bernie work family million american actonclimate american people\n",
      "Topic 8: \n",
      "datascience bigdata machinelearn bigdata datascience datascientist dm abdsc analytic see help machinelearning\n",
      "Topic 9: \n",
      "oakland town hall tesla campfire texan suspicious sanfrancisco san jose 49er rourke\n",
      "Topic 10: \n",
      "bart oakland rider hbs parking hbr transit fare subscriber fleet\n"
     ]
    }
   ],
   "source": [
    "n_top_words = 10\n",
    "feature_names = count.get_feature_names()\n",
    "for topic_idx, topic in enumerate(lda.components_):\n",
    "    print(\"Topic %d: \" % (topic_idx + 1))\n",
    "    print( \" \".join([feature_names[i] for i in topic.argsort()\\\n",
    "                     [:-n_top_words - 1:-1]]))"
   ]
  },
  {
   "cell_type": "code",
   "execution_count": 51,
   "metadata": {},
   "outputs": [],
   "source": [
    "prob_distributions = lda.components_ / lda.components_.sum(axis = 1)[:, np.newaxis]"
   ]
  },
  {
   "cell_type": "code",
   "execution_count": 52,
   "metadata": {
    "scrolled": false
   },
   "outputs": [
    {
     "data": {
      "text/html": [
       "\n",
       "<link rel=\"stylesheet\" type=\"text/css\" href=\"https://cdn.rawgit.com/bmabey/pyLDAvis/files/ldavis.v1.0.0.css\">\n",
       "\n",
       "\n",
       "<div id=\"ldavis_el13871121828079124059502964\"></div>\n",
       "<script type=\"text/javascript\">\n",
       "\n",
       "var ldavis_el13871121828079124059502964_data = {\"mdsDat\": {\"Freq\": [26.60748922877746, 17.42103150069452, 13.019628885160655, 9.346088463746733, 6.823834081733842, 6.490015040299663, 6.0230058749907975, 5.623511930439756, 5.165333513874316, 3.480061480282256], \"cluster\": [1, 1, 1, 1, 1, 1, 1, 1, 1, 1], \"topics\": [1, 2, 3, 4, 5, 6, 7, 8, 9, 10], \"x\": [0.11781935010079721, 0.1061179087626553, -0.14099955297589567, -0.05262941649974569, -0.369731547081458, 0.15149428388693287, 0.0072189429238793705, 0.053285417360353166, 0.08033736548828342, 0.047087248034197296], \"y\": [-0.10002669374338707, -0.13105187072190475, -0.03807698491853329, -0.10236110377165511, 0.047588434453066326, 0.08632735963275001, 0.05431600372827398, -0.05407934641589769, 0.3237745203765913, -0.08641031861930364]}, \"tinfo\": {\"Category\": [\"Default\", \"Default\", \"Default\", \"Default\", \"Default\", \"Default\", \"Default\", \"Default\", \"Default\", \"Default\", \"Default\", \"Default\", \"Default\", \"Default\", \"Default\", \"Default\", \"Default\", \"Default\", \"Default\", \"Default\", \"Default\", \"Default\", \"Default\", \"Default\", \"Default\", \"Default\", \"Default\", \"Default\", \"Default\", \"Default\", \"Topic1\", \"Topic1\", \"Topic1\", \"Topic1\", \"Topic1\", \"Topic1\", \"Topic1\", \"Topic1\", \"Topic1\", \"Topic1\", \"Topic1\", \"Topic1\", \"Topic1\", \"Topic1\", \"Topic1\", \"Topic1\", \"Topic1\", \"Topic1\", \"Topic1\", \"Topic1\", \"Topic1\", \"Topic1\", \"Topic1\", \"Topic1\", \"Topic1\", \"Topic1\", \"Topic1\", \"Topic1\", \"Topic1\", \"Topic1\", \"Topic1\", \"Topic1\", \"Topic1\", \"Topic1\", \"Topic1\", \"Topic1\", \"Topic1\", \"Topic1\", \"Topic1\", \"Topic1\", \"Topic1\", \"Topic1\", \"Topic1\", \"Topic1\", \"Topic1\", \"Topic1\", \"Topic1\", \"Topic1\", \"Topic1\", \"Topic1\", \"Topic1\", \"Topic1\", \"Topic1\", \"Topic1\", \"Topic1\", \"Topic1\", \"Topic1\", \"Topic1\", \"Topic1\", \"Topic1\", \"Topic1\", \"Topic1\", \"Topic1\", \"Topic1\", \"Topic1\", \"Topic2\", \"Topic2\", \"Topic2\", \"Topic2\", \"Topic2\", \"Topic2\", \"Topic2\", \"Topic2\", \"Topic2\", \"Topic2\", \"Topic2\", \"Topic2\", \"Topic2\", \"Topic2\", \"Topic2\", \"Topic2\", \"Topic2\", \"Topic2\", \"Topic2\", \"Topic2\", \"Topic2\", \"Topic2\", \"Topic2\", \"Topic2\", \"Topic2\", \"Topic2\", \"Topic2\", \"Topic2\", \"Topic2\", \"Topic2\", \"Topic2\", \"Topic2\", \"Topic2\", \"Topic2\", \"Topic2\", \"Topic2\", \"Topic2\", \"Topic2\", \"Topic2\", \"Topic2\", \"Topic2\", \"Topic2\", \"Topic2\", \"Topic2\", \"Topic2\", \"Topic2\", \"Topic2\", \"Topic2\", \"Topic2\", \"Topic2\", \"Topic2\", \"Topic2\", \"Topic2\", \"Topic2\", \"Topic2\", \"Topic2\", \"Topic2\", \"Topic2\", \"Topic2\", \"Topic2\", \"Topic2\", \"Topic2\", \"Topic2\", \"Topic2\", \"Topic2\", \"Topic2\", \"Topic2\", \"Topic2\", \"Topic2\", \"Topic3\", \"Topic3\", \"Topic3\", \"Topic3\", \"Topic3\", \"Topic3\", \"Topic3\", \"Topic3\", \"Topic3\", \"Topic3\", \"Topic3\", \"Topic3\", \"Topic3\", \"Topic3\", \"Topic3\", \"Topic3\", \"Topic3\", \"Topic3\", \"Topic3\", \"Topic3\", \"Topic3\", \"Topic3\", \"Topic3\", \"Topic3\", \"Topic3\", \"Topic3\", \"Topic3\", \"Topic3\", \"Topic3\", \"Topic3\", \"Topic3\", \"Topic3\", \"Topic3\", \"Topic3\", \"Topic3\", \"Topic3\", \"Topic3\", \"Topic3\", \"Topic3\", \"Topic3\", \"Topic3\", \"Topic3\", \"Topic3\", \"Topic3\", \"Topic3\", \"Topic3\", \"Topic3\", \"Topic3\", \"Topic3\", \"Topic3\", \"Topic3\", \"Topic3\", \"Topic3\", \"Topic3\", \"Topic3\", \"Topic3\", \"Topic3\", \"Topic3\", \"Topic3\", \"Topic3\", \"Topic3\", \"Topic3\", \"Topic3\", \"Topic3\", \"Topic4\", \"Topic4\", \"Topic4\", \"Topic4\", \"Topic4\", \"Topic4\", \"Topic4\", \"Topic4\", \"Topic4\", \"Topic4\", \"Topic4\", \"Topic4\", \"Topic4\", \"Topic4\", \"Topic4\", \"Topic4\", \"Topic4\", \"Topic4\", \"Topic4\", \"Topic4\", \"Topic4\", \"Topic4\", \"Topic4\", \"Topic4\", \"Topic4\", \"Topic4\", \"Topic4\", \"Topic4\", \"Topic4\", \"Topic4\", \"Topic4\", \"Topic4\", \"Topic4\", \"Topic4\", \"Topic4\", \"Topic4\", \"Topic4\", \"Topic4\", \"Topic4\", \"Topic4\", \"Topic4\", \"Topic4\", \"Topic4\", \"Topic4\", \"Topic4\", \"Topic4\", \"Topic4\", \"Topic4\", \"Topic4\", \"Topic4\", \"Topic4\", \"Topic4\", \"Topic4\", \"Topic4\", \"Topic4\", \"Topic4\", \"Topic4\", \"Topic4\", \"Topic4\", \"Topic4\", \"Topic4\", \"Topic4\", \"Topic4\", \"Topic5\", \"Topic5\", \"Topic5\", \"Topic5\", \"Topic5\", \"Topic5\", \"Topic5\", \"Topic5\", \"Topic5\", \"Topic5\", \"Topic5\", \"Topic5\", \"Topic5\", \"Topic5\", \"Topic5\", \"Topic5\", \"Topic5\", \"Topic5\", \"Topic5\", \"Topic5\", \"Topic5\", \"Topic5\", \"Topic5\", \"Topic5\", \"Topic5\", \"Topic5\", \"Topic5\", \"Topic5\", \"Topic5\", \"Topic5\", \"Topic5\", \"Topic5\", \"Topic5\", \"Topic5\", \"Topic5\", \"Topic5\", \"Topic5\", \"Topic5\", \"Topic5\", \"Topic5\", \"Topic5\", \"Topic5\", \"Topic5\", \"Topic5\", \"Topic5\", \"Topic5\", \"Topic5\", \"Topic5\", \"Topic6\", \"Topic6\", \"Topic6\", \"Topic6\", \"Topic6\", \"Topic6\", \"Topic6\", \"Topic6\", \"Topic6\", \"Topic6\", \"Topic6\", \"Topic6\", \"Topic6\", \"Topic6\", \"Topic6\", \"Topic6\", \"Topic6\", \"Topic6\", \"Topic6\", \"Topic6\", \"Topic6\", \"Topic6\", \"Topic6\", \"Topic6\", \"Topic6\", \"Topic6\", \"Topic6\", \"Topic6\", \"Topic6\", \"Topic6\", \"Topic6\", \"Topic6\", \"Topic6\", \"Topic6\", \"Topic6\", \"Topic6\", \"Topic6\", \"Topic6\", \"Topic6\", \"Topic6\", \"Topic6\", \"Topic6\", \"Topic6\", \"Topic6\", \"Topic6\", \"Topic6\", \"Topic6\", \"Topic6\", \"Topic6\", \"Topic6\", \"Topic6\", \"Topic6\", \"Topic6\", \"Topic6\", \"Topic6\", \"Topic6\", \"Topic6\", \"Topic6\", \"Topic6\", \"Topic6\", \"Topic6\", \"Topic6\", \"Topic6\", \"Topic6\", \"Topic7\", \"Topic7\", \"Topic7\", \"Topic7\", \"Topic7\", \"Topic7\", \"Topic7\", \"Topic7\", \"Topic7\", \"Topic7\", \"Topic7\", \"Topic7\", \"Topic7\", \"Topic7\", \"Topic7\", \"Topic7\", \"Topic7\", \"Topic7\", \"Topic7\", \"Topic7\", \"Topic7\", \"Topic7\", \"Topic7\", \"Topic7\", \"Topic7\", \"Topic7\", \"Topic7\", \"Topic7\", \"Topic7\", \"Topic7\", \"Topic7\", \"Topic7\", \"Topic7\", \"Topic7\", \"Topic7\", \"Topic7\", \"Topic7\", \"Topic7\", \"Topic7\", \"Topic7\", \"Topic7\", \"Topic7\", \"Topic7\", \"Topic7\", \"Topic7\", \"Topic7\", \"Topic7\", \"Topic7\", \"Topic7\", \"Topic7\", \"Topic7\", \"Topic7\", \"Topic7\", \"Topic7\", \"Topic7\", \"Topic7\", \"Topic7\", \"Topic7\", \"Topic7\", \"Topic7\", \"Topic7\", \"Topic8\", \"Topic8\", \"Topic8\", \"Topic8\", \"Topic8\", \"Topic8\", \"Topic8\", \"Topic8\", \"Topic8\", \"Topic8\", \"Topic8\", \"Topic8\", \"Topic8\", \"Topic8\", \"Topic8\", \"Topic8\", \"Topic8\", \"Topic8\", \"Topic8\", \"Topic8\", \"Topic8\", \"Topic8\", \"Topic8\", \"Topic8\", \"Topic8\", \"Topic8\", \"Topic8\", \"Topic8\", \"Topic8\", \"Topic8\", \"Topic8\", \"Topic8\", \"Topic8\", \"Topic8\", \"Topic8\", \"Topic8\", \"Topic8\", \"Topic8\", \"Topic8\", \"Topic8\", \"Topic8\", \"Topic8\", \"Topic8\", \"Topic8\", \"Topic8\", \"Topic8\", \"Topic8\", \"Topic8\", \"Topic8\", \"Topic8\", \"Topic8\", \"Topic8\", \"Topic8\", \"Topic9\", \"Topic9\", \"Topic9\", \"Topic9\", \"Topic9\", \"Topic9\", \"Topic9\", \"Topic9\", \"Topic9\", \"Topic9\", \"Topic9\", \"Topic9\", \"Topic9\", \"Topic9\", \"Topic9\", \"Topic9\", \"Topic9\", \"Topic9\", \"Topic9\", \"Topic9\", \"Topic9\", \"Topic9\", \"Topic9\", \"Topic9\", \"Topic9\", \"Topic9\", \"Topic9\", \"Topic9\", \"Topic9\", \"Topic9\", \"Topic9\", \"Topic9\", \"Topic9\", \"Topic9\", \"Topic9\", \"Topic9\", \"Topic9\", \"Topic9\", \"Topic9\", \"Topic9\", \"Topic9\", \"Topic9\", \"Topic9\", \"Topic9\", \"Topic9\", \"Topic9\", \"Topic9\", \"Topic9\", \"Topic9\", \"Topic10\", \"Topic10\", \"Topic10\", \"Topic10\", \"Topic10\", \"Topic10\", \"Topic10\", \"Topic10\", \"Topic10\", \"Topic10\", \"Topic10\", \"Topic10\", \"Topic10\", \"Topic10\", \"Topic10\", \"Topic10\", \"Topic10\", \"Topic10\", \"Topic10\", \"Topic10\", \"Topic10\", \"Topic10\", \"Topic10\", \"Topic10\", \"Topic10\", \"Topic10\", \"Topic10\", \"Topic10\", \"Topic10\", \"Topic10\", \"Topic10\", \"Topic10\", \"Topic10\", \"Topic10\", \"Topic10\", \"Topic10\", \"Topic10\", \"Topic10\", \"Topic10\", \"Topic10\", \"Topic10\", \"Topic10\", \"Topic10\", \"Topic10\", \"Topic10\", \"Topic10\", \"Topic10\", \"Topic10\", \"Topic10\", \"Topic10\", \"Topic10\", \"Topic10\", \"Topic10\", \"Topic10\", \"Topic10\", \"Topic10\", \"Topic10\", \"Topic10\", \"Topic10\", \"Topic10\", \"Topic10\", \"Topic10\", \"Topic10\", \"Topic10\", \"Topic10\", \"Topic10\", \"Topic10\", \"Topic10\"], \"Freq\": [2531.0, 1991.0, 1501.0, 1262.0, 1021.0, 999.0, 1098.0, 874.0, 1005.0, 755.0, 733.0, 745.0, 894.0, 836.0, 1161.0, 932.0, 658.0, 893.0, 566.0, 974.0, 616.0, 551.0, 625.0, 499.0, 487.0, 504.0, 555.0, 536.0, 553.0, 536.0, 206.48614335562954, 112.13738301512123, 111.15458360051412, 103.29216655315922, 102.30940894425615, 97.39529263609235, 96.41258671405447, 202.55305544110723, 89.53298883495326, 87.56738291094993, 82.6534017942992, 82.65337493964502, 81.67058771928814, 171.0993368981906, 74.79099036185788, 72.82537182793162, 70.85982064373819, 69.87701506493921, 517.3804343772742, 156.28529156854918, 67.91137192450978, 65.94579829043093, 63.980180081370115, 62.99742292365099, 62.99739510981493, 61.03182245369141, 122.94719827375376, 57.10059964210239, 55.13503506344268, 55.134986962181806, 284.4815997557464, 178.8829313316049, 145.5407578767447, 667.357309551778, 105.17402045045168, 456.9195600751558, 220.83101091433494, 210.17919035593246, 215.93258296641238, 141.93710182499058, 222.0033484782518, 136.18423083936997, 463.4559400622115, 120.70244065692202, 135.70094137706778, 264.65481592400744, 494.85004625669484, 395.2149812140768, 394.2155195502668, 309.6421372020362, 198.0032300223269, 421.8700035416355, 275.8302197094568, 275.5462744335946, 174.77726983975572, 628.1807942764167, 268.6909797783639, 301.735180860786, 219.9349592070864, 246.18858161954176, 209.28883845772012, 223.69254788456388, 251.68550306855676, 217.49230934412967, 200.4909411240586, 189.93401173741807, 104.26412602115046, 80.89961604569139, 157.77283495321302, 71.16440632640939, 69.21734909786493, 66.29678132897266, 65.32327365831841, 64.34965252480582, 62.40266433309232, 61.42919971045002, 198.68252499265273, 60.455645877724706, 54.614516181003886, 53.64102901817738, 115.782613591031, 47.7998829838112, 47.799850814647804, 96.4720372250595, 44.87933519955318, 44.87930791312191, 44.87930791312191, 43.905813341091765, 40.9852479369992, 40.9852439515061, 40.011698342074055, 39.03820339665908, 38.064686552998765, 38.06468023868365, 38.064676301696, 1133.6122328213341, 118.83906553849765, 139.4179178080726, 222.4184220028062, 119.18499540381096, 179.79146560827272, 139.24238566173145, 180.51134353787984, 197.3516851635977, 164.89675868807376, 60.30498416420766, 717.0645055795178, 185.93410982494927, 73.45730103565268, 115.40613531585451, 89.53545057706275, 94.9700494499702, 247.7949080700997, 123.42616470937011, 101.95521805831075, 140.49647045093977, 122.89823665212865, 158.4332116924186, 163.27675177418806, 123.8823301360419, 156.25194180330317, 214.33144521523582, 157.9593629612856, 141.5212924770891, 149.50728589509663, 177.71771465372527, 215.44193128133134, 162.55387380051195, 160.37104383109946, 176.24352509250136, 136.84973938743633, 153.15790438358894, 127.40095644681152, 131.41419503270288, 615.4435702251274, 100.47578120757196, 202.77330513484088, 88.89357073496352, 75.38096455301664, 70.55501748577248, 62.83355292277069, 61.8683216012004, 56.07725526428647, 53.18170967904035, 51.2513121382003, 45.460180172803135, 44.49501409586128, 160.05839675299586, 913.9117520134268, 38.70388558423484, 81.13222393146334, 129.22716774009623, 872.1310388038421, 127.04511236852916, 32.9128169602505, 32.91281416939872, 32.91279929507903, 32.91278948906166, 32.91275327140948, 32.91273946336268, 32.912732095626076, 105.25853554367015, 30.982433124556593, 30.01720666139227, 111.53344332976933, 328.2878152846619, 152.34123791475488, 90.42941752461499, 190.59991111714777, 83.49720386530211, 52.09489418712238, 50.2677682869611, 210.86137845221924, 262.893813111609, 259.71133244693027, 265.8205517816224, 113.75645045629356, 285.90194986229056, 581.8093014068276, 105.58510006599738, 237.96732077395603, 331.9969082785254, 168.05231313790583, 272.45636456360444, 448.0476565446912, 253.0878486435887, 254.3825187326604, 195.37722926623508, 260.65536284392334, 326.3744086168412, 245.32898657701168, 133.61349327299305, 136.4878791968348, 150.14918284637199, 209.46996288450438, 147.31675736826418, 139.42057658671484, 142.249416214126, 1500.3388433734863, 144.78870538356895, 108.61535086433067, 81.96123372356483, 77.20160138799628, 224.73739626061987, 62.922656410047175, 60.066833532317546, 48.64367587444044, 42.93205986984045, 36.26857060460774, 33.41277097420254, 106.6501690907339, 131.10903224008192, 26.74922295643808, 25.797327465020636, 25.79727880654785, 24.845384850627116, 24.845372937656503, 24.84536401741433, 81.89725237725347, 49.59231318051719, 22.94151287664965, 21.037668588152414, 47.58323661882487, 43.86978361661835, 20.085745058937885, 19.13380843389412, 19.13377359448466, 19.133752467867858, 74.34203181631001, 79.10548862346853, 94.08318241130843, 35.20857741691538, 246.6507073592424, 199.98579732185314, 257.45738755120243, 53.52285426236266, 103.30195197600233, 47.306568074403586, 44.708232156367764, 304.5164222052221, 83.09474633017585, 123.70352210342263, 143.24594100034562, 123.25675146039927, 116.98344034791947, 100.7427115087026, 98.0356537807426, 106.96871182443284, 103.35773835011987, 82.55038459691745, 80.51528578567472, 117.5870268707793, 181.6881807884737, 85.06169915395427, 92.02341781716198, 89.1696021473944, 96.27284024374882, 85.89229818344312, 86.31160596076856, 84.02087476301722, 84.68965415462334, 1020.7164614755125, 873.844058694083, 732.5845569361821, 657.7451640438571, 535.1954542923254, 436.96879169701646, 395.8071035375082, 996.4692456342507, 305.99976731259113, 287.2898333971027, 441.6462175961805, 162.86930041991906, 143.22397209455403, 1980.2324604132239, 533.3120180017204, 121.7076452741018, 246.12276475777153, 111.41722208649571, 110.48172132662843, 107.67441519928275, 101.12679555545628, 294.7738385809746, 95.51383674523233, 90.83637411413872, 88.96538840831423, 88.02989222727814, 87.0943987629387, 747.8512888567101, 86.15889574150796, 262.0316082664715, 1245.8528899538624, 732.3173826229568, 400.48457538735465, 541.74403388424, 2388.144973145707, 597.4450329493314, 401.9030554494761, 600.1162561231906, 170.3470021176081, 174.09525232113094, 157.25638444658023, 378.10389346656274, 931.894025700643, 199.49850782199943, 806.4863646198986, 675.8851673036044, 247.00963241306943, 249.7504998620951, 107.32747120105664, 95.2053230702473, 66.29872166248889, 62.56883689441927, 125.96793903291537, 97.9596446905622, 85.85640665164239, 31.79726398868607, 29.932332536637016, 29.93232824194381, 29.932325465401274, 61.60955848598185, 28.999838637346027, 27.13491551481582, 26.202432841817647, 24.337463448822714, 23.404997111560018, 270.14922909632753, 22.47254051621939, 22.472538189387762, 21.54007883447067, 21.540047554210954, 20.60760874756966, 20.60759754094428, 19.675143697186456, 19.675140725776647, 19.6751370367171, 19.675136464867457, 19.675128524495808, 19.675125346860796, 114.47797584212768, 39.02068830210454, 34.594688429719156, 58.560182277034066, 215.77938404325585, 155.94172251248048, 114.20491103571692, 75.47957813743398, 94.6253140441347, 120.59625165191864, 75.21043918205704, 82.50250633331375, 96.0166060434286, 113.3014463113054, 110.21036063063477, 109.94463282826449, 363.8094740799241, 132.74298039866454, 98.48256644836147, 86.39045738313594, 137.81620485301758, 45.54601192232603, 300.80523830834375, 100.8681213310693, 421.13560879109536, 171.3443131300625, 163.52128835069624, 125.633218056284, 158.04058249894385, 141.88387123227807, 127.73795472197652, 108.77512044763021, 133.676062471801, 116.70221827177754, 274.65314966773275, 50.181464373454034, 47.398778166045176, 46.47120320034043, 93.77724741049511, 40.90576880381011, 39.97817759082072, 78.93423212199544, 36.267912832092954, 88.87545182185244, 32.55766299592639, 60.3678508325536, 59.44286683092206, 55.7221541695849, 26.06467993576038, 51.096237449940375, 50.01452177916019, 20.499174923193593, 19.571688293819005, 19.571635103538796, 19.571630315246015, 18.64409107653002, 18.64407871271597, 18.643962109304386, 206.89474333715168, 57.60205009938617, 17.716523560494263, 17.71625585941275, 78.75940549383192, 75.22585455047025, 72.40457156867019, 279.4121044774351, 49.90012632105291, 32.46735948354552, 39.9749838708435, 109.86631298454469, 131.5350061910007, 106.58190301352255, 84.5015575917963, 175.2017215193105, 195.90632424229847, 72.17500428750763, 636.4380440243552, 216.9769029104227, 101.34713843827096, 151.4781243043316, 99.22883254286671, 126.66380476101168, 66.50552432484503, 94.63055627481478, 197.97169881157654, 104.38314911643114, 103.51277141855323, 297.85426021076194, 114.84190005217083, 94.59331278922798, 134.73196791837677, 85.51331830411425, 77.6077714722697, 98.16732211235995, 81.22737222404089, 275.12478977264163, 129.3021728069786, 128.37926770951393, 112.6894345101306, 96.99970489173768, 545.7848980161507, 82.23286973828809, 79.46401888210684, 73.92652365264252, 69.31187815406379, 62.85138043271793, 61.92845324120247, 61.92842331600528, 239.49173767991294, 206.69056189208325, 60.08258177894248, 60.0825682319506, 54.54503657556752, 54.545022973864214, 205.1701197709601, 112.60557060657231, 232.36789183316884, 46.23868389621225, 44.392830415471884, 44.392829234667275, 43.469891753294895, 43.46988726208982, 42.54697451025086, 42.54696067766174, 317.49761697927187, 120.99577371504573, 90.42361053650995, 122.84169987202765, 100.34302501956311, 117.44213434931717, 114.31114518586193, 166.0836483672039, 111.55735880832833, 156.75309742227833, 119.20047752603378, 140.0121078146874, 129.00085845250334, 189.02903411626343, 198.29029478354056, 121.75124265949906, 151.1643643141987, 101.66690991155403, 124.80314105256491, 159.24708189609473, 175.1578174185497, 144.1102057425278, 135.7333298138957, 116.06363875296871, 486.5006304212034, 355.50913325371306, 305.12777265692466, 564.3627412586488, 440.68859408719106, 197.03686766143278, 188.79261780351302, 155.8157674556439, 142.07538953281647, 141.15937515511433, 131.99911388928902, 265.72429201743574, 108.18248593472394, 106.3504296861449, 347.1630150034674, 84.36584713400403, 84.36584713400403, 69.70941711244717, 68.79343058406948, 68.79341340398415, 141.12107510442118, 62.381214232204634, 491.7683491536541, 106.34153860764701, 50.47290931994773, 99.93785494665613, 44.976701962599, 190.54482627102539, 42.228475660057924, 441.21152386806205, 492.2112741606536, 298.4645068402948, 261.1742931384074, 416.4356633775314, 429.47526338372165, 112.67235095895643, 394.13025029407584, 358.42230898077383, 206.59848956942415, 154.81569995037344, 198.69560378642666, 446.35320639123125, 281.0907203561976, 287.2140033624, 172.32366347593776, 164.07804626950303, 181.92253223468512, 238.72021822423287, 193.0112130319536, 43.255433410169495, 39.73161279681349, 31.802886644085216, 29.15998553815972, 26.517098775616983, 25.63613104911186, 24.75517000560035, 24.755144073864727, 22.112261456901457, 21.23129770083445, 20.350211439204507, 40.612587948832534, 18.588383601546315, 40.570389465030175, 49.35699752481019, 15.064530736275854, 14.182972695115843, 47.48076927481055, 13.302591598173734, 12.421623926252304, 12.421602623862707, 12.42158161782753, 11.540625816465496, 11.54060812308794, 11.540607985596255, 38.80784797500608, 72.37338371371801, 10.659688305681538, 10.659674531653557, 23.75136471563678, 22.06931862649077, 51.867699162723, 39.55917854505534, 222.70184567207457, 39.676593444847406, 42.8197416485574, 37.08872815316618, 28.15664838667346, 62.206091479431024, 28.908207385064955, 200.6218872790213, 30.38008593127112, 165.44435562529912, 54.96634480965603, 34.824476880328106, 77.14885865596875, 34.96969497732127, 41.250383844155174, 46.32254307507914, 53.648131773878156, 35.482352525459184, 39.167920531248235, 38.582080620172704, 64.42551710348138, 56.157696835737994, 61.01848338616755, 38.36976204518809, 57.19961112210131, 39.18128604712724, 49.20344214574356, 39.64378110018366, 50.41271581910042, 44.59265856199663, 46.525880140910445, 42.984973287331215, 47.35673445017658, 47.50475514453447, 40.22660904369801], \"Term\": [\"datascience\", \"bigdata\", \"yc\", \"machinelearn\", \"bigdata datascience\", \"datascientist\", \"dm\", \"abdsc\", \"analytic\", \"see help\", \"machinelearning\", \"deeplearn\", \"python\", \"bart\", \"president obama\", \"github\", \"abdsc bigdata\", \"cohn\", \"lane block\", \"oakland\", \"hmm\", \"espn\", \"let see\", \"residual delay\", \"lane open\", \"residual\", \"capitol\", \"share next\", \"please follow\", \"know share\", \"central bank\", \"jair\", \"jair bolsonaro\", \"blue wave\", \"ecb\", \"listen subscribe\", \"crown prince\", \"full report\", \"exit poll\", \"daily show\", \"rate rise\", \"job report\", \"win control\", \"eurozone\", \"khashoggi kill\", \"manchin\", \"financial time\", \"erdogan\", \"brexit\", \"governor race\", \"gubernatorial race\", \"extended interview\", \"lady melania\", \"khashoggi death\", \"republican chance\", \"bin salman\", \"abc news\", \"level since\", \"brexit deal\", \"george soro\", \"inflation\", \"interest rate\", \"turkish\", \"khashoggi\", \"approval rating\", \"jamal khashoggi\", \"fact check\", \"briefing\", \"britain\", \"bolsonaro\", \"senate race\", \"whitaker\", \"jamal\", \"merkel\", \"imf\", \"pre trump\", \"tariff\", \"arabia\", \"saudi arabia\", \"caravan\", \"control house\", \"trump say\", \"president donald\", \"fed\", \"italy\", \"brett kavanaugh\", \"trade war\", \"trevor\", \"amid\", \"sanction\", \"minister\", \"incumbent\", \"synagogue\", \"unemployment\", \"mueller\", \"actonclimate\", \"add name\", \"getcover\", \"sotu\", \"care bill\", \"trumpcare\", \"202 224\", \"weekly address\", \"irandeal\", \"justice reform\", \"care right\", \"work family\", \"military vet\", \"maddow\", \"political revolution\", \"witch hunt\", \"call senator\", \"strzok\", \"grassroots\", \"guarantee health\", \"224 3121\", \"3121\", \"goptaxscam\", \"stopkavanaugh\", \"medicareforall\", \"immigration system\", \"stop fight\", \"stand fight\", \"dreamactnow\", \"getcovered\", \"president obama\", \"raise voice\", \"lobbyist\", \"dreamer\", \"garland\", \"comey\", \"keep fight\", \"bronx\", \"million american\", \"aca\", \"equal pay\", \"hillary\", \"american people\", \"crowley\", \"collusion\", \"american worker\", \"watch president\", \"medicare\", \"woman right\", \"work people\", \"voice hear\", \"social security\", \"fight back\", \"gun violence\", \"make america\", \"accountable\", \"bernie\", \"daca\", \"health insurance\", \"wealthy\", \"obamacare\", \"first lady\", \"endorsement\", \"medicaid\", \"tax cut\", \"bernie sander\", \"hillary clinton\", \"taxpayer\", \"town hall\", \"kaggle\", \"quora\", \"git\", \"strataconf\", \"coursera\", \"upshot\", \"tossup\", \"siena\", \"viz\", \"kaggle competition\", \"new blog\", \"become data\", \"d4gx\", \"office hour\", \"github\", \"nate silver\", \"pull request\", \"glad could\", \"cohn\", \"mooc\", \"1st place\", \"jawbone\", \"markov\", \"ethic datum\", \"senate forecast\", \"apache spark\", \"hacker news\", \"comp\", \"upshot siena\", \"eng\", \"statistician\", \"dropbox\", \"blog post\", \"generic ballot\", \"meetup\", \"kernel\", \"imo\", \"thank glad\", \"hackathon\", \"probability\", \"thank kind\", \"kind word\", \"bayesian\", \"dataset\", \"data science\", \"skeptic\", \"open source\", \"datum scientist\", \"linkedin\", \"data scientist\", \"datum science\", \"ml\", \"big datum\", \"visualization\", \"deep learning\", \"machine learn\", \"machine learning\", \"sample\", \"thank share\", \"rstat\", \"python\", \"tutorial\", \"neural\", \"datascience\", \"yc\", \"d4d\", \"oculus\", \"crispr\", \"female founder\", \"sponsor content\", \"magic leap\", \"demo day\", \"headset\", \"datum democracy\", \"ico\", \"quantum computer\", \"emtechmit\", \"combinator\", \"russian propaganda\", \"tc\", \"entirely new\", \"htc\", \"hololen\", \"podcasting\", \"purchase ticket\", \"qualcomm\", \"day apply\", \"raise series\", \"technology review\", \"mit technology\", \"coinbase\", \"raise 25\", \"work startup\", \"smartwatch\", \"cryptocurrencie\", \"ticket today\", \"crypto\", \"continue create\", \"mit\", \"disinformation\", \"vr\", \"genome\", \"cryptocurrency\", \"window 10\", \"tcdisrupt\", \"blockchain\", \"gaming\", \"quantum\", \"autonomous\", \"alexa\", \"ipad\", \"pixel\", \"disrupt\", \"hardware\", \"acquire\", \"use ai\", \"echo\", \"android\", \"tesla\", \"intelligent\", \"computing\", \"gene\", \"newsletter\", \"battery\", \"automation\", \"berlin\", \"analytic\", \"bigdata datascience\", \"abdsc\", \"machinelearning\", \"abdsc bigdata\", \"share next\", \"datascience ai\", \"datascience machinelearning\", \"datascientist\", \"neuralnetwork\", \"bigdata analytic\", \"google account\", \"odsc\", \"dataliteracy\", \"bigdata\", \"know share\", \"machinelearn deeplearn\", \"step let\", \"machinelearn ai\", \"datascience machinelearn\", \"sign google\", \"machinelearning ai\", \"help hi\", \"bigdata machinelearn\", \"bigdata datascientist\", \"ai deeplearn\", \"machinelearning deeplearn\", \"datascience datascientist\", \"see help\", \"step verification\", \"account let\", \"machinelearn\", \"deeplearn\", \"ai machinelearn\", \"please follow\", \"datascience\", \"hmm\", \"help please\", \"let see\", \"reset password\", \"keep post\", \"follow step\", \"hope help\", \"dm\", \"help look\", \"analytic\", \"python\", \"iot\", \"email address\", \"butte county\", \"sfgiant\", \"flag warning\", \"sanjose\", \"butte\", \"mccovey\", \"willie mccovey\", \"oakland mayor\", \"cawx\", \"buttecounty\", \"campfire butte\", \"north bay\", \"falcon heavy\", \"detox center\", \"gusty\", \"helus\", \"county texas\", \"campfire\", \"legend willie\", \"propc\", \"solano county\", \"ron helus\", \"video live\", \"half moon\", \"fire crew\", \"williemccovey\", \"smoke campfire\", \"bay hill\", \"alaina\", \"moon bay\", \"el paso\", \"fire danger\", \"woolseyfire\", \"chp\", \"texan\", \"49er\", \"paso\", \"air quality\", \"live video\", \"willie\", \"pg\", \"000 acre\", \"falcon\", \"acre\", \"bayarea\", \"evacuation\", \"town hall\", \"raider\", \"highway\", \"red flag\", \"sheriff\", \"254\", \"tesla\", \"firefighter\", \"oakland\", \"suspicious\", \"sanfrancisco\", \"wildfire\", \"san jose\", \"rourke\", \"suspicious package\", \"prop\", \"beto\", \"official say\", \"hbs\", \"talk morning\", \"fare gate\", \"bart police\", \"train car\", \"sf station\", \"gate park\", \"new train\", \"site visit\", \"obama speak\", \"street station\", \"merritt\", \"lake merritt\", \"unlimited access\", \"cleanliness\", \"page story\", \"dubnation\", \"thousandoak\", \"merritt station\", \"get inform\", \"sanfrancisco bayarea\", \"substation\", \"board supervisor\", \"cut carbon\", \"hbr\", \"move another\", \"willie brown\", \"month private\", \"hvac\", \"escalator\", \"team follow\", \"rider\", \"outside land\", \"chron\", \"exclusive access\", \"clipper\", \"notify\", \"transbay\", \"thank report\", \"subscriber\", \"fare\", \"new car\", \"bart\", \"parking\", \"west oakland\", \"fleet\", \"ac\", \"gallery\", \"win ticket\", \"operator\", \"transit\", \"elevator\", \"macarthur\", \"oakland\", \"maintenance\", \"antioch\", \"sanfrancisco\", \"commute\", \"transit center\", \"gt gt\", \"lineup\", \"gameday\", \"heisman\", \"corso\", \"30 10\", \"espn app\", \"espn\", \"bama\", \"saban\", \"recedavis\", \"cfb\", \"nick saban\", \"corgi\", \"mayfield\", \"clemson\", \"ohio state\", \"buckeye\", \"baker mayfield\", \"playoff ranking\", \"espn espn\", \"td\", \"notre dame\", \"lssc\", \"lee corso\", \"fbs\", \"college gameday\", \"cfbplayoff\", \"saquon\", \"nfl draft\", \"barkley\", \"college football\", \"lsu\", \"30c\", \"penn state\", \"football playoff\", \"night show\", \"dame\", \"qb\", \"notre\", \"countdown\", \"show good\", \"penn\", \"cole\", \"oklahoma\", \"playoff\", \"usc\", \"shit\", \"good yet\", \"11 30\", \"ranking\", \"yard\", \"miami\", \"championship\", \"album\", \"lane open\", \"accident injury\", \"right lane\", \"lane block\", \"capitol corridor\", \"lane remain\", \"leave lane\", \"westbound 80\", \"due mechanical\", \"update accident\", \"update caltrain\", \"sf muni\", \"northbound 101\", \"remain block\", \"westbound\", \"101 south\", \"lane close\", \"southbound 880\", \"accident northbound\", \"westbound 580\", \"harvard18\", \"880 south\", \"residual delay\", \"westbound ca\", \"ave san\", \"tractor trailer\", \"left lane\", \"mechanical problem\", \"faculty member\", \"corridor\", \"residual\", \"due early\", \"eastbound\", \"northbound\", \"southbound\", \"resume normal\", \"rd\", \"mba\", \"mechanical\", \"train delay\", \"caltrain\", \"capitol\", \"muni\", \"ave\", \"680\", \"faculty\", \"880\", \"oakland\", \"bart\", \"mcgregor\", \"khabib\", \"conor mcgregor\", \"le veon\", \"nurmagomedov\", \"khabib nurmagomedov\", \"kawhi\", \"veon bell\", \"league source\", \"nfl network\", \"machado\", \"ufc\", \"timberwolf\", \"worklife\", \"disability right\", \"nadal\", \"kirsty\", \"right advocate\", \"zlatan\", \"nfl history\", \"clayton kershaw\", \"first pitch\", \"carmelo\", \"clarkson\", \"manny machado\", \"talk help\", \"laker\", \"jalen ramsey\", \"open final\", \"manny\", \"kershaw\", \"melinda\", \"jimmy butler\", \"lebron\", \"try identify\", \"prevent happen\", \"share concern\", \"veon\", \"sctop10 via\", \"full talk\", \"sctop10\", \"talk watch\", \"nba\", \"home run\", \"zion\", \"chrome\", \"independently\", \"butler\", \"steph\", \"aaron\", \"conor\", \"serena\", \"mlb\", \"disability\", \"jimmy\", \"sox\", \"malaria\", \"red sox\", \"ellen\", \"world cup\", \"brady\", \"world series\", \"source tell\", \"watch full\", \"cleveland\", \"organizer\", \"android\", \"mvp\"], \"Total\": [2531.0, 1991.0, 1501.0, 1262.0, 1021.0, 999.0, 1098.0, 874.0, 1005.0, 755.0, 733.0, 745.0, 894.0, 836.0, 1161.0, 932.0, 658.0, 893.0, 566.0, 974.0, 616.0, 551.0, 625.0, 499.0, 487.0, 504.0, 555.0, 536.0, 553.0, 536.0, 207.32675652687453, 112.97801594272576, 111.99521657197062, 104.13282097599335, 103.15002333530892, 98.23602036071098, 97.25322589555489, 204.36070999487123, 90.37363027803656, 88.40803098061087, 83.49403538055364, 83.49403466975426, 82.51123443861887, 172.87320973993968, 75.63163908654191, 73.66604005916842, 71.70044327546583, 70.71764348809312, 523.6360258368876, 158.1767700545397, 68.75204229860135, 66.78644494027995, 64.82084562566281, 63.8380478586146, 63.83804635936883, 61.87244913573759, 124.740709394981, 57.941251642269705, 55.97565350205982, 55.97565082820333, 289.75214055772494, 181.7233571685302, 148.3233516967098, 691.2403359920617, 107.016248840222, 473.29984661716384, 226.88755284976125, 216.0964857714513, 222.66600652364812, 145.32770773625094, 229.66872975075717, 139.49010394112537, 487.2553235878795, 123.76759634026224, 140.32546681554993, 283.8105575495529, 549.5938590028097, 434.4488755805516, 433.46568959407296, 339.42536861660614, 210.74897696655864, 479.7980884677847, 304.94370161555304, 307.2672382859549, 187.09441637968712, 802.0486278478469, 310.5798520308662, 357.50480066227243, 250.20427790510178, 289.2400022466778, 236.10747292177237, 285.81155727962516, 364.6953606204949, 288.43145082584823, 258.8667933511808, 190.77556631708813, 105.10568096671356, 81.7411668557773, 159.58350428682266, 72.00595280052677, 70.0589096676767, 67.13834512400632, 66.16482399933184, 65.19130096799184, 63.2442584710864, 62.27073887618809, 201.43641763497968, 61.29721673681079, 55.45608866308978, 54.482567490927146, 117.77229853643885, 48.641438417473154, 48.64143830010341, 98.23334262216041, 45.72087460472516, 45.720873632025416, 45.720873632025416, 44.7473532111576, 41.826788856212275, 41.826788734345236, 40.853266897276285, 39.8797458823424, 38.90622471369313, 38.90622436643473, 38.90622419184175, 1161.3485368730642, 121.46778556964678, 144.08262889630132, 232.0927020945808, 123.63665926563661, 188.83756798920214, 145.92897949240128, 193.4822693622824, 212.74702614711643, 178.02699442086384, 62.212311022028864, 845.9780786195764, 204.4965374724345, 76.8980964516287, 125.63827910427385, 95.38586420176054, 101.91636998959503, 302.07605133083456, 136.89840560010643, 110.67778037543195, 160.02657251500594, 138.12820455036788, 188.84231386038206, 196.1859037524951, 141.28228174967703, 188.07737583991707, 279.6225302021057, 194.76710024504172, 171.09124512720194, 184.88438672430817, 238.06635957031392, 316.66572744040275, 228.3417941499733, 230.19641742445427, 309.76023008206164, 189.1021212690734, 281.3504195915918, 155.4976799583042, 505.69574969977816, 619.5200781715295, 101.31816972456238, 204.56294188688236, 89.7359456170806, 76.22334993396444, 71.39742320153454, 63.67594007136902, 62.71075498327327, 56.91964176216281, 54.02408581967106, 52.09371425197875, 46.302601226688296, 45.33741712300398, 163.1089409782961, 932.1012662379336, 39.54630315377114, 82.96584630193018, 132.2225380655416, 893.121334022208, 130.20032337508403, 33.7551924943259, 33.75519249516512, 33.75519195419151, 33.7551924066229, 33.75519113026852, 33.75519010465893, 33.75519079615118, 107.99625461113986, 31.824821913357557, 30.859635033924036, 115.67808216322993, 349.0928670475008, 160.002925905091, 94.62191394253578, 203.31438709690937, 87.69894900637874, 54.043918573449645, 52.10220938824086, 230.23246783937302, 294.36756916352107, 293.3074084590899, 303.9138035124594, 125.11405421924889, 347.6162215775573, 790.5409346286439, 117.76173973619983, 297.1938648103229, 435.92022166919776, 204.09101077364951, 368.44372254638716, 681.8102825778492, 372.4921223963281, 376.8623092970347, 265.17923021239204, 441.5107031810597, 625.5678688786588, 501.58143556298097, 172.45252131122518, 205.68185378784798, 278.7189844271236, 894.2472294827285, 315.11607835029446, 325.52604123048906, 2531.1432303191764, 1501.1825577347415, 145.63244151230228, 109.45905293046525, 82.80497612322795, 78.045321181985, 227.54302421919655, 63.76635240926361, 60.910558324135884, 49.487383527233725, 43.77579651684181, 37.11227724576721, 34.256483463081565, 109.48641227237775, 135.241217730528, 27.592965185166303, 26.641033300210502, 26.641032584056905, 25.689100946525244, 25.689100880580696, 25.689102091466705, 84.73623260678903, 51.40454278880167, 23.785239280726998, 21.88137683989101, 49.502148489497834, 45.693110840658825, 20.929445705493162, 19.97751416909964, 19.977513894266043, 19.9775133982089, 77.99594209114589, 83.77267009076408, 99.95850642082438, 37.09060915934015, 272.2341700828522, 221.3562023697999, 287.82073999294397, 57.1409293666212, 114.25341754047874, 50.47118517588135, 47.6118075586942, 402.66823191438755, 96.27225068066633, 151.1192572202639, 179.47191708805113, 153.47561825087834, 152.24918773481338, 128.11760790880285, 124.69256745987211, 141.57641731493808, 136.95443317071621, 102.63256464695093, 106.15585882033771, 204.7964439045919, 518.078038758932, 118.27149106769497, 150.30434690608493, 144.57661404941123, 231.24243492090676, 137.96358489521688, 159.93894744085253, 140.84001123361392, 1005.0017372645608, 1021.5618090732198, 874.6893997112193, 733.4299498664446, 658.5905046926277, 536.0409121251172, 437.8141447859964, 396.6524503267156, 999.1669606753615, 306.84511720214476, 288.13525625652244, 443.4744061065004, 163.7146813733515, 144.06932652789652, 1991.9892522630896, 536.884923448281, 122.55298590784143, 247.90108485647977, 112.26256232386602, 111.32706950597245, 108.52058814076665, 101.97213884325262, 297.3811360040498, 96.35918054994319, 91.68171520416212, 89.81072909001001, 88.87523613417565, 87.93974309845021, 755.1578843780343, 87.00425035969506, 264.8321661188249, 1262.2521114574386, 745.0026925421438, 406.08957170315455, 553.8121011492904, 2531.1432303191764, 616.1167105320341, 411.821648486812, 625.1255386906452, 173.10259752807445, 177.67670284444247, 160.04876280394643, 406.6565199544558, 1098.5445604866622, 206.6435266199519, 1005.0017372645608, 894.2472294827285, 282.28428257358524, 312.2860289934686, 108.17312778906577, 96.05099647475238, 67.14437561771051, 63.41448905908101, 127.79647651168943, 99.72699979401858, 87.6489561800409, 32.64292493828167, 30.777981669019134, 30.777981640853827, 30.777981665658835, 63.397569884477456, 29.84551000813433, 27.980566728737422, 27.048095105221282, 25.183153356399504, 24.250680729978022, 280.1316588198497, 23.318208863174082, 23.31820853702892, 22.385736884094403, 22.38573843317746, 21.453265287482633, 21.453265248364197, 20.520793601723, 20.52079361411887, 20.520793618137798, 20.52079361631394, 20.52079415851758, 20.520793608847786, 121.51729631895542, 41.02902464853168, 36.321308645853975, 62.44188470647923, 238.1291542189585, 170.4781169352572, 127.36184115345243, 83.02846221128011, 106.42562943860486, 137.99882404906833, 83.95102015115398, 92.8054009956364, 112.40831240289776, 135.31165872096028, 131.37751515558816, 132.0798429013617, 505.69574969977816, 164.24671461340603, 119.09789505280904, 103.05717776780307, 187.82863901060406, 50.326871665479445, 518.078038758932, 141.8859836792349, 974.2874481301257, 322.9908745931332, 311.8913508133815, 212.16521632540167, 330.5433194316717, 279.1862286062198, 251.21131302999686, 176.45843032468724, 318.92829144646225, 230.50651598233742, 275.4993793395476, 51.02762749370408, 48.24491949976926, 47.317350322154944, 95.58856577978472, 41.75193523863999, 40.82436618863686, 80.76518588452572, 37.114089978564444, 90.98404590629778, 33.403812016309686, 62.14670321450979, 61.21916597489048, 57.472768462892496, 26.910828057002746, 52.9074643415548, 51.99958208935431, 21.345412835041696, 20.41784294857286, 20.417843673535703, 20.417843469653572, 19.49027391143192, 19.490274170496146, 19.49028042866305, 216.47535684139538, 60.29433431274937, 18.562704822195812, 18.56271767298777, 82.58062243918383, 78.92779099482088, 76.10108606860321, 302.87651202979873, 52.97774592669517, 34.39198793237734, 42.670205509205054, 122.32018655076536, 148.1464044193854, 119.51541332168678, 94.04269279461779, 203.24315779262147, 229.71437945877386, 79.94605222006254, 836.213625965188, 267.25766781890917, 115.7861624589629, 185.7504349427147, 117.31581241591286, 157.39912935833922, 73.57746123668832, 119.0271795777271, 315.4389119992631, 137.82747690204707, 149.9378249171641, 974.2874481301257, 205.33475631253992, 148.94983553846407, 311.8913508133815, 138.78080100417918, 104.49840516379854, 329.3489646975488, 137.61108868875712, 275.9714025577643, 130.14879455220174, 129.2258665746546, 113.53609337320832, 97.8463174520544, 551.1710571984435, 83.07947162163883, 80.31068875962673, 74.773120782388, 70.15848127850397, 63.69798591986468, 62.77505825318311, 62.77505747060041, 242.81957417955306, 209.5718792486298, 60.92920247608445, 60.92920174303074, 55.39163490534209, 55.39163428694368, 208.6243534004432, 114.50511585442189, 236.45385066117998, 47.08528376630972, 45.239428079037154, 45.23942802535213, 44.31649969337857, 44.31649948918694, 43.39357228647058, 43.393571652640524, 324.1248077408797, 123.71342994024869, 92.3656707151075, 126.58085100132877, 103.4843520419944, 122.0729764326971, 119.31782652120839, 175.45835062964326, 117.980786839651, 169.50417879466883, 128.6050270904299, 153.8744823209598, 140.8333047842146, 217.43328997372635, 229.85208006405165, 134.96868388100694, 175.5206907103371, 111.03161762122038, 146.27629869431843, 223.7818083935727, 263.1839527445818, 194.56707523844852, 202.15560678620608, 223.4828285850491, 487.3479446563001, 356.3564285314837, 305.97507648179476, 566.1835551612035, 442.47442061959066, 197.88417545608885, 189.63995475476912, 156.66306898337703, 142.92270037996303, 142.0066755925449, 132.84643005086386, 267.5137707057937, 109.02979059340757, 107.1977415589665, 349.9686303261187, 85.21315134201696, 85.21315134201696, 70.55675871832884, 69.64073335709553, 69.64073371527203, 142.97391645405244, 63.22856215210602, 499.3399555007437, 108.12542316558195, 51.32024225844625, 101.70850012354117, 45.82409585514638, 194.25571751278426, 43.07603134114814, 450.1251474321069, 504.03585241687006, 305.1314841658205, 267.57111419134515, 431.71620453472957, 448.2586047537906, 117.3213278326645, 448.9410728715947, 410.82388144994843, 227.02858790860486, 166.00672422226194, 219.333932328043, 555.3466828726653, 339.72880488253406, 395.1313699933107, 203.92272639904508, 198.2576917793397, 251.30643464838053, 974.2874481301257, 836.213625965188, 44.106296296833634, 40.58242347212065, 32.653718466077834, 30.010816638902625, 27.367912735553944, 26.48694536581752, 25.60597725136082, 25.605980102107793, 22.963075698860653, 22.082107952385492, 21.201152335741185, 42.39096165074359, 19.439206971458074, 42.44134397381795, 52.1316570574645, 15.915335581635471, 15.034416429622414, 50.429004623648936, 14.153401034436248, 13.272433864860275, 13.272436096038938, 13.272437176316634, 12.391469599813671, 12.391469476418703, 12.391471441217858, 41.672002440144745, 77.89606476908651, 11.510499147608108, 11.510500523664737, 25.71143467831595, 23.892920147125796, 56.79868395585592, 43.45686819631647, 257.7115449105794, 44.33433108206658, 48.97302093785525, 42.71522276866442, 31.9044614049282, 75.50615126864214, 32.829232111669185, 272.88046964266596, 34.74006346073874, 240.95438967301197, 68.7272881601219, 43.696495784410644, 134.81741519480892, 45.74761102185662, 59.608622628101415, 72.92722105996472, 93.62726817725728, 46.83028740040753, 55.72922943730829, 55.361945405167695, 158.25861041060432, 122.28621452289241, 157.66160870449642, 56.06566906944512, 151.25543682322368, 60.03660403334257, 121.41551322524484, 62.717519971184416, 161.44935203769035, 104.08014668209461, 128.84457453578824, 91.71653834732938, 166.44640894664917, 204.7964439045919, 66.85398499462708], \"loglift\": [30.0, 29.0, 28.0, 27.0, 26.0, 25.0, 24.0, 23.0, 22.0, 21.0, 20.0, 19.0, 18.0, 17.0, 16.0, 15.0, 14.0, 13.0, 12.0, 11.0, 10.0, 9.0, 8.0, 7.0, 6.0, 5.0, 4.0, 3.0, 2.0, 1.0, 1.3199, 1.3165, 1.3164, 1.3159, 1.3158, 1.3154, 1.3153, 1.3151, 1.3146, 1.3144, 1.3139, 1.3139, 1.3137, 1.3137, 1.3128, 1.3125, 1.3122, 1.312, 1.312, 1.3119, 1.3117, 1.3113, 1.3109, 1.3107, 1.3107, 1.3103, 1.3095, 1.3094, 1.3088, 1.3088, 1.3056, 1.3082, 1.305, 1.2888, 1.3066, 1.2888, 1.2969, 1.2962, 1.2933, 1.3004, 1.29, 1.3, 1.2739, 1.2989, 1.2905, 1.2541, 1.2191, 1.2293, 1.2291, 1.2321, 1.2616, 1.1953, 1.2236, 1.215, 1.2559, 1.0796, 1.1791, 1.1544, 1.195, 1.1628, 1.2034, 1.0789, 0.9531, 1.0417, 1.0684, 1.7431, 1.7395, 1.7371, 1.7361, 1.7357, 1.7354, 1.7349, 1.7347, 1.7345, 1.7341, 1.7339, 1.7337, 1.7337, 1.7322, 1.7319, 1.7305, 1.73, 1.73, 1.7294, 1.7289, 1.7289, 1.7289, 1.7285, 1.7272, 1.7272, 1.7267, 1.7262, 1.7256, 1.7256, 1.7256, 1.7233, 1.7256, 1.7146, 1.7049, 1.7108, 1.6984, 1.7006, 1.6781, 1.6724, 1.6709, 1.7164, 1.5822, 1.6523, 1.7017, 1.6625, 1.6842, 1.6769, 1.5494, 1.6439, 1.6654, 1.6173, 1.6307, 1.5719, 1.5639, 1.6161, 1.5621, 1.4816, 1.538, 1.5577, 1.5351, 1.4551, 1.3623, 1.4077, 1.386, 1.1836, 1.4241, 1.1394, 1.5482, 0.3999, 2.0321, 2.0304, 2.0299, 2.0293, 2.0276, 2.0268, 2.0254, 2.0252, 2.0238, 2.023, 2.0224, 2.0204, 2.02, 2.0198, 2.019, 2.0172, 2.0164, 2.0158, 2.0149, 2.0142, 2.0134, 2.0134, 2.0134, 2.0134, 2.0134, 2.0134, 2.0134, 2.013, 2.0119, 2.011, 2.0022, 1.9773, 1.9896, 1.9934, 1.9741, 1.9896, 2.002, 2.0029, 1.9508, 1.9256, 1.9171, 1.9048, 1.9435, 1.8433, 1.7321, 1.9296, 1.8165, 1.7664, 1.8444, 1.7369, 1.6189, 1.6522, 1.6457, 1.7332, 1.5117, 1.3881, 1.3235, 1.7835, 1.6286, 1.4201, 0.5873, 1.2784, 1.1908, -0.8401, 2.3697, 2.3644, 2.3625, 2.36, 2.3593, 2.3578, 2.3569, 2.3563, 2.353, 2.3508, 2.3472, 2.3453, 2.344, 2.3392, 2.3392, 2.338, 2.338, 2.3368, 2.3368, 2.3368, 2.3361, 2.3343, 2.3341, 2.3309, 2.3307, 2.3295, 2.3291, 2.3271, 2.3271, 2.3271, 2.3222, 2.3129, 2.3096, 2.3181, 2.2715, 2.2687, 2.2587, 2.3048, 2.2694, 2.3055, 2.3073, 2.0908, 2.223, 2.17, 2.1448, 2.1509, 2.1067, 2.1298, 2.1297, 2.0899, 2.0888, 2.1525, 2.0938, 1.8154, 1.3224, 2.0406, 1.8796, 1.8869, 1.4939, 1.8963, 1.7534, 1.8537, -0.1035, 2.6839, 2.6838, 2.6836, 2.6835, 2.6832, 2.6828, 2.6826, 2.682, 2.682, 2.6818, 2.6806, 2.6796, 2.6789, 2.6788, 2.6781, 2.6778, 2.6775, 2.6772, 2.6771, 2.6769, 2.6764, 2.6759, 2.6759, 2.6755, 2.6753, 2.6752, 2.6751, 2.675, 2.675, 2.6741, 2.6717, 2.6676, 2.6709, 2.6627, 2.6266, 2.654, 2.6604, 2.6439, 2.6687, 2.6644, 2.6671, 2.6119, 2.5202, 2.6496, 2.4647, 2.4048, 2.5513, 2.4613, 2.7271, 2.7261, 2.7222, 2.7215, 2.7205, 2.717, 2.7142, 2.7087, 2.707, 2.707, 2.707, 2.7063, 2.7062, 2.7042, 2.7031, 2.7007, 2.6994, 2.6986, 2.698, 2.698, 2.6964, 2.6964, 2.6947, 2.6947, 2.6928, 2.6928, 2.6928, 2.6928, 2.6928, 2.6928, 2.6752, 2.6847, 2.6862, 2.6707, 2.6363, 2.6458, 2.6259, 2.6396, 2.6174, 2.6001, 2.625, 2.6172, 2.5773, 2.5574, 2.5592, 2.5515, 2.4056, 2.522, 2.5448, 2.5585, 2.4253, 2.6351, 2.1912, 2.3937, 1.8962, 2.101, 2.0892, 2.2109, 1.997, 2.058, 2.0586, 2.2511, 1.8654, 2.0543, 2.8065, 2.7929, 2.7919, 2.7915, 2.7905, 2.7891, 2.7886, 2.7867, 2.7865, 2.7861, 2.7839, 2.7805, 2.7801, 2.7787, 2.7776, 2.7748, 2.7707, 2.7691, 2.7673, 2.7673, 2.7673, 2.7652, 2.7652, 2.7652, 2.7643, 2.7639, 2.7629, 2.7629, 2.7622, 2.7615, 2.7598, 2.7289, 2.7497, 2.752, 2.7443, 2.7022, 2.6907, 2.6951, 2.7026, 2.6611, 2.6504, 2.7073, 2.5366, 2.6012, 2.6764, 2.6056, 2.6421, 2.5923, 2.7085, 2.5802, 2.3437, 2.5316, 2.4391, 1.6245, 2.2285, 2.3556, 1.9702, 2.3254, 2.5121, 1.5991, 2.2824, 2.8751, 2.8717, 2.8716, 2.8707, 2.8695, 2.8684, 2.868, 2.8676, 2.8668, 2.8661, 2.8648, 2.8646, 2.8646, 2.8644, 2.8644, 2.8642, 2.8642, 2.8628, 2.8628, 2.8615, 2.8615, 2.8608, 2.8601, 2.8593, 2.8593, 2.8589, 2.8589, 2.8585, 2.8585, 2.8576, 2.856, 2.857, 2.8482, 2.8474, 2.8395, 2.8353, 2.8233, 2.8222, 2.8, 2.8023, 2.7838, 2.7905, 2.7382, 2.7305, 2.7752, 2.7288, 2.7901, 2.7195, 2.538, 2.471, 2.578, 2.4799, 2.223, 2.9615, 2.9608, 2.9604, 2.96, 2.9592, 2.9589, 2.9587, 2.9578, 2.9573, 2.9572, 2.9568, 2.9565, 2.9554, 2.9553, 2.9552, 2.9532, 2.9532, 2.9511, 2.951, 2.951, 2.9502, 2.9497, 2.9479, 2.9466, 2.9466, 2.9456, 2.9445, 2.9439, 2.9433, 2.9432, 2.9395, 2.9411, 2.939, 2.9272, 2.9204, 2.9228, 2.833, 2.8267, 2.8689, 2.8934, 2.8644, 2.7447, 2.7737, 2.6442, 2.7948, 2.774, 2.6401, 1.5568, 1.4971, 3.3386, 3.3369, 3.3317, 3.3294, 3.3265, 3.3255, 3.3243, 3.3243, 3.3204, 3.3188, 3.3172, 3.3153, 3.3134, 3.313, 3.3034, 3.3032, 3.2998, 3.2979, 3.2961, 3.2919, 3.2919, 3.2919, 3.287, 3.287, 3.287, 3.2869, 3.2846, 3.2813, 3.2813, 3.2788, 3.2787, 3.2673, 3.2641, 3.2121, 3.2471, 3.2238, 3.2169, 3.2332, 3.1644, 3.2309, 3.0505, 3.224, 2.9821, 3.1347, 3.1312, 2.7999, 3.0895, 2.99, 2.9043, 2.8012, 3.0806, 3.0055, 2.997, 2.4594, 2.5799, 2.4088, 2.9789, 2.3857, 2.9314, 2.4549, 2.8994, 2.1942, 2.5105, 2.3395, 2.6003, 2.1012, 1.8969, 2.8501], \"logprob\": [30.0, 29.0, 28.0, 27.0, 26.0, 25.0, 24.0, 23.0, 22.0, 21.0, 20.0, 19.0, 18.0, 17.0, 16.0, 15.0, 14.0, 13.0, 12.0, 11.0, 10.0, 9.0, 8.0, 7.0, 6.0, 5.0, 4.0, 3.0, 2.0, 1.0, -6.9989, -7.6094, -7.6182, -7.6916, -7.7011, -7.7504, -7.7605, -7.0181, -7.8345, -7.8567, -7.9145, -7.9145, -7.9265, -7.1869, -8.0144, -8.0411, -8.0684, -8.0824, -6.0804, -7.2775, -8.1109, -8.1403, -8.1706, -8.1861, -8.1861, -8.2177, -7.5174, -8.2843, -8.3194, -8.3194, -6.6785, -7.1424, -7.3487, -5.8258, -7.6735, -6.2046, -6.9317, -6.9812, -6.9542, -7.3738, -6.9265, -7.4151, -6.1904, -7.5358, -7.4187, -6.7507, -6.1249, -6.3497, -6.3522, -6.5937, -7.0409, -6.2844, -6.7094, -6.7104, -7.1656, -5.8863, -6.7356, -6.6196, -6.9358, -6.823, -6.9854, -6.9189, -6.801, -6.947, -7.0284, -6.659, -7.2587, -7.5124, -6.8445, -7.6406, -7.6684, -7.7115, -7.7263, -7.7413, -7.772, -7.7877, -6.6139, -7.8037, -7.9053, -7.9233, -7.1539, -8.0386, -8.0386, -7.3364, -8.1017, -8.1017, -8.1017, -8.1236, -8.1924, -8.1924, -8.2165, -8.2411, -8.2663, -8.2663, -8.2663, -4.8725, -7.1279, -6.9682, -6.5011, -7.125, -6.7138, -6.9694, -6.7098, -6.6206, -6.8003, -7.8062, -5.3305, -6.6802, -7.6089, -7.1572, -7.411, -7.3521, -6.393, -7.09, -7.2811, -6.9604, -7.0943, -6.8403, -6.8102, -7.0863, -6.8542, -6.5381, -6.8433, -6.9532, -6.8983, -6.7254, -6.5329, -6.8146, -6.8281, -6.7338, -6.9867, -6.8742, -7.0583, -7.0273, -5.1921, -7.0045, -6.3023, -7.127, -7.2919, -7.358, -7.4739, -7.4894, -7.5877, -7.6407, -7.6777, -7.7976, -7.819, -6.5389, -4.7967, -7.9585, -7.2183, -6.7528, -4.8435, -6.7699, -8.1205, -8.1205, -8.1205, -8.1205, -8.1205, -8.1206, -8.1206, -6.958, -8.181, -8.2126, -6.9001, -5.8205, -6.5883, -7.1098, -6.3642, -7.1896, -7.6613, -7.697, -6.2632, -6.0427, -6.0548, -6.0316, -6.8804, -5.9588, -5.2483, -6.9549, -6.1423, -5.8093, -6.4901, -6.0069, -5.5095, -6.0807, -6.0756, -6.3395, -6.0512, -5.8264, -6.1118, -6.7195, -6.6982, -6.6028, -6.2698, -6.6218, -6.6769, -6.6568, -3.9695, -6.3076, -6.5951, -6.8767, -6.9365, -5.868, -7.141, -7.1875, -7.3984, -7.5233, -7.692, -7.774, -6.6134, -6.4069, -7.9964, -8.0326, -8.0326, -8.0702, -8.0702, -8.0702, -6.8774, -7.3791, -8.15, -8.2366, -7.4204, -7.5017, -8.2829, -8.3315, -8.3315, -8.3315, -6.9742, -6.9121, -6.7387, -7.7216, -5.7749, -5.9847, -5.7321, -7.3028, -6.6453, -7.4263, -7.4828, -5.5642, -6.8629, -6.465, -6.3183, -6.4686, -6.5209, -6.6703, -6.6976, -6.6104, -6.6447, -6.8695, -6.8945, -6.5157, -6.0806, -6.8395, -6.7609, -6.7924, -6.7157, -6.8298, -6.8249, -6.8518, -6.8439, -4.0401, -4.1955, -4.3718, -4.4796, -4.6857, -4.8885, -4.9874, -4.0642, -5.2448, -5.3079, -4.8779, -5.8754, -6.004, -3.3774, -4.6893, -6.1668, -5.4625, -6.2551, -6.2635, -6.2893, -6.352, -5.2822, -6.4091, -6.4593, -6.4801, -6.4907, -6.5014, -4.3512, -6.5122, -5.3999, -3.8408, -4.3722, -4.9757, -4.6736, -3.1901, -4.5757, -4.9722, -4.5713, -5.8305, -5.8088, -5.9105, -5.0332, -4.1312, -5.6726, -4.2757, -4.4524, -5.4589, -5.4479, -6.2423, -6.3622, -6.724, -6.7819, -6.0822, -6.3337, -6.4655, -7.4588, -7.5193, -7.5193, -7.5193, -6.7974, -7.5509, -7.6174, -7.6524, -7.7262, -7.7653, -5.3192, -7.8059, -7.8059, -7.8483, -7.8483, -7.8926, -7.8926, -7.9389, -7.9389, -7.9389, -7.9389, -7.9389, -7.9389, -6.1778, -7.2541, -7.3745, -6.8482, -5.544, -5.8687, -6.1802, -6.5944, -6.3683, -6.1258, -6.5979, -6.5054, -6.3537, -6.1882, -6.2158, -6.2182, -5.0216, -6.0298, -6.3283, -6.4593, -5.9923, -7.0995, -5.2118, -6.3044, -4.8753, -5.7745, -5.8213, -6.0849, -5.8554, -5.9632, -6.0682, -6.2289, -6.0228, -6.1586, -5.228, -6.9279, -6.9849, -7.0047, -6.3026, -7.1323, -7.1552, -6.4749, -7.2526, -6.3563, -7.3605, -6.7431, -6.7585, -6.8232, -7.583, -6.9098, -6.9312, -7.8232, -7.8695, -7.8695, -7.8695, -7.918, -7.918, -7.918, -5.5113, -6.79, -7.969, -7.9691, -6.4771, -6.523, -6.5613, -5.2109, -6.9335, -7.3633, -7.1553, -6.1443, -5.9643, -6.1746, -6.4068, -5.6776, -5.5659, -6.5644, -4.3877, -5.4637, -6.225, -5.8231, -6.2461, -6.002, -6.6463, -6.2936, -5.5554, -6.1955, -6.2038, -5.1469, -6.1, -6.294, -5.9403, -6.3949, -6.4919, -6.2569, -6.4463, -5.1577, -5.9128, -5.9199, -6.0503, -6.2002, -4.4727, -6.3654, -6.3996, -6.4718, -6.5363, -6.6341, -6.6489, -6.6489, -5.2964, -5.4437, -6.6792, -6.6792, -6.7759, -6.7759, -5.4511, -6.051, -5.3266, -6.9411, -6.9818, -6.9818, -7.0028, -7.0028, -7.0243, -7.0243, -5.0144, -5.9792, -6.2704, -5.964, -6.1663, -6.009, -6.036, -5.6624, -6.0604, -5.7202, -5.9941, -5.8332, -5.9151, -5.533, -5.4852, -5.9729, -5.7565, -6.1532, -5.9482, -5.7045, -5.6092, -5.8043, -5.8642, -6.0208, -4.5027, -4.8164, -4.9692, -4.3542, -4.6016, -5.4065, -5.4493, -5.6412, -5.7336, -5.74, -5.8071, -5.1075, -6.0061, -6.0232, -4.8401, -6.2548, -6.2548, -6.4456, -6.4588, -6.4588, -5.7403, -6.5567, -4.4919, -6.0233, -6.7685, -6.0854, -6.8838, -5.44, -6.9468, -4.6004, -4.491, -4.9913, -5.1247, -4.6582, -4.6274, -5.9654, -4.7132, -4.8082, -5.3591, -5.6477, -5.3981, -4.5888, -5.0512, -5.0297, -5.5405, -5.5896, -5.4863, -5.2146, -5.4272, -6.5279, -6.6129, -6.8354, -6.9222, -7.0172, -7.051, -7.086, -7.086, -7.1989, -7.2395, -7.2819, -6.5909, -7.3725, -6.592, -6.3959, -7.5827, -7.643, -6.4347, -7.707, -7.7756, -7.7756, -7.7756, -7.8491, -7.8491, -7.8491, -6.6364, -6.0132, -7.9285, -7.9285, -7.1274, -7.2008, -6.3463, -6.6172, -4.8892, -6.6142, -6.538, -6.6817, -6.9572, -6.1645, -6.9309, -4.9936, -6.8812, -5.1864, -6.2883, -6.7447, -5.9493, -6.7405, -6.5753, -6.4594, -6.3126, -6.726, -6.6271, -6.6422, -6.1295, -6.2668, -6.1838, -6.6477, -6.2485, -6.6268, -6.399, -6.6151, -6.3748, -6.4974, -6.455, -6.5342, -6.4373, -6.4342, -6.6005]}, \"token.table\": {\"Topic\": [1, 6, 9, 2, 3, 6, 7, 8, 9, 3, 2, 2, 2, 6, 9, 10, 8, 2, 8, 2, 1, 6, 8, 9, 10, 6, 9, 6, 9, 9, 1, 2, 3, 5, 7, 8, 10, 1, 4, 5, 5, 1, 2, 3, 4, 7, 8, 9, 1, 2, 3, 9, 9, 9, 1, 2, 5, 1, 2, 3, 4, 7, 10, 1, 2, 3, 4, 5, 7, 10, 1, 2, 6, 2, 2, 5, 4, 5, 2, 3, 6, 9, 10, 6, 1, 3, 4, 8, 10, 1, 3, 4, 5, 10, 1, 2, 3, 9, 1, 2, 4, 1, 2, 4, 5, 6, 8, 1, 3, 4, 5, 7, 8, 3, 4, 5, 7, 10, 6, 7, 9, 3, 1, 8, 1, 2, 4, 1, 3, 4, 5, 7, 3, 4, 5, 6, 10, 3, 4, 6, 7, 8, 9, 9, 8, 8, 8, 3, 7, 8, 9, 7, 1, 2, 3, 4, 6, 8, 9, 6, 6, 7, 3, 5, 3, 1, 2, 3, 4, 5, 10, 1, 2, 3, 4, 6, 8, 1, 2, 6, 1, 2, 4, 6, 3, 4, 5, 3, 4, 5, 5, 5, 5, 5, 1, 4, 5, 10, 3, 4, 5, 1, 7, 1, 4, 1, 2, 6, 8, 10, 1, 2, 4, 6, 1, 2, 4, 1, 1, 2, 3, 1, 2, 6, 9, 10, 1, 2, 4, 7, 8, 8, 1, 3, 4, 7, 8, 9, 10, 2, 6, 6, 6, 2, 3, 6, 7, 9, 1, 3, 6, 6, 1, 2, 4, 7, 9, 7, 9, 1, 6, 2, 2, 10, 6, 1, 8, 8, 1, 3, 4, 6, 7, 8, 9, 10, 6, 7, 9, 3, 4, 5, 10, 1, 7, 10, 10, 7, 2, 6, 8, 1, 2, 3, 4, 8, 9, 10, 3, 7, 10, 1, 2, 3, 4, 1, 2, 3, 4, 8, 9, 3, 7, 8, 8, 1, 2, 1, 3, 4, 1, 2, 3, 4, 1, 3, 4, 5, 6, 7, 8, 9, 10, 2, 3, 10, 3, 4, 5, 10, 1, 2, 3, 5, 10, 10, 4, 6, 1, 2, 6, 8, 1, 6, 7, 9, 8, 1, 3, 8, 10, 6, 3, 4, 1, 2, 1, 1, 4, 5, 4, 5, 1, 3, 4, 5, 7, 4, 3, 1, 2, 3, 6, 9, 1, 1, 2, 8, 3, 4, 5, 7, 3, 5, 7, 10, 5, 3, 5, 5, 5, 5, 5, 3, 5, 3, 4, 5, 4, 3, 4, 5, 7, 3, 4, 5, 7, 4, 3, 4, 5, 3, 4, 5, 4, 6, 1, 2, 4, 5, 7, 9, 10, 7, 10, 1, 2, 4, 10, 1, 3, 4, 5, 7, 10, 2, 3, 4, 5, 7, 8, 10, 2, 1, 2, 3, 5, 9, 10, 3, 4, 3, 7, 7, 9, 9, 7, 9, 1, 1, 2, 4, 5, 10, 1, 3, 6, 1, 2, 3, 4, 6, 7, 1, 2, 3, 4, 5, 10, 1, 3, 4, 5, 7, 10, 3, 4, 1, 2, 3, 6, 10, 3, 4, 2, 8, 1, 4, 7, 3, 4, 8, 8, 8, 3, 1, 7, 1, 2, 4, 6, 7, 7, 8, 1, 1, 1, 3, 2, 3, 5, 9, 10, 9, 1, 4, 6, 8, 10, 6, 1, 3, 4, 7, 10, 7, 8, 1, 2, 3, 4, 1, 2, 4, 6, 8, 10, 1, 6, 6, 7, 1, 2, 5, 6, 10, 1, 2, 3, 6, 10, 6, 1, 4, 7, 9, 2, 5, 3, 8, 1, 3, 2, 7, 9, 10, 1, 3, 5, 6, 7, 9, 10, 8, 1, 3, 4, 5, 10, 1, 2, 7, 1, 2, 3, 4, 8, 9, 10, 1, 3, 3, 4, 1, 7, 2, 2, 3, 5, 3, 4, 2, 3, 2, 3, 8, 10, 1, 5, 2, 1, 2, 2, 9, 1, 2, 3, 4, 5, 7, 8, 2, 1, 1, 2, 3, 9, 10, 6, 3, 4, 5, 3, 6, 1, 3, 4, 5, 6, 8, 10, 3, 9, 3, 7, 7, 4, 1, 2, 3, 4, 10, 8, 5, 10, 2, 5, 7, 10, 2, 5, 7, 8, 6, 1, 2, 4, 6, 1, 2, 3, 4, 1, 2, 4, 2, 3, 5, 4, 2, 4, 7, 9, 10, 1, 2, 3, 5, 6, 7, 10, 4, 6, 7, 4, 1, 2, 6, 7, 2, 1, 3, 1, 2, 3, 4, 7, 2, 3, 4, 7, 10, 1, 2, 3, 4, 9, 3, 4, 5, 6, 7, 8, 10, 1, 3, 4, 3, 4, 5, 2, 3, 4, 6, 10, 2, 1, 3, 4, 10, 1, 1, 10, 1, 2, 4, 8, 10, 1, 2, 4, 3, 1, 2, 3, 4, 7, 8, 10, 3, 7, 10, 1, 2, 3, 5, 3, 10, 1, 2, 8, 5, 7, 10, 3, 5, 7, 10, 10, 10, 1, 2, 4, 1, 1, 2, 3, 5, 7, 10, 10, 5, 8, 10, 1, 7, 9, 1, 7, 8, 10, 2, 9, 9, 9, 9, 10, 10, 9, 1, 2, 8, 10, 8, 9, 6, 1, 2, 3, 5, 8, 10, 1, 1, 2, 3, 4, 5, 7, 8, 10, 1, 3, 4, 5, 1, 2, 4, 6, 8, 1, 2, 2, 8, 5, 8, 1, 2, 3, 7, 9, 10, 3, 4, 5, 10, 3, 4, 5, 7, 4, 5, 5, 5, 5, 5, 5, 2, 4, 1, 2, 3, 4, 5, 7, 9, 1, 2, 1, 4, 9, 10, 1, 2, 10, 10, 3, 8, 1, 4, 5, 9, 6, 10, 10, 1, 3, 4, 7, 9, 7, 9, 1, 2, 7, 1, 2, 3, 4, 9, 2, 2, 3, 4, 5, 1, 4, 10, 1, 2, 7, 9, 7, 1, 2, 3, 6, 8, 2, 1, 2, 4, 6, 9, 10, 1, 2, 4, 10, 1, 3, 4, 10, 3, 4, 3, 4, 5, 10, 1, 2, 3, 10, 7, 3, 5, 6, 3, 7, 10, 1, 2, 1, 7, 9, 3, 6, 7, 8, 10, 10, 3, 1, 3, 4, 7, 8, 10, 3, 4, 5, 5, 3, 1, 4, 6, 7, 8, 1, 7, 1, 3, 4, 5, 7, 10, 8, 10, 10, 8, 1, 8, 6, 9, 6, 7, 9, 9, 1, 2, 3, 5, 7, 3, 8, 10, 3, 8, 10, 1, 6, 7, 9, 10, 6, 1, 7, 1, 2, 4, 5, 2, 3, 1, 2, 6, 3, 7, 8, 1, 2, 3, 4, 6, 8, 10, 1, 3, 4, 5, 1, 3, 4, 7, 1, 2, 3, 4, 6, 10, 2, 3, 7, 4, 7, 1, 2, 3, 4, 6, 7, 8, 9, 1, 2, 3, 6, 1, 3, 4, 8, 1, 3, 4, 8, 1, 2, 3, 6, 10, 3, 4, 5, 3, 7, 8, 8, 2, 5, 7, 4, 2, 1, 2, 1, 6, 10, 1, 2, 6, 2, 7, 10, 3, 4, 5, 1, 2, 3, 4, 6, 7, 8, 6, 3, 4, 3, 4, 3, 4, 5, 6, 3, 7, 8, 3, 4, 1, 3, 4, 5, 10, 4, 3, 3, 4, 6, 7, 8, 10, 4, 4, 2, 10, 1, 2, 3, 4, 5, 7, 8, 1, 3, 4, 6, 7, 8, 9, 8, 1, 2, 3, 4, 6, 7, 1, 6, 10, 9, 1, 4, 5, 3, 6, 7, 9, 7, 9, 7, 9, 1, 3, 4, 5, 7, 10, 2, 7, 10, 9, 6, 1, 4, 6, 3, 5, 4, 8, 1, 3, 4, 5, 7, 8, 3, 4, 6, 7, 9, 1, 2, 4, 9, 3, 5, 6, 7, 7, 6, 8, 1, 2, 4, 8, 10, 8, 10, 1, 2, 5, 7, 3, 1, 2, 6, 1, 2, 8, 10, 7, 9, 7, 6, 2, 7, 10, 5, 1, 2, 6, 10, 1, 3, 4, 8, 1, 3, 7, 8, 10, 3, 5, 7, 1, 3, 4, 4, 6, 1, 2, 3, 9, 6, 2, 5, 1, 3, 4, 6, 8, 10, 6, 7, 9, 9, 1, 2, 3, 6, 10, 1, 3, 4, 2, 3, 5, 8, 5, 7, 5, 3, 6, 7, 10, 2, 2, 3, 7, 2, 1, 3, 4, 7, 7, 1, 3, 4, 6, 7, 1, 6, 7, 1, 2, 3, 4, 6, 10, 1, 10, 7, 2, 3, 10, 1, 2, 4, 6, 1, 2, 7, 1, 2, 6, 7, 10, 4, 3, 4, 6, 8, 1, 3, 7, 10, 3, 4, 1, 2, 4, 5, 6, 1, 2, 3, 6, 8, 10, 2, 3, 2, 3, 5, 7, 10, 2, 3, 7, 2, 3, 5, 7, 8, 10, 7, 3, 4, 7, 10, 3, 1, 2, 3, 6, 8, 9, 1, 4, 6, 7, 3, 7, 1, 7, 9, 7, 9, 1, 2, 3, 4, 6, 7, 9, 10, 7, 9, 1, 3, 4, 8, 1, 2, 3, 4, 6, 2, 3, 7, 10, 1, 3, 3, 5, 7, 10, 1, 2, 3, 4, 7, 10, 7, 10, 9, 9, 3, 3, 3, 6, 8, 9, 1, 3, 4, 5, 8, 10, 10, 6, 3, 4, 5, 10, 3, 1, 2, 3, 5, 6, 8, 10, 4, 5, 6, 10, 1, 2, 3, 7, 8, 10, 2, 6, 1, 2, 4, 7, 9, 2, 7, 9, 7, 9, 9, 9, 7, 9, 1, 2, 1, 4, 6, 9, 10, 1, 3, 5, 6, 8, 7, 6, 8, 6, 1, 1, 3, 7, 3, 4, 1, 2, 1, 2, 3, 4, 10, 6, 10, 1, 2, 9, 1, 2, 3, 7, 10, 4, 2, 10, 1, 2, 3, 4, 8, 10, 1, 6, 7, 8, 10, 2, 3, 6, 7, 8, 9, 10, 4, 1, 2, 8, 10, 10], \"Freq\": [0.10775234946153821, 0.8943445005307672, 0.9857633320337166, 0.03418188759649144, 0.013672755038596576, 0.07520015271228117, 0.020509132557894865, 0.854547189912286, 0.006836377519298288, 0.9776273681611254, 0.9830447842897562, 0.9842331614695902, 0.019870100542846315, 0.9140246249709305, 0.03974020108569263, 0.019870100542846315, 0.9952782119123467, 0.010826533194182048, 0.9743879874763843, 0.9842331614695902, 0.011731711001709057, 0.9150734581333065, 0.023463422003418114, 0.029329277504272645, 0.017597566502563586, 0.15201836767981328, 0.8434567497073511, 0.27456519406891616, 0.7242154394281557, 0.980569506718332, 0.05340324562854794, 0.06408389475425752, 0.10680649125709588, 0.021361298251419174, 0.06408389475425752, 0.10680649125709588, 0.5767550527883177, 0.9860453784219778, 0.008016629092861608, 0.9992118348393763, 0.9991033811018831, 0.008524000127576654, 0.03409600051030662, 0.04262000063788327, 0.01704800025515331, 0.8438760126300887, 0.01704800025515331, 0.03409600051030662, 0.03370275400940449, 0.9268257352586236, 0.02808562834117041, 0.011234251336468165, 0.9989997976661947, 0.9907994455800738, 0.0037759763651644945, 0.0037759763651644945, 0.9893058076730976, 0.08507136984736789, 0.829445856011837, 0.010633921230920986, 0.01595088184638148, 0.021267842461841973, 0.03190176369276296, 0.0803186851665349, 0.02190509595450952, 0.04381019190901904, 0.7520749611048269, 0.014603397303006346, 0.04381019190901904, 0.036508493257515866, 0.11085519268471168, 0.04434207707388468, 0.835109118224828, 0.9959346664142563, 0.9894802930103871, 0.9909729149487531, 0.012312554540688688, 0.985004363255095, 0.024088125285407047, 0.024088125285407047, 0.9033046982027643, 0.012044062642703524, 0.024088125285407047, 0.9746211499177572, 0.3937662708010273, 0.01789846685459215, 0.04474616713648037, 0.5190555387831722, 0.01789846685459215, 0.06515692925017925, 0.0260627717000717, 0.8014302297772048, 0.019547078775053777, 0.08470400802523304, 0.0782409335520253, 0.9095508525422941, 0.004890058347001581, 0.004890058347001581, 0.04193493484044119, 0.9435360339099267, 0.010483733710110297, 0.8792815288451713, 0.0039967342220235055, 0.039967342220235055, 0.011990202666070518, 0.055954279108329084, 0.007993468444047011, 0.002985069466810551, 0.08457696822629894, 0.08457696822629894, 0.8019886634164347, 0.02388055573448441, 0.000995023155603517, 0.13672112399102154, 0.576181879676448, 0.02929738371236176, 0.024414486426968134, 0.23437906969889408, 0.1007050457341826, 0.6377986229831564, 0.25511944919326257, 0.9776274373713364, 0.9811594139948568, 0.009344375371379589, 0.9091978877196165, 0.03682826886965535, 0.05294063650012957, 0.018757157327857484, 0.05627147198357245, 0.5377051767319145, 0.31887167457357724, 0.06252385775952495, 0.05014712132140701, 0.796782038773467, 0.10586614501185924, 0.039003316583316565, 0.005571902369045223, 0.025308038691459228, 0.002530803869145923, 0.20752591726996567, 0.025308038691459228, 0.010123215476583692, 0.7263407104448799, 0.9742744344074299, 0.9847494843777922, 0.9870067587026194, 0.990930185332726, 0.003587599994603402, 0.7605711988559213, 0.003587599994603402, 0.23080226631948553, 0.9721592542019807, 0.13046921050704047, 0.02174486841784008, 0.01449657894522672, 0.6233528946447489, 0.1594623683974939, 0.00724828947261336, 0.036241447363066795, 0.9746211756693507, 0.8372817819680093, 0.15223305126691078, 0.9111686189964502, 0.08791977902597327, 0.9718676447504316, 0.22010790632911645, 0.0071002550428747235, 0.12780459077174502, 0.5964214236014768, 0.014200510085749447, 0.028401020171498894, 0.20384623498972532, 0.7653174436456354, 0.003576249736661848, 0.007152499473323696, 0.014304998946647392, 0.003576249736661848, 0.2538311028869994, 0.7244762728233107, 0.021152591907249947, 0.5643901931171765, 0.0031355010728732033, 0.009406503218619609, 0.42015714376500923, 0.6739862112339887, 0.06899071453576262, 0.25473494597820046, 0.005020107407024936, 0.0005020107407024936, 0.9939812665909373, 0.9960599883843727, 0.9994500488680861, 0.9925643275472755, 0.9962724823115632, 0.9858992306281009, 0.7574473867728581, 0.23592623522433284, 0.007450302164978931, 0.9499826277562069, 0.006249885708922413, 0.037499314253534484, 0.9891213839654405, 0.9748451886203678, 0.9771020420807142, 0.02064300088902917, 0.14350057215487877, 0.09566704810325252, 0.063778032068835, 0.04783352405162626, 0.6377803206883501, 0.7829949185065311, 0.1471232490187431, 0.017455300731037317, 0.052365902193111956, 0.9873270258166792, 0.0019097234541908688, 0.007638893816763475, 0.9825700382037716, 0.971788130891221, 0.009255125056106867, 0.0138826875841603, 0.9700627561983056, 0.004491031278695859, 0.004491031278695859, 0.013473093836087578, 0.004491031278695859, 0.03101059347596036, 0.9354862365248042, 0.01550529673798018, 0.010336864491986788, 0.010336864491986788, 0.9847494725300372, 0.11743267486103555, 0.05032828922615809, 0.05032828922615809, 0.05032828922615809, 0.016776096408719365, 0.016776096408719365, 0.687819952757494, 0.007824941870823261, 0.9859426757237308, 0.9891550904273255, 0.9747227855961433, 0.9868129225133537, 0.00455925806547966, 0.07750738711315422, 0.00911851613095932, 0.9072923550304524, 0.01427900015603865, 0.017848750195048314, 0.963832510532609, 0.9747227848105815, 0.07562843408507425, 0.1116419741255858, 0.005402031006076733, 0.003601354004051155, 0.8031019429034075, 0.00226001764938121, 0.9966677833771135, 0.9133082811796451, 0.08543851662648293, 0.9860295883687076, 0.9795933226564939, 0.968408137819298, 0.9747227847041626, 0.9936006497709207, 0.9834876517080634, 0.9702932383539472, 0.07420026700453362, 0.02968010680181345, 0.014840053400906725, 0.07914695147150252, 0.014840053400906725, 0.6727490875077715, 0.08409363593847144, 0.034626791268782355, 0.9448785903459112, 0.016014891361795104, 0.03202978272359021, 0.12609646888300954, 0.25961037711207846, 0.03708719673029692, 0.5711428296465726, 0.02907653962795733, 0.9304492680946346, 0.9684081474627623, 0.9041294238049723, 0.9661538450220327, 0.00411828413495425, 0.00411828413495425, 0.9842699082540658, 0.2834821338496044, 0.10903158994215553, 0.04361263597686221, 0.04361263597686221, 0.021806317988431106, 0.021806317988431106, 0.4688358367512688, 0.04087632745658787, 0.8992792040449331, 0.04905159294790544, 0.021273705236031854, 0.0011196686966332555, 0.9763511034641987, 0.955591480129394, 0.04970415208764312, 0.007100593155377589, 0.007100593155377589, 0.007100593155377589, 0.915976517043709, 0.007100593155377589, 0.012340925175951926, 0.006170462587975963, 0.9780183201941901, 0.9726029244963584, 0.07163421899889623, 0.9153261316525628, 0.014788390947388963, 0.007394195473694481, 0.968639607053977, 0.026477782219086317, 0.9532001598871074, 0.010591112887634526, 0.005295556443817263, 0.021616822919977664, 0.07205607639992555, 0.07926168403991811, 0.007205607639992556, 0.05043925347994789, 0.6196822570393598, 0.007205607639992556, 0.1441121527998511, 0.007205607639992556, 0.009259580377122167, 0.9722559395978275, 0.009259580377122167, 0.22620769591743287, 0.6120914124824653, 0.1397165180666497, 0.01330633505396664, 0.06406110588964468, 0.06406110588964468, 0.08541480785285958, 0.021353701963214896, 0.7473795687125213, 0.9799802749338656, 0.9436350815819996, 0.026961002330914273, 0.9395063399592131, 0.01423494454483656, 0.042704833634509685, 0.9876534044770271, 0.00888641752814605, 0.0022216043820365125, 0.006664813146109537, 0.9797275324781021, 0.9905137678148485, 0.053096036121341124, 0.011799119138075805, 0.9262308523389506, 0.005899559569037902, 0.9484269846317359, 0.9839504569790716, 0.990278650379296, 0.03901266921330222, 0.9493082841903541, 0.9871137858511676, 0.020008302160698748, 0.9403902015528411, 0.03001245324104812, 0.9487673078366533, 0.03846353950689135, 0.02625742025560971, 0.02625742025560971, 0.9015047621092667, 0.04376236709268285, 0.9748448756056878, 0.9956572759082059, 0.9705008090916282, 0.0872837351822348, 0.8112253034584176, 0.005134337363660871, 0.0359403615456261, 0.061612048363930444, 0.9953846842183335, 0.02514293201164504, 0.008380977337215014, 0.9554314164425115, 0.7362047612036613, 0.0012649566343705522, 0.24793150033662822, 0.013914522978076074, 0.7382402884222166, 0.24155656496168115, 0.01628471224460772, 0.0027141187074346197, 0.9925776946858326, 0.056101131812320966, 0.943447202590299, 0.9981404328852957, 0.9893137839008905, 0.9880795433504045, 0.9983551082914571, 0.0020016674677154566, 0.9968303989222974, 0.8227464147158333, 0.028767357157896273, 0.14671352150527098, 0.9822779577170381, 0.6570742792352171, 0.008800101954043087, 0.33147050693562297, 0.0014666836590071812, 0.7616072471442754, 0.011469988661811375, 0.21792978457441614, 0.0068819931970868255, 0.9669862778566507, 0.5911521467532038, 0.04756396583071755, 0.3601271698611471, 0.014765047308037406, 0.0013422770280034006, 0.9825467844984892, 0.9850508951290458, 0.9649554371702439, 0.02527508607349667, 0.3285761189554567, 0.10110034429398668, 0.006318771518374167, 0.113737887330735, 0.018956314555122502, 0.4044013771759467, 0.03836440491034859, 0.9399279203035406, 0.08131689922078181, 0.009035211024531312, 0.9035211024531311, 0.004517605512265656, 0.08821696612783245, 0.016039448386878628, 0.7859329709570527, 0.02405917258031794, 0.07217751774095382, 0.008019724193439314, 0.0054617720717145615, 0.12197957626829188, 0.0009102953452857603, 0.8483952618063286, 0.013654430179286404, 0.007282362762286082, 0.0018205906905715205, 0.9767074708175346, 0.004308623196572924, 0.956514349639189, 0.004308623196572924, 0.008617246393145848, 0.004308623196572924, 0.017234492786291696, 0.9395780634938303, 0.057291345334989655, 0.019230923784764924, 0.9615461892382462, 0.01966365423221736, 0.9766281602001288, 0.9935440599883013, 0.022423945193535678, 0.975441615918802, 0.9888509638861589, 0.1884022250137769, 0.01884022250137769, 0.7630290113057965, 0.009420111250688845, 0.01884022250137769, 0.04114640591472782, 0.016458562365891126, 0.9381380548557943, 0.10883171002731469, 0.014510894670308626, 0.09432081535700607, 0.014510894670308626, 0.014510894670308626, 0.7545665228560485, 0.0499695152366361, 0.21653456602542312, 0.0166565050788787, 0.0333130101577574, 0.0166565050788787, 0.6496036980762693, 0.0032021925643715386, 0.17612059104043465, 0.006404385128743077, 0.8005481410928847, 0.009606577693114616, 0.0032021925643715386, 0.01826710692669741, 0.9772902205783115, 0.14452019229701693, 0.7138421619519322, 0.030655798366033896, 0.0744497960317966, 0.03503519813261017, 0.9721437070471172, 0.9759381479665121, 0.964439337075173, 0.016073988951252883, 0.9898519880938348, 0.03800942560519469, 0.9502356401298674, 0.0036286375597547396, 0.0036286375597547396, 0.990618053813044, 0.9913505436475001, 0.9929297213923152, 0.9776273707012041, 0.9891642566088891, 0.005784586295958415, 0.01514235598760983, 0.07571177993804915, 0.04542706796282949, 0.8328295793185406, 0.03028471197521966, 0.9374222486782019, 0.046871112433910095, 0.9958657157304949, 0.9882244826628639, 0.9740507895835968, 0.02203734818062436, 0.0353075834646102, 0.09079092890899766, 0.02521970247472157, 0.8272062411708676, 0.020175761979777256, 0.9750201839016617, 0.017792278500112436, 0.026688417750168655, 0.854029368005397, 0.008896139250056218, 0.08896139250056218, 0.9716704453063831, 0.09577110519521602, 0.030472624380296003, 0.013059696162984002, 0.8532334826482881, 0.004353232054328001, 0.9741958425327, 0.9726029233421836, 0.898240897856945, 0.09763488020184186, 0.003254496006728062, 0.9866062287123204, 0.02118169343634152, 0.83667689073549, 0.08472677374536608, 0.0264771167954269, 0.01059084671817076, 0.01588627007725614, 0.990230977055821, 0.9746211763623376, 0.9505466029009224, 0.024372989817972368, 0.05638330011571682, 0.17619781286161507, 0.007047912514464603, 0.7118391639609248, 0.049335387601252216, 0.27789556107413554, 0.678949382169763, 0.0031579041031151766, 0.03789484923738212, 0.90412935021556, 0.9829564932701725, 0.059219242223537145, 0.11305491697220728, 0.812918688704919, 0.0053835674748670135, 0.012496191566628496, 0.980951037980337, 0.01932659344659559, 0.9663296723297795, 0.9933416262112938, 0.00489330850350391, 0.030460657641899244, 0.030460657641899244, 0.030460657641899244, 0.8833590716150781, 0.06353275294956506, 0.05082620235965205, 0.0063532752949565065, 0.012706550589913013, 0.8068659624594764, 0.04447292706469555, 0.01905982588486952, 0.9964800608006441, 0.0623232547029768, 0.04154883646865121, 0.8621383567245124, 0.020774418234325603, 0.010387209117162802, 0.03235286381691934, 0.9624976985533504, 0.9798070058252046, 0.07608422753793767, 0.006916747957994333, 0.06916747957994333, 0.6155905682614957, 0.006916747957994333, 0.17291869894985834, 0.048417235705960335, 0.03170512912919845, 0.9511538738759534, 0.05250177120417027, 0.9450318816750648, 0.9825700851393809, 0.9795353671907437, 0.9909327590455738, 0.9767074752005419, 0.9923596039807316, 0.004888470955570106, 0.9805801505763506, 0.018238361662798644, 0.015126014288189027, 0.9756279215881922, 0.018012887165374053, 0.04503221791343513, 0.9186572454340767, 0.009006443582687026, 0.0022549215608168604, 0.9966753298810522, 0.9832983817471632, 0.9862383708189948, 0.0063220408385833, 0.977264922860758, 0.01017984294646623, 0.033399224467280886, 0.006072586266778342, 0.039471810734059226, 0.006072586266778342, 0.5890408678774992, 0.29755672707213876, 0.027326638200502542, 0.9842331405302851, 0.9890615278694542, 0.11213853584381289, 0.8308446064791593, 0.010194412349437536, 0.03568044322303138, 0.010194412349437536, 0.9612506869284498, 0.9164650059139748, 0.03909092442287096, 0.03909092442287096, 0.977627417344141, 0.978871969226281, 0.014126646498978577, 0.08475987899387145, 0.7557755876953538, 0.07063323249489288, 0.028253292997957154, 0.028253292997957154, 0.007063323249489288, 0.0069942827671043775, 0.9861938701617172, 0.04157517110178049, 0.9562289353409512, 0.9981873667347463, 0.9901513579321585, 0.08767251643325108, 0.8299664889014435, 0.040913841002183836, 0.029224172144417023, 0.01168966885776681, 0.9911732217255308, 0.9919929823523932, 0.006725376151541649, 0.009678503037156817, 0.9630110521971033, 0.009678503037156817, 0.014517754555735226, 0.014569413779111083, 0.9761507232004426, 0.0048564712597036945, 0.0024282356298518473, 0.9530180617313819, 0.04198227011302724, 0.05037872413563269, 0.08396454022605448, 0.822852494215334, 0.14302971088499314, 0.8475396917730584, 0.0023641274526445145, 0.007092382357933543, 0.43006866730692483, 0.5438058355203265, 0.021325719040012802, 0.0016230691083455146, 0.02759217484187375, 0.9689722576822721, 0.9731753600959381, 0.029100522565947445, 0.07275130641486861, 0.05820104513189489, 0.029100522565947445, 0.8002643705635547, 0.0024590777497235177, 0.0073772332491705535, 0.04672247724474684, 0.9295313893954897, 0.0024590777497235177, 0.004918155499447035, 0.004918155499447035, 0.9731753575977733, 0.03632813499570481, 0.9566408882202267, 0.9700293992092854, 0.9691754681904211, 0.0071262902072825075, 0.0071262902072825075, 0.014252580414565015, 0.9791138637842162, 0.018503469518793808, 0.962180414977278, 0.7837331776645003, 0.09096902955034379, 0.09446783837920317, 0.02099285297315626, 0.013995235315437508, 0.021859064936139174, 0.04371812987227835, 0.13115438961683504, 0.021859064936139174, 0.7650672727648711, 0.9801480653545716, 0.003451225582234407, 0.003451225582234407, 0.006902451164468814, 0.003451225582234407, 0.025365368889134002, 0.7186854518587967, 0.1606473362978487, 0.008455122963044667, 0.03382049185217867, 0.016910245926089335, 0.025365368889134002, 0.9850137196947965, 0.00550286994242903, 0.00550286994242903, 0.02834022470916204, 0.09564825839342188, 0.875004437895378, 0.006568179540910217, 0.039409077245461305, 0.7684770062864954, 0.019704538622730652, 0.16420448852275543, 0.9817260746402844, 0.9353566150518203, 0.02137957977261304, 0.026724474715766295, 0.01603468482945978, 0.9913433075048728, 0.9911137582261733, 0.9556492606392147, 0.9502205057314168, 0.012313872644467604, 0.020523121074112673, 0.0020523121074112675, 0.012313872644467604, 0.9655612679073015, 0.012676953189154941, 0.021128255315258238, 0.9776273681368196, 0.220793489318009, 0.0408876832070387, 0.02453260992422322, 0.0408876832070387, 0.08995290305548514, 0.1226630496211161, 0.45794205191883347, 0.04602264459014849, 0.023011322295074244, 0.9204528918029697, 0.9940829944114172, 0.980326143413394, 0.9927039036654467, 0.004842458066660716, 0.981043902841977, 0.9763345391815259, 0.027410593933525625, 0.9525181391900155, 0.013705296966762813, 0.9793067814430265, 0.011256399786701454, 0.005628199893350727, 0.9464195516637609, 0.03420793560230461, 0.04185340234020307, 0.9207748514844677, 0.985648381188453, 0.981615646534842, 0.964932115893856, 0.008680049018535436, 0.024593472219183735, 0.9868722824909892, 0.9916484807922892, 0.10200260613937237, 0.8752481688088081, 0.003290406649657173, 0.013161626598628693, 0.006580813299314346, 0.9311967687961406, 0.9927639550328046, 0.003725193077046171, 0.0018625965385230855, 0.9873367029118509, 0.9637504703053177, 0.016334753733988436, 0.02567523797163257, 0.02567523797163257, 0.02567523797163257, 0.9243085669787725, 0.0017662116656060075, 0.9961433794017882, 0.9857633320337166, 0.9992860446830334, 0.9955318536510007, 0.9663182561452754, 0.9580598125664657, 0.9966254223399459, 0.023281844055848863, 0.019401536713207386, 0.08924706888075397, 0.8653085374090493, 0.9769506801382758, 0.9820161022325151, 0.9434686913172007, 0.0031993573709835853, 0.006398714741967171, 0.015996786854917927, 0.9598072112950756, 0.006398714741967171, 0.007998393427458964, 0.9837550688742278, 0.007266856250674371, 0.007266856250674371, 0.22527254377090553, 0.05813485000539497, 0.007266856250674371, 0.5886153563046241, 0.06540170625606935, 0.03633428125337186, 0.004899774841671329, 0.8231621734007832, 0.1518930200918112, 0.014699324525013987, 0.9874178498256295, 0.018792465786202056, 0.03758493157240411, 0.8926421248445976, 0.04698116446550514, 0.0277618477025351, 0.9647242076630947, 0.012687465192938504, 0.9811639749205776, 0.01616639358367126, 0.9780668118121111, 0.08670260494429666, 0.006669431149561282, 0.026677724598245127, 0.6936208395543733, 0.18674407218771588, 0.9433449504668543, 0.5211265095574052, 0.09591285451976783, 0.37725722777775345, 0.0031970951506589277, 0.48845507953261685, 0.12759642893913256, 0.3648460389978322, 0.017943247819565515, 0.012675756177999865, 0.9871245123617394, 0.98875348738056, 0.9954877810300169, 0.9994137819616953, 0.9904666229983962, 0.9901520809142571, 0.9917756792070094, 0.9879818684884933, 0.014610288359724652, 0.004870096119908217, 0.3555170167532999, 0.024350480599541088, 0.014610288359724652, 0.5600610537894449, 0.029220576719449304, 0.12032648248221588, 0.8776755192820452, 0.17836226992339305, 0.03567245398467861, 0.08918113496169652, 0.6777766257088936, 0.9909586553229485, 0.038893201118931034, 0.9334368268543447, 0.9684079939113847, 0.9776273838046495, 0.9876534167895682, 0.03164373004343911, 0.08276052472899459, 0.012170665401322734, 0.8714196427347077, 0.9826827258657573, 0.010027374753732218, 0.9749174972800186, 0.013214194862577012, 0.03964258458773104, 0.004404731620859004, 0.03083312134601303, 0.9117794455178139, 0.015443560881561005, 0.9832400427927173, 0.28671167318083846, 0.6950586016505175, 0.013032348780947204, 0.16221080679558758, 0.820985307863382, 0.006620849256962758, 0.003310424628481379, 0.006620849256962758, 0.9802330334371012, 0.004918491083089718, 0.9394317968701362, 0.004918491083089718, 0.04918491083089718, 0.03521208346225777, 0.03521208346225777, 0.9155141700187021, 0.9776387647324623, 0.016159318425329954, 0.965457488435065, 0.016090958140584415, 0.9795354019704581, 0.14904885610507082, 0.04625654154984956, 0.0411169258220885, 0.025698078638805313, 0.740104664797593, 0.9788372652810552, 0.028202509377738365, 0.925982391235743, 0.018801672918492243, 0.004700418229623061, 0.009400836459246121, 0.009400836459246121, 0.8851901103072936, 0.050824312553528816, 0.050824312553528816, 0.00847071875892147, 0.0036733081658913663, 0.07346616331782732, 0.9073071169751674, 0.014693232663565465, 0.021885137203444156, 0.9629460369515429, 0.6792089947362977, 0.02416158479299083, 0.2818851559182263, 0.013423102662772683, 0.1806294906512906, 0.03612589813025813, 0.07225179626051625, 0.7044550135400334, 0.969685598687598, 0.9754200044045631, 0.015360944951252961, 0.9746211760239507, 0.016585306254696435, 0.9619477627723932, 0.016585306254696435, 0.7725981282144535, 0.22405345718219152, 0.002943524321835953, 0.16778088634464935, 0.8271303344359029, 0.1346217432023433, 0.07478985733463517, 0.08974782880156221, 0.10470580026848923, 0.5983188586770813, 0.9424871956396781, 0.9861857339320212, 0.07885309757495607, 0.07470293454469522, 0.045651793332869305, 0.09960391272626029, 0.012450489090782536, 0.6847768999930396, 0.4270011685534581, 0.06451096791095409, 0.5037999398760225, 0.997245785724568, 0.9790048709775535, 0.02501687005750733, 0.02501687005750733, 0.02501687005750733, 0.9006073220702638, 0.012508435028753664, 0.012381572444218145, 0.9781442230932335, 0.3027126055991519, 0.15135630279957596, 0.41514871625026545, 0.004324465794273599, 0.12108504223966077, 0.004324465794273599, 0.9909301708586622, 0.9041295757947504, 0.9509961660037717, 0.9890422607593468, 0.03276728492161681, 0.9584430839572917, 0.9779554660056514, 0.01577347525815567, 0.030112374433594397, 0.004632672989783753, 0.9635959818750207, 0.9905549612834913, 0.006750079449576888, 0.040500476697461325, 0.0540006355966151, 0.006750079449576888, 0.8910104873441492, 0.008475956355157311, 0.9493071117776188, 0.04237978177578656, 0.008733234253667475, 0.9868554706644248, 0.9865567849799527, 0.010263911353053172, 0.43211066796353853, 0.3058645583209845, 0.2453074813379708, 0.00718473794713722, 0.9803043097548011, 0.010990937917070375, 0.9781934746192634, 0.2520305687384561, 0.7476906872574196, 0.9958061675286295, 0.995634592039295, 0.0122617435194195, 0.9809394815535601, 0.4858864814415138, 0.004338272155727802, 0.5075778422201528, 0.004771632547196992, 0.004771632547196992, 0.9877279372697775, 0.07818489984700228, 0.022995558778530083, 0.01379733526711805, 0.004599111755706016, 0.009198223511412033, 0.8692321218284371, 0.955649146393314, 0.013459228044808083, 0.8008240686660809, 0.11776824539207072, 0.06393133321283839, 0.15962740667641062, 0.025204327369959572, 0.016802884913306382, 0.7981370333820531, 0.060079397706953745, 0.43857960326076234, 0.05407145793625837, 0.0720952772483445, 0.08411115678973524, 0.28237316922268263, 0.0188758502746359, 0.0188758502746359, 0.9437925137317951, 0.018900924707793563, 0.9639471600974717, 0.022450244548513885, 0.011225122274256942, 0.029933659398018512, 0.0261919519732662, 0.08231756334455091, 0.8119505111712522, 0.011225122274256942, 0.003741707424752314, 0.03140658115314605, 0.054961517018005585, 0.015703290576573024, 0.8950875628646624, 0.038992820053716716, 0.038992820053716716, 0.01299760668457224, 0.9098324679200568, 0.007900089090011747, 0.007900089090011747, 0.007900089090011747, 0.9717109580714449, 0.023823415086546847, 0.011911707543273423, 0.023823415086546847, 0.8933780657455067, 0.035735122629820266, 0.023415985116858183, 0.7883381656008922, 0.18732788093486546, 0.09136310619485385, 0.0435062410451685, 0.8614235726943363, 0.9929297103071367, 0.003611333150448554, 0.9786712837715581, 0.016250999177018492, 0.9731753142241741, 0.9911427175122115, 0.9337214312534211, 0.06342258778325124, 0.9050850977993217, 0.08526163964776219, 0.0065585876652124765, 0.0189434948264843, 0.9764510515105997, 0.004305339733291886, 0.08167762419794024, 0.02041940604948506, 0.8780344601278576, 0.8934408119323213, 0.003397113353354834, 0.10191340060064501, 0.15867759873234397, 0.062337628073420845, 0.03966939968308599, 0.01700117129275114, 0.6177092236366247, 0.09633997065892312, 0.005667057097583713, 0.9434687045132294, 0.9763053546784052, 0.01205315252689389, 0.02360265424214483, 0.9677088239279379, 0.23371612805654954, 0.00223651797183301, 0.7559430744795573, 0.00670955391549903, 0.0056993582603018745, 0.045594866082414996, 0.9460934712101112, 0.019453533593491022, 0.9726766796745512, 0.0529383226675049, 0.03308645166719056, 0.8205440013463259, 0.0529383226675049, 0.03308645166719056, 0.9633212946554865, 0.9869897992813542, 0.00608840184324989, 0.01217680368649978, 0.8097574451522355, 0.054795616589249016, 0.03044200921624945, 0.07914922396224858, 0.951069279149274, 0.9597202293831798, 0.9796836209858143, 0.016465270940938057, 0.16980826222106538, 0.00446863847950172, 0.06256093871302408, 0.0223431923975086, 0.00893727695900344, 0.01787455391800688, 0.7105135182407735, 0.9940829859486142, 0.0022274638263851125, 0.0022274638263851125, 0.10914572749287052, 0.0022274638263851125, 0.004454927652770225, 0.8776207475957344, 0.9896604451666794, 0.04851675650642638, 0.019406702602570554, 0.019406702602570554, 0.03881340520514111, 0.8344882119105338, 0.019406702602570554, 0.5751859359718703, 0.03966799558426692, 0.37684595805053567, 0.988826802304341, 0.9868723056678278, 0.011553841643974362, 0.9820765397378207, 0.001983985851809874, 0.003967971703619748, 0.01388790096266912, 0.9761210390904581, 0.014018505675117308, 0.9853006845939594, 0.03409439761630727, 0.9631667326606803, 0.02641340507517768, 0.00990502690319163, 0.01981005380638326, 0.00330167563439721, 0.9211675019968216, 0.01650837817198605, 0.019829857984764682, 0.019829857984764682, 0.9320033252839401, 0.9968132159880259, 0.9827685633722154, 0.4799663674994559, 0.010745515690286327, 0.5086210760068861, 0.5381764730102925, 0.4592439236354496, 0.9785102767612277, 0.9836797718974908, 0.011597394951336193, 0.7770254617395249, 0.011597394951336193, 0.09857785708635763, 0.05798697475668096, 0.04059088232967667, 0.03327854279104215, 0.009075966215738767, 0.4780008873622417, 0.009075966215738767, 0.46892492114650297, 0.850504764518012, 0.11754943899842443, 0.024201355087910912, 0.0034573364411301303, 0.019237468382347248, 0.022443713112738455, 0.5258241357841581, 0.43284303860281303, 0.9795353769718824, 0.9934638114217896, 0.9702932428246468, 0.9089531408332887, 0.036911802673433046, 0.05306071634306, 0.2638517886394846, 0.7365862432852279, 0.17217140301255066, 0.8211251528290878, 0.0013242263911786123, 0.006621131955893061, 0.9905213406016019, 0.0013242263911786123, 0.9776274076673399, 0.9666096043676495, 0.008708194633942788, 0.02177048658485697, 0.08971952511248465, 0.01794390502249693, 0.1794390502249693, 0.6998122958773803, 0.003738125321031716, 0.9943413353944365, 0.9819904099213084, 0.9890579326261478, 0.070232572969297, 0.04682171531286466, 0.8662017332879962, 0.9980581479854018, 0.17036805552423454, 0.08518402776211727, 0.7347122394482615, 0.005324001735132329, 0.022789336025353414, 0.10824934612042872, 0.0056973340063383535, 0.8602974349570914, 0.02332723741732522, 0.031102983223100292, 0.007775745805775073, 0.9253137508872338, 0.007775745805775073, 0.9886661389507614, 0.9952028628881796, 0.9699820208657172, 0.050950334237934214, 0.9001225715368377, 0.04245861186494518, 0.9510693158490616, 0.9746211755827279, 0.07963616146178817, 0.8904770781636313, 0.007239651041980742, 0.021718953125942228, 0.9827686313793638, 0.9900772683624205, 0.006266311825078611, 0.27863142899460386, 0.009607980310158755, 0.01921596062031751, 0.05764788186095253, 0.2113755668234926, 0.43235911395714394, 0.033462826682911895, 0.0066925653365823784, 0.9570368431312801, 0.9921090661129789, 0.5518147424403314, 0.006342698188969326, 0.006342698188969326, 0.038056189133815956, 0.3869045895271289, 0.004394773267303861, 0.004394773267303861, 0.9888239851433687, 0.9767074620999097, 0.9682041567905673, 0.017289359942688702, 0.008644679971344351, 0.9923312765751695, 0.004033866977947844, 0.9884574563249121, 0.04113690274216314, 0.2742460182810876, 0.02742460182810876, 0.6307658420465014, 0.9779400328944442, 0.9802330305810824, 0.9917987645639684, 0.9879111995926536, 0.9868129248944918, 0.04920214834589152, 0.004920214834589152, 0.07872343735342643, 0.8610375960531016, 0.9748452015779854, 0.4117763394013473, 0.006192125404531537, 0.012384250809063075, 0.5294267220874465, 0.040248815129454996, 0.4657433560168891, 0.5095311929073658, 0.023884274667532776, 0.6909876768688411, 0.024678131316744324, 0.002742014590749369, 0.008226043772248108, 0.2604913861211901, 0.010968058362997477, 0.04799385397600426, 0.935880152532083, 0.9798613507196494, 0.05757041872592683, 0.028785209362963415, 0.8635562808889025, 0.9006650854835505, 0.03457098307916658, 0.03275145765394729, 0.03275145765394729, 0.4261360471130544, 0.5681813961507393, 0.0032283033872201094, 0.12218831821217359, 0.816732442786634, 0.038585784698581135, 0.006430964116430189, 0.006430964116430189, 0.9759381217317334, 0.042006386704274326, 0.9451437008461723, 0.014379912752763154, 0.9826273714388154, 0.01314041693305829, 0.01314041693305829, 0.946110019180197, 0.01314041693305829, 0.02020114339506205, 0.9696548829629784, 0.05404591182261778, 0.0019302111365220637, 0.35129842684701557, 0.011581266819132381, 0.5809935520931412, 0.008398803609578231, 0.04199401804789116, 0.012598205414367347, 0.907070789834449, 0.012598205414367347, 0.016797607219156463, 0.0191930440520953, 0.9596522026047649, 0.08864419803302187, 0.8864419803302187, 0.0034093922320393025, 0.01704696116019651, 0.0034093922320393025, 0.010633468377856057, 0.08506774702284846, 0.9038448121177649, 0.11668506267332154, 0.6612153551488221, 0.05348065372527237, 0.13127069550748674, 0.004861877611388398, 0.024309388056941987, 0.9369694629268075, 0.035811201872276835, 0.9430283159699566, 0.011937067290758944, 0.9774061271067824, 0.9893846864198406, 0.00197747361055275, 0.2590490429824102, 0.01779726249497475, 0.7198003942412009, 0.009832019927393883, 0.9832019927393882, 0.8661218628350241, 0.0482967581506519, 0.07083524528762279, 0.012879135506840507, 0.010461502292060566, 0.9833812154536932, 0.006023852375167207, 0.05421467137650486, 0.933697118150917, 0.8952820144795852, 0.10040545956780396, 0.044382602993611346, 0.003170185928115096, 0.022191301496805673, 0.050722974849841534, 0.09510557784345289, 0.627696813766789, 0.1521689245495246, 0.003170185928115096, 0.746422874853803, 0.24880762495126768, 0.8447439011743322, 0.00839149570702979, 0.022377321885412773, 0.12027810513409366, 0.8795366428983482, 0.05627367146506019, 0.0020842100542614885, 0.010421050271307443, 0.05002104130227573, 0.9848854389441739, 0.022555883343518046, 0.06766765003055414, 0.9022353337407218, 0.984335900786138, 0.013484053435426548, 0.46649476208760593, 0.5299634372015659, 0.023589934293987848, 0.9671873060535018, 0.7523451391263924, 0.1837524994179668, 0.010401084872715103, 0.01733514145452517, 0.027736226327240272, 0.010401084872715103, 0.9743744993971641, 0.01739954463209222, 0.9929110685230509, 0.9936285073634288, 0.9944336478305005, 0.9740824342834308, 0.03704563055833139, 0.029636504446665112, 0.9039133856232859, 0.029636504446665112, 0.009743496164593883, 0.03897398465837553, 0.8087101816612923, 0.13640894630431435, 0.09403073638900539, 0.8776202062973837, 0.9763344304849354, 0.9788719674413806, 0.7353517085173569, 0.018855172013265562, 0.23757516736714607, 0.0037710344026531126, 0.9838431561813844, 0.037493773100947786, 0.8748547056887817, 0.031244810917456487, 0.006248962183491298, 0.012497924366982596, 0.012497924366982596, 0.018746886550473893, 0.8929168898888261, 0.08338523485343123, 0.017371923927798173, 0.0034743847855596348, 0.015522578325131372, 0.1086580482759196, 0.007761289162565686, 0.023283867487697056, 0.4811999280790725, 0.3647805906405872, 0.9321368099128615, 0.058871798520812306, 0.15144599550070403, 0.8113178330394859, 0.010817571107193145, 0.01622635666078972, 0.01622635666078972, 0.9823951167867747, 0.8722976723215657, 0.12091254863863288, 0.005714797918134255, 0.9915174387962933, 0.99079944048419, 0.9957675475931894, 0.00924851871764342, 0.9803429840702024, 0.9749795588180331, 0.02150690203275073, 0.30165170855265, 0.0754129271381625, 0.5938768012130297, 0.009426615892270312, 0.023566539730675778, 0.014492877122553295, 0.007246438561276648, 0.007246438561276648, 0.8768190659144743, 0.09420370129659643, 0.969686269992131, 0.9811868132616006, 0.01140914899141396, 0.9746211757736042, 0.9938040626576835, 0.04077335572029895, 0.05436447429373193, 0.9106049444200098, 0.03962657094400349, 0.9312244171840822, 0.008490961053040832, 0.9849514821527364, 0.014609373945831004, 0.8984764976686067, 0.021914060918746505, 0.04382812183749301, 0.014609373945831004, 0.9636216674146514, 0.02753204764041861, 0.00496434563194073, 0.9879047807562052, 0.00496434563194073, 0.009035237213900416, 0.9215941958178425, 0.02710571164170125, 0.02710571164170125, 0.009035237213900416, 0.9510692922332739, 0.023561930569797686, 0.9660391533617052, 0.2141406753498288, 0.08236179821147262, 0.1070703376749144, 0.05765325874803083, 0.13177887713835618, 0.4035728112362158, 0.6008076141262887, 0.06193892929136997, 0.006193892929136997, 0.012387785858273994, 0.30969464645684985, 0.0037996237596237222, 0.030396990076989778, 0.04939510887510839, 0.136786455346454, 0.6649341579341514, 0.07979209895209817, 0.0341966138366135, 0.9992122492173597, 0.022885130307331518, 0.022885130307331518, 0.13731078184398912, 0.8009795607566031, 0.9185071466829817], \"Term\": [\"000 acre\", \"000 acre\", \"101 south\", \"11 30\", \"11 30\", \"11 30\", \"11 30\", \"11 30\", \"11 30\", \"1st place\", \"202 224\", \"224 3121\", \"254\", \"254\", \"254\", \"254\", \"30 10\", \"30c\", \"30c\", \"3121\", \"49er\", \"49er\", \"49er\", \"49er\", \"49er\", \"680\", \"680\", \"880\", \"880\", \"880 south\", \"aaron\", \"aaron\", \"aaron\", \"aaron\", \"aaron\", \"aaron\", \"aaron\", \"abc news\", \"abc news\", \"abdsc\", \"abdsc bigdata\", \"ac\", \"ac\", \"ac\", \"ac\", \"ac\", \"ac\", \"ac\", \"aca\", \"aca\", \"aca\", \"aca\", \"accident injury\", \"accident northbound\", \"account let\", \"account let\", \"account let\", \"accountable\", \"accountable\", \"accountable\", \"accountable\", \"accountable\", \"accountable\", \"acquire\", \"acquire\", \"acquire\", \"acquire\", \"acquire\", \"acquire\", \"acquire\", \"acre\", \"acre\", \"acre\", \"actonclimate\", \"add name\", \"ai deeplearn\", \"ai machinelearn\", \"ai machinelearn\", \"air quality\", \"air quality\", \"air quality\", \"air quality\", \"air quality\", \"alaina\", \"album\", \"album\", \"album\", \"album\", \"album\", \"alexa\", \"alexa\", \"alexa\", \"alexa\", \"alexa\", \"american people\", \"american people\", \"american people\", \"american people\", \"american worker\", \"american worker\", \"american worker\", \"amid\", \"amid\", \"amid\", \"amid\", \"amid\", \"amid\", \"analytic\", \"analytic\", \"analytic\", \"analytic\", \"analytic\", \"analytic\", \"android\", \"android\", \"android\", \"android\", \"android\", \"antioch\", \"antioch\", \"antioch\", \"apache spark\", \"approval rating\", \"approval rating\", \"arabia\", \"arabia\", \"arabia\", \"automation\", \"automation\", \"automation\", \"automation\", \"automation\", \"autonomous\", \"autonomous\", \"autonomous\", \"autonomous\", \"autonomous\", \"ave\", \"ave\", \"ave\", \"ave\", \"ave\", \"ave\", \"ave san\", \"baker mayfield\", \"bama\", \"barkley\", \"bart\", \"bart\", \"bart\", \"bart\", \"bart police\", \"battery\", \"battery\", \"battery\", \"battery\", \"battery\", \"battery\", \"battery\", \"bay hill\", \"bayarea\", \"bayarea\", \"bayesian\", \"bayesian\", \"become data\", \"berlin\", \"berlin\", \"berlin\", \"berlin\", \"berlin\", \"berlin\", \"bernie\", \"bernie\", \"bernie\", \"bernie\", \"bernie\", \"bernie\", \"bernie sander\", \"bernie sander\", \"bernie sander\", \"beto\", \"beto\", \"beto\", \"beto\", \"big datum\", \"big datum\", \"big datum\", \"bigdata\", \"bigdata\", \"bigdata\", \"bigdata analytic\", \"bigdata datascience\", \"bigdata datascientist\", \"bigdata machinelearn\", \"bin salman\", \"blockchain\", \"blockchain\", \"blockchain\", \"blog post\", \"blog post\", \"blog post\", \"blue wave\", \"board supervisor\", \"bolsonaro\", \"bolsonaro\", \"brady\", \"brady\", \"brady\", \"brady\", \"brady\", \"brett kavanaugh\", \"brett kavanaugh\", \"brett kavanaugh\", \"brett kavanaugh\", \"brexit\", \"brexit\", \"brexit\", \"brexit deal\", \"briefing\", \"briefing\", \"briefing\", \"britain\", \"britain\", \"britain\", \"britain\", \"britain\", \"bronx\", \"bronx\", \"bronx\", \"bronx\", \"bronx\", \"buckeye\", \"butler\", \"butler\", \"butler\", \"butler\", \"butler\", \"butler\", \"butler\", \"butte\", \"butte\", \"butte county\", \"buttecounty\", \"call senator\", \"caltrain\", \"caltrain\", \"caltrain\", \"caltrain\", \"campfire\", \"campfire\", \"campfire\", \"campfire butte\", \"capitol\", \"capitol\", \"capitol\", \"capitol\", \"capitol\", \"capitol corridor\", \"capitol corridor\", \"caravan\", \"caravan\", \"care bill\", \"care right\", \"carmelo\", \"cawx\", \"central bank\", \"cfb\", \"cfbplayoff\", \"championship\", \"championship\", \"championship\", \"championship\", \"championship\", \"championship\", \"championship\", \"championship\", \"chp\", \"chp\", \"chp\", \"chrome\", \"chrome\", \"chrome\", \"chrome\", \"chron\", \"chron\", \"clarkson\", \"clayton kershaw\", \"cleanliness\", \"clemson\", \"clemson\", \"clemson\", \"cleveland\", \"cleveland\", \"cleveland\", \"cleveland\", \"cleveland\", \"cleveland\", \"cleveland\", \"clipper\", \"clipper\", \"clipper\", \"cohn\", \"cohn\", \"cohn\", \"coinbase\", \"cole\", \"cole\", \"cole\", \"cole\", \"cole\", \"cole\", \"college football\", \"college football\", \"college football\", \"college gameday\", \"collusion\", \"collusion\", \"combinator\", \"combinator\", \"combinator\", \"comey\", \"comey\", \"comey\", \"comey\", \"commute\", \"commute\", \"commute\", \"commute\", \"commute\", \"commute\", \"commute\", \"commute\", \"commute\", \"comp\", \"comp\", \"comp\", \"computing\", \"computing\", \"computing\", \"computing\", \"conor\", \"conor\", \"conor\", \"conor\", \"conor\", \"conor mcgregor\", \"continue create\", \"continue create\", \"control house\", \"control house\", \"control house\", \"corgi\", \"corridor\", \"corridor\", \"corridor\", \"corridor\", \"corso\", \"countdown\", \"countdown\", \"countdown\", \"countdown\", \"county texas\", \"coursera\", \"crispr\", \"crowley\", \"crowley\", \"crown prince\", \"crypto\", \"crypto\", \"crypto\", \"cryptocurrencie\", \"cryptocurrencie\", \"cryptocurrency\", \"cryptocurrency\", \"cryptocurrency\", \"cryptocurrency\", \"cut carbon\", \"d4d\", \"d4gx\", \"daca\", \"daca\", \"daca\", \"daca\", \"daca\", \"daily show\", \"dame\", \"dame\", \"dame\", \"data science\", \"data science\", \"data science\", \"data science\", \"data scientist\", \"data scientist\", \"data scientist\", \"data scientist\", \"dataliteracy\", \"datascience\", \"datascience\", \"datascience ai\", \"datascience datascientist\", \"datascience machinelearn\", \"datascience machinelearning\", \"datascientist\", \"datascientist\", \"dataset\", \"dataset\", \"dataset\", \"datum democracy\", \"datum science\", \"datum science\", \"datum science\", \"datum science\", \"datum scientist\", \"datum scientist\", \"datum scientist\", \"datum scientist\", \"day apply\", \"deep learning\", \"deep learning\", \"deep learning\", \"deeplearn\", \"deeplearn\", \"deeplearn\", \"demo day\", \"detox center\", \"disability\", \"disability\", \"disability\", \"disability\", \"disability\", \"disability\", \"disability\", \"disability right\", \"disability right\", \"disinformation\", \"disinformation\", \"disinformation\", \"disinformation\", \"disrupt\", \"disrupt\", \"disrupt\", \"disrupt\", \"disrupt\", \"disrupt\", \"dm\", \"dm\", \"dm\", \"dm\", \"dm\", \"dm\", \"dm\", \"dreamactnow\", \"dreamer\", \"dreamer\", \"dreamer\", \"dreamer\", \"dreamer\", \"dreamer\", \"dropbox\", \"dropbox\", \"dubnation\", \"dubnation\", \"due early\", \"due early\", \"due mechanical\", \"eastbound\", \"eastbound\", \"ecb\", \"echo\", \"echo\", \"echo\", \"echo\", \"echo\", \"el paso\", \"el paso\", \"el paso\", \"elevator\", \"elevator\", \"elevator\", \"elevator\", \"elevator\", \"elevator\", \"ellen\", \"ellen\", \"ellen\", \"ellen\", \"ellen\", \"ellen\", \"email address\", \"email address\", \"email address\", \"email address\", \"email address\", \"email address\", \"emtechmit\", \"emtechmit\", \"endorsement\", \"endorsement\", \"endorsement\", \"endorsement\", \"endorsement\", \"eng\", \"entirely new\", \"equal pay\", \"equal pay\", \"erdogan\", \"escalator\", \"escalator\", \"espn\", \"espn\", \"espn\", \"espn app\", \"espn espn\", \"ethic datum\", \"eurozone\", \"eurozone\", \"evacuation\", \"evacuation\", \"evacuation\", \"evacuation\", \"evacuation\", \"exclusive access\", \"exclusive access\", \"exit poll\", \"extended interview\", \"fact check\", \"fact check\", \"faculty\", \"faculty\", \"faculty\", \"faculty\", \"faculty\", \"faculty member\", \"falcon\", \"falcon\", \"falcon\", \"falcon\", \"falcon\", \"falcon heavy\", \"fare\", \"fare\", \"fare\", \"fare\", \"fare\", \"fare gate\", \"fbs\", \"fed\", \"fed\", \"fed\", \"female founder\", \"fight back\", \"fight back\", \"fight back\", \"fight back\", \"fight back\", \"fight back\", \"financial time\", \"fire crew\", \"fire danger\", \"fire danger\", \"firefighter\", \"firefighter\", \"firefighter\", \"firefighter\", \"firefighter\", \"first lady\", \"first lady\", \"first lady\", \"first lady\", \"first pitch\", \"flag warning\", \"fleet\", \"fleet\", \"fleet\", \"fleet\", \"follow step\", \"follow step\", \"football playoff\", \"football playoff\", \"full report\", \"full report\", \"full talk\", \"full talk\", \"full talk\", \"full talk\", \"gallery\", \"gallery\", \"gallery\", \"gallery\", \"gallery\", \"gallery\", \"gallery\", \"gameday\", \"gaming\", \"gaming\", \"gaming\", \"gaming\", \"gaming\", \"garland\", \"garland\", \"gate park\", \"gene\", \"gene\", \"gene\", \"gene\", \"gene\", \"gene\", \"gene\", \"generic ballot\", \"generic ballot\", \"genome\", \"genome\", \"george soro\", \"get inform\", \"getcover\", \"getcovered\", \"git\", \"git\", \"github\", \"github\", \"glad could\", \"glad could\", \"good yet\", \"good yet\", \"good yet\", \"good yet\", \"google account\", \"google account\", \"goptaxscam\", \"governor race\", \"governor race\", \"grassroots\", \"grassroots\", \"gt gt\", \"gt gt\", \"gt gt\", \"gt gt\", \"gt gt\", \"gt gt\", \"gt gt\", \"guarantee health\", \"gubernatorial race\", \"gun violence\", \"gun violence\", \"gun violence\", \"gun violence\", \"gun violence\", \"gusty\", \"hackathon\", \"hackathon\", \"hackathon\", \"hacker news\", \"half moon\", \"hardware\", \"hardware\", \"hardware\", \"hardware\", \"hardware\", \"hardware\", \"hardware\", \"harvard18\", \"harvard18\", \"hbr\", \"hbr\", \"hbs\", \"headset\", \"health insurance\", \"health insurance\", \"health insurance\", \"health insurance\", \"health insurance\", \"heisman\", \"help hi\", \"help hi\", \"help look\", \"help look\", \"help look\", \"help look\", \"help please\", \"help please\", \"help please\", \"help please\", \"helus\", \"highway\", \"highway\", \"highway\", \"highway\", \"hillary\", \"hillary\", \"hillary\", \"hillary\", \"hillary clinton\", \"hillary clinton\", \"hillary clinton\", \"hmm\", \"hmm\", \"hmm\", \"hololen\", \"home run\", \"home run\", \"home run\", \"home run\", \"home run\", \"hope help\", \"hope help\", \"hope help\", \"hope help\", \"hope help\", \"hope help\", \"hope help\", \"htc\", \"hvac\", \"hvac\", \"ico\", \"imf\", \"imf\", \"imf\", \"imf\", \"immigration system\", \"imo\", \"imo\", \"incumbent\", \"incumbent\", \"incumbent\", \"incumbent\", \"incumbent\", \"independently\", \"independently\", \"independently\", \"independently\", \"independently\", \"inflation\", \"inflation\", \"inflation\", \"inflation\", \"inflation\", \"intelligent\", \"intelligent\", \"intelligent\", \"intelligent\", \"intelligent\", \"intelligent\", \"intelligent\", \"interest rate\", \"interest rate\", \"interest rate\", \"iot\", \"iot\", \"iot\", \"ipad\", \"ipad\", \"ipad\", \"ipad\", \"ipad\", \"irandeal\", \"italy\", \"italy\", \"italy\", \"italy\", \"jair\", \"jair bolsonaro\", \"jalen ramsey\", \"jamal\", \"jamal\", \"jamal\", \"jamal\", \"jamal\", \"jamal khashoggi\", \"jamal khashoggi\", \"jamal khashoggi\", \"jawbone\", \"jimmy\", \"jimmy\", \"jimmy\", \"jimmy\", \"jimmy\", \"jimmy\", \"jimmy\", \"jimmy butler\", \"jimmy butler\", \"jimmy butler\", \"job report\", \"justice reform\", \"kaggle\", \"kaggle\", \"kaggle competition\", \"kawhi\", \"keep fight\", \"keep fight\", \"keep fight\", \"keep post\", \"keep post\", \"keep post\", \"kernel\", \"kernel\", \"kershaw\", \"kershaw\", \"khabib\", \"khabib nurmagomedov\", \"khashoggi\", \"khashoggi\", \"khashoggi\", \"khashoggi death\", \"khashoggi kill\", \"kind word\", \"kind word\", \"kind word\", \"kind word\", \"kind word\", \"kirsty\", \"know share\", \"know share\", \"know share\", \"lady melania\", \"lake merritt\", \"lake merritt\", \"laker\", \"laker\", \"laker\", \"laker\", \"lane block\", \"lane block\", \"lane close\", \"lane open\", \"lane remain\", \"le veon\", \"league source\", \"leave lane\", \"lebron\", \"lebron\", \"lebron\", \"lebron\", \"lee corso\", \"left lane\", \"legend willie\", \"let see\", \"let see\", \"let see\", \"let see\", \"let see\", \"let see\", \"level since\", \"lineup\", \"lineup\", \"lineup\", \"lineup\", \"lineup\", \"lineup\", \"lineup\", \"lineup\", \"linkedin\", \"linkedin\", \"linkedin\", \"linkedin\", \"listen subscribe\", \"live video\", \"live video\", \"live video\", \"live video\", \"lobbyist\", \"lobbyist\", \"lssc\", \"lssc\", \"lsu\", \"lsu\", \"macarthur\", \"macarthur\", \"macarthur\", \"macarthur\", \"macarthur\", \"machado\", \"machine learn\", \"machine learn\", \"machine learn\", \"machine learn\", \"machine learning\", \"machine learning\", \"machine learning\", \"machine learning\", \"machinelearn\", \"machinelearn\", \"machinelearn ai\", \"machinelearn deeplearn\", \"machinelearning\", \"machinelearning ai\", \"machinelearning deeplearn\", \"maddow\", \"magic leap\", \"maintenance\", \"maintenance\", \"maintenance\", \"maintenance\", \"maintenance\", \"maintenance\", \"maintenance\", \"make america\", \"make america\", \"malaria\", \"malaria\", \"malaria\", \"malaria\", \"manchin\", \"manny\", \"manny\", \"manny machado\", \"markov\", \"mayfield\", \"mba\", \"mba\", \"mba\", \"mba\", \"mccovey\", \"mccovey\", \"mcgregor\", \"mechanical\", \"mechanical\", \"mechanical\", \"mechanical\", \"mechanical\", \"mechanical problem\", \"mechanical problem\", \"medicaid\", \"medicaid\", \"medicaid\", \"medicare\", \"medicare\", \"medicare\", \"medicare\", \"medicare\", \"medicareforall\", \"meetup\", \"meetup\", \"meetup\", \"meetup\", \"melinda\", \"melinda\", \"melinda\", \"merkel\", \"merkel\", \"merritt\", \"merritt\", \"merritt station\", \"miami\", \"miami\", \"miami\", \"miami\", \"miami\", \"military vet\", \"million american\", \"million american\", \"million american\", \"million american\", \"million american\", \"million american\", \"minister\", \"minister\", \"minister\", \"minister\", \"mit\", \"mit\", \"mit\", \"mit\", \"mit technology\", \"mit technology\", \"ml\", \"ml\", \"ml\", \"ml\", \"mlb\", \"mlb\", \"mlb\", \"mlb\", \"month private\", \"mooc\", \"mooc\", \"moon bay\", \"move another\", \"move another\", \"move another\", \"mueller\", \"mueller\", \"muni\", \"muni\", \"muni\", \"mvp\", \"mvp\", \"mvp\", \"mvp\", \"mvp\", \"nadal\", \"nate silver\", \"nba\", \"nba\", \"nba\", \"nba\", \"nba\", \"nba\", \"neural\", \"neural\", \"neural\", \"neuralnetwork\", \"new blog\", \"new car\", \"new car\", \"new car\", \"new car\", \"new car\", \"new train\", \"new train\", \"newsletter\", \"newsletter\", \"newsletter\", \"newsletter\", \"newsletter\", \"newsletter\", \"nfl draft\", \"nfl history\", \"nfl network\", \"nick saban\", \"night show\", \"night show\", \"north bay\", \"north bay\", \"northbound\", \"northbound\", \"northbound\", \"northbound 101\", \"notify\", \"notify\", \"notify\", \"notify\", \"notify\", \"notre\", \"notre\", \"notre\", \"notre dame\", \"notre dame\", \"nurmagomedov\", \"oakland\", \"oakland\", \"oakland\", \"oakland\", \"oakland\", \"oakland mayor\", \"obama speak\", \"obama speak\", \"obamacare\", \"obamacare\", \"oculus\", \"odsc\", \"office hour\", \"office hour\", \"official say\", \"official say\", \"official say\", \"ohio state\", \"ohio state\", \"ohio state\", \"oklahoma\", \"oklahoma\", \"oklahoma\", \"oklahoma\", \"oklahoma\", \"oklahoma\", \"open final\", \"open source\", \"open source\", \"open source\", \"open source\", \"operator\", \"operator\", \"operator\", \"operator\", \"organizer\", \"organizer\", \"organizer\", \"organizer\", \"organizer\", \"organizer\", \"outside land\", \"outside land\", \"outside land\", \"page story\", \"page story\", \"parking\", \"parking\", \"parking\", \"parking\", \"parking\", \"parking\", \"parking\", \"parking\", \"paso\", \"paso\", \"paso\", \"paso\", \"penn\", \"penn\", \"penn\", \"penn\", \"penn state\", \"penn state\", \"penn state\", \"penn state\", \"pg\", \"pg\", \"pg\", \"pg\", \"pg\", \"pixel\", \"pixel\", \"pixel\", \"playoff\", \"playoff\", \"playoff\", \"playoff ranking\", \"please follow\", \"please follow\", \"please follow\", \"podcasting\", \"political revolution\", \"pre trump\", \"pre trump\", \"president donald\", \"president donald\", \"president donald\", \"president obama\", \"president obama\", \"president obama\", \"prevent happen\", \"prevent happen\", \"prevent happen\", \"probability\", \"probability\", \"probability\", \"prop\", \"prop\", \"prop\", \"prop\", \"prop\", \"prop\", \"prop\", \"propc\", \"pull request\", \"pull request\", \"purchase ticket\", \"purchase ticket\", \"python\", \"python\", \"python\", \"python\", \"qb\", \"qb\", \"qb\", \"qualcomm\", \"qualcomm\", \"quantum\", \"quantum\", \"quantum\", \"quantum\", \"quantum\", \"quantum computer\", \"quora\", \"raider\", \"raider\", \"raider\", \"raider\", \"raider\", \"raider\", \"raise 25\", \"raise series\", \"raise voice\", \"raise voice\", \"ranking\", \"ranking\", \"ranking\", \"ranking\", \"ranking\", \"ranking\", \"ranking\", \"rate rise\", \"rd\", \"rd\", \"rd\", \"rd\", \"rd\", \"rd\", \"recedavis\", \"red flag\", \"red flag\", \"red flag\", \"red flag\", \"red flag\", \"red flag\", \"red sox\", \"red sox\", \"red sox\", \"remain block\", \"republican chance\", \"reset password\", \"reset password\", \"residual\", \"residual\", \"residual\", \"residual\", \"residual delay\", \"residual delay\", \"resume normal\", \"resume normal\", \"rider\", \"rider\", \"rider\", \"rider\", \"rider\", \"rider\", \"right advocate\", \"right advocate\", \"right advocate\", \"right lane\", \"ron helus\", \"rourke\", \"rourke\", \"rourke\", \"rstat\", \"rstat\", \"russian propaganda\", \"saban\", \"sample\", \"sample\", \"sample\", \"sample\", \"sample\", \"sample\", \"san jose\", \"san jose\", \"san jose\", \"san jose\", \"san jose\", \"sanction\", \"sanction\", \"sanction\", \"sanction\", \"sanfrancisco\", \"sanfrancisco\", \"sanfrancisco\", \"sanfrancisco\", \"sanfrancisco bayarea\", \"sanjose\", \"saquon\", \"saudi arabia\", \"saudi arabia\", \"saudi arabia\", \"sctop10\", \"sctop10\", \"sctop10 via\", \"sctop10 via\", \"see help\", \"see help\", \"see help\", \"see help\", \"senate forecast\", \"senate race\", \"senate race\", \"senate race\", \"serena\", \"serena\", \"serena\", \"serena\", \"sf muni\", \"sf muni\", \"sf station\", \"sfgiant\", \"share concern\", \"share concern\", \"share concern\", \"share next\", \"sheriff\", \"sheriff\", \"sheriff\", \"sheriff\", \"shit\", \"shit\", \"shit\", \"shit\", \"show good\", \"show good\", \"show good\", \"show good\", \"show good\", \"siena\", \"sign google\", \"site visit\", \"skeptic\", \"skeptic\", \"skeptic\", \"smartwatch\", \"smoke campfire\", \"social security\", \"social security\", \"social security\", \"social security\", \"solano county\", \"sotu\", \"sotu\", \"source tell\", \"source tell\", \"source tell\", \"source tell\", \"source tell\", \"source tell\", \"southbound\", \"southbound\", \"southbound\", \"southbound 880\", \"sox\", \"sox\", \"sox\", \"sox\", \"sox\", \"sponsor content\", \"sponsor content\", \"sponsor content\", \"stand fight\", \"statistician\", \"statistician\", \"statistician\", \"step let\", \"step let\", \"step verification\", \"steph\", \"steph\", \"steph\", \"steph\", \"stop fight\", \"stopkavanaugh\", \"strataconf\", \"street station\", \"strzok\", \"subscriber\", \"subscriber\", \"subscriber\", \"subscriber\", \"substation\", \"suspicious\", \"suspicious\", \"suspicious\", \"suspicious\", \"suspicious\", \"suspicious package\", \"suspicious package\", \"suspicious package\", \"synagogue\", \"synagogue\", \"synagogue\", \"synagogue\", \"synagogue\", \"synagogue\", \"talk help\", \"talk help\", \"talk morning\", \"talk watch\", \"talk watch\", \"talk watch\", \"tariff\", \"tariff\", \"tariff\", \"tariff\", \"tax cut\", \"tax cut\", \"tax cut\", \"taxpayer\", \"taxpayer\", \"taxpayer\", \"taxpayer\", \"taxpayer\", \"tc\", \"tcdisrupt\", \"tcdisrupt\", \"td\", \"td\", \"team follow\", \"team follow\", \"team follow\", \"team follow\", \"technology review\", \"technology review\", \"tesla\", \"tesla\", \"tesla\", \"tesla\", \"tesla\", \"texan\", \"texan\", \"texan\", \"texan\", \"texan\", \"texan\", \"thank glad\", \"thank glad\", \"thank kind\", \"thank kind\", \"thank kind\", \"thank kind\", \"thank kind\", \"thank report\", \"thank report\", \"thank report\", \"thank share\", \"thank share\", \"thank share\", \"thank share\", \"thank share\", \"thank share\", \"thousandoak\", \"ticket today\", \"ticket today\", \"ticket today\", \"timberwolf\", \"tossup\", \"town hall\", \"town hall\", \"town hall\", \"town hall\", \"tractor trailer\", \"tractor trailer\", \"trade war\", \"trade war\", \"trade war\", \"trade war\", \"train car\", \"train car\", \"train delay\", \"train delay\", \"train delay\", \"transbay\", \"transbay\", \"transit\", \"transit\", \"transit\", \"transit\", \"transit\", \"transit\", \"transit\", \"transit\", \"transit center\", \"transit center\", \"trevor\", \"trevor\", \"trevor\", \"trevor\", \"trump say\", \"trump say\", \"trump say\", \"trump say\", \"trump say\", \"trumpcare\", \"try identify\", \"try identify\", \"try identify\", \"turkish\", \"turkish\", \"tutorial\", \"tutorial\", \"ufc\", \"ufc\", \"unemployment\", \"unemployment\", \"unemployment\", \"unemployment\", \"unemployment\", \"unemployment\", \"unlimited access\", \"unlimited access\", \"update accident\", \"update caltrain\", \"upshot\", \"upshot siena\", \"usc\", \"usc\", \"usc\", \"usc\", \"use ai\", \"use ai\", \"use ai\", \"use ai\", \"veon\", \"veon\", \"veon bell\", \"video live\", \"visualization\", \"visualization\", \"visualization\", \"visualization\", \"viz\", \"voice hear\", \"voice hear\", \"voice hear\", \"voice hear\", \"voice hear\", \"voice hear\", \"voice hear\", \"vr\", \"vr\", \"vr\", \"vr\", \"watch full\", \"watch full\", \"watch full\", \"watch full\", \"watch full\", \"watch full\", \"watch president\", \"watch president\", \"wealthy\", \"wealthy\", \"wealthy\", \"wealthy\", \"wealthy\", \"weekly address\", \"west oakland\", \"west oakland\", \"westbound\", \"westbound\", \"westbound 580\", \"westbound 80\", \"westbound ca\", \"westbound ca\", \"whitaker\", \"whitaker\", \"wildfire\", \"wildfire\", \"wildfire\", \"wildfire\", \"wildfire\", \"willie\", \"willie\", \"willie\", \"willie\", \"willie\", \"willie brown\", \"willie mccovey\", \"willie mccovey\", \"williemccovey\", \"win control\", \"win ticket\", \"win ticket\", \"win ticket\", \"window 10\", \"window 10\", \"witch hunt\", \"witch hunt\", \"woman right\", \"woman right\", \"woman right\", \"woman right\", \"woman right\", \"woolseyfire\", \"woolseyfire\", \"work family\", \"work family\", \"work family\", \"work people\", \"work people\", \"work people\", \"work people\", \"work people\", \"work startup\", \"worklife\", \"worklife\", \"world cup\", \"world cup\", \"world cup\", \"world cup\", \"world cup\", \"world cup\", \"world series\", \"world series\", \"world series\", \"world series\", \"world series\", \"yard\", \"yard\", \"yard\", \"yard\", \"yard\", \"yard\", \"yard\", \"yc\", \"zion\", \"zion\", \"zion\", \"zion\", \"zlatan\"]}, \"R\": 30, \"lambda.step\": 0.01, \"plot.opts\": {\"xlab\": \"PC1\", \"ylab\": \"PC2\"}, \"topic.order\": [1, 7, 4, 2, 8, 9, 10, 3, 5, 6]};\n",
       "\n",
       "function LDAvis_load_lib(url, callback){\n",
       "  var s = document.createElement('script');\n",
       "  s.src = url;\n",
       "  s.async = true;\n",
       "  s.onreadystatechange = s.onload = callback;\n",
       "  s.onerror = function(){console.warn(\"failed to load library \" + url);};\n",
       "  document.getElementsByTagName(\"head\")[0].appendChild(s);\n",
       "}\n",
       "\n",
       "if(typeof(LDAvis) !== \"undefined\"){\n",
       "   // already loaded: just create the visualization\n",
       "   !function(LDAvis){\n",
       "       new LDAvis(\"#\" + \"ldavis_el13871121828079124059502964\", ldavis_el13871121828079124059502964_data);\n",
       "   }(LDAvis);\n",
       "}else if(typeof define === \"function\" && define.amd){\n",
       "   // require.js is available: use it to load d3/LDAvis\n",
       "   require.config({paths: {d3: \"https://cdnjs.cloudflare.com/ajax/libs/d3/3.5.5/d3.min\"}});\n",
       "   require([\"d3\"], function(d3){\n",
       "      window.d3 = d3;\n",
       "      LDAvis_load_lib(\"https://cdn.rawgit.com/bmabey/pyLDAvis/files/ldavis.v1.0.0.js\", function(){\n",
       "        new LDAvis(\"#\" + \"ldavis_el13871121828079124059502964\", ldavis_el13871121828079124059502964_data);\n",
       "      });\n",
       "    });\n",
       "}else{\n",
       "    // require.js not available: dynamically load d3 & LDAvis\n",
       "    LDAvis_load_lib(\"https://cdnjs.cloudflare.com/ajax/libs/d3/3.5.5/d3.min.js\", function(){\n",
       "         LDAvis_load_lib(\"https://cdn.rawgit.com/bmabey/pyLDAvis/files/ldavis.v1.0.0.js\", function(){\n",
       "                 new LDAvis(\"#\" + \"ldavis_el13871121828079124059502964\", ldavis_el13871121828079124059502964_data);\n",
       "            })\n",
       "         });\n",
       "}\n",
       "</script>"
      ],
      "text/plain": [
       "PreparedData(topic_coordinates=            Freq  cluster  topics         x         y\n",
       "topic                                                \n",
       "0      26.607489        1       1  0.117819 -0.100027\n",
       "6      17.421032        1       2  0.106118 -0.131052\n",
       "3      13.019629        1       3 -0.141000 -0.038077\n",
       "1       9.346088        1       4 -0.052629 -0.102361\n",
       "7       6.823834        1       5 -0.369732  0.047588\n",
       "8       6.490015        1       6  0.151494  0.086327\n",
       "9       6.023006        1       7  0.007219  0.054316\n",
       "2       5.623512        1       8  0.053285 -0.054079\n",
       "4       5.165334        1       9  0.080337  0.323775\n",
       "5       3.480061        1      10  0.047087 -0.086410, topic_info=      Category         Freq                 Term        Total  loglift  \\\n",
       "term                                                                     \n",
       "8178   Default  2531.000000          datascience  2531.000000  30.0000   \n",
       "4003   Default  1991.000000              bigdata  1991.000000  29.0000   \n",
       "39664  Default  1501.000000                   yc  1501.000000  28.0000   \n",
       "20144  Default  1262.000000         machinelearn  1262.000000  27.0000   \n",
       "4005   Default  1021.000000  bigdata datascience  1021.000000  26.0000   \n",
       "8203   Default   999.000000        datascientist   999.000000  25.0000   \n",
       "9528   Default  1098.000000                   dm  1098.000000  24.0000   \n",
       "936    Default   874.000000                abdsc   874.000000  23.0000   \n",
       "2239   Default  1005.000000             analytic  1005.000000  22.0000   \n",
       "30633  Default   755.000000             see help   755.000000  21.0000   \n",
       "20154  Default   733.000000      machinelearning   733.000000  20.0000   \n",
       "8696   Default   745.000000            deeplearn   745.000000  19.0000   \n",
       "27540  Default   894.000000               python   894.000000  18.0000   \n",
       "3488   Default   836.000000                 bart   836.000000  17.0000   \n",
       "26762  Default  1161.000000      president obama  1161.000000  16.0000   \n",
       "13549  Default   932.000000               github   932.000000  15.0000   \n",
       "937    Default   658.000000        abdsc bigdata   658.000000  14.0000   \n",
       "6434   Default   893.000000                 cohn   893.000000  13.0000   \n",
       "18299  Default   566.000000           lane block   566.000000  12.0000   \n",
       "23857  Default   974.000000              oakland   974.000000  11.0000   \n",
       "15636  Default   616.000000                  hmm   616.000000  10.0000   \n",
       "10676  Default   551.000000                 espn   551.000000   9.0000   \n",
       "18975  Default   625.000000              let see   625.000000   8.0000   \n",
       "28912  Default   499.000000       residual delay   499.000000   7.0000   \n",
       "18303  Default   487.000000            lane open   487.000000   6.0000   \n",
       "28911  Default   504.000000             residual   504.000000   5.0000   \n",
       "5259   Default   555.000000              capitol   555.000000   4.0000   \n",
       "31193  Default   536.000000           share next   536.000000   3.0000   \n",
       "26074  Default   553.000000        please follow   553.000000   2.0000   \n",
       "18133  Default   536.000000           know share   536.000000   1.0000   \n",
       "...        ...          ...                  ...          ...      ...   \n",
       "30434  Topic10    62.206091          sctop10 via    75.506151   3.1644   \n",
       "12813  Topic10    28.908207            full talk    32.829232   3.2309   \n",
       "30433  Topic10   200.621887              sctop10   272.880470   3.0505   \n",
       "33941  Topic10    30.380086           talk watch    34.740063   3.2240   \n",
       "22599  Topic10   165.444356                  nba   240.954390   2.9821   \n",
       "15723  Topic10    54.966345             home run    68.727288   3.1347   \n",
       "39986  Topic10    34.824477                 zion    43.696496   3.1312   \n",
       "6061   Topic10    77.148859               chrome   134.817415   2.7999   \n",
       "16570  Topic10    34.969695        independently    45.747611   3.0895   \n",
       "4920   Topic10    41.250384               butler    59.608623   2.9900   \n",
       "32790  Topic10    46.322543                steph    72.927221   2.9043   \n",
       "929    Topic10    53.648132                aaron    93.627268   2.8012   \n",
       "7074   Topic10    35.482353                conor    46.830287   3.0806   \n",
       "30967  Topic10    39.167921               serena    55.729229   3.0055   \n",
       "21889  Topic10    38.582081                  mlb    55.361945   2.9970   \n",
       "9326   Topic10    64.425517           disability   158.258610   2.4594   \n",
       "17297  Topic10    56.157697                jimmy   122.286215   2.5799   \n",
       "32073  Topic10    61.018483                  sox   157.661609   2.4088   \n",
       "20536  Topic10    38.369762              malaria    56.065669   2.9789   \n",
       "28349  Topic10    57.199611              red sox   151.255437   2.3857   \n",
       "10292  Topic10    39.181286                ellen    60.036604   2.9314   \n",
       "39255  Topic10    49.203442            world cup   121.415513   2.4549   \n",
       "4511   Topic10    39.643781                brady    62.717520   2.8994   \n",
       "39309  Topic10    50.412716         world series   161.449352   2.1942   \n",
       "32035  Topic10    44.592659          source tell   104.080147   2.5105   \n",
       "38071  Topic10    46.525880           watch full   128.844575   2.3395   \n",
       "6254   Topic10    42.984973            cleveland    91.716538   2.6003   \n",
       "24618  Topic10    47.356734            organizer   166.446409   2.1012   \n",
       "2280   Topic10    47.504755              android   204.796444   1.8969   \n",
       "22450  Topic10    40.226609                  mvp    66.853985   2.8501   \n",
       "\n",
       "       logprob  \n",
       "term            \n",
       "8178   30.0000  \n",
       "4003   29.0000  \n",
       "39664  28.0000  \n",
       "20144  27.0000  \n",
       "4005   26.0000  \n",
       "8203   25.0000  \n",
       "9528   24.0000  \n",
       "936    23.0000  \n",
       "2239   22.0000  \n",
       "30633  21.0000  \n",
       "20154  20.0000  \n",
       "8696   19.0000  \n",
       "27540  18.0000  \n",
       "3488   17.0000  \n",
       "26762  16.0000  \n",
       "13549  15.0000  \n",
       "937    14.0000  \n",
       "6434   13.0000  \n",
       "18299  12.0000  \n",
       "23857  11.0000  \n",
       "15636  10.0000  \n",
       "10676   9.0000  \n",
       "18975   8.0000  \n",
       "28912   7.0000  \n",
       "18303   6.0000  \n",
       "28911   5.0000  \n",
       "5259    4.0000  \n",
       "31193   3.0000  \n",
       "26074   2.0000  \n",
       "18133   1.0000  \n",
       "...        ...  \n",
       "30434  -6.1645  \n",
       "12813  -6.9309  \n",
       "30433  -4.9936  \n",
       "33941  -6.8812  \n",
       "22599  -5.1864  \n",
       "15723  -6.2883  \n",
       "39986  -6.7447  \n",
       "6061   -5.9493  \n",
       "16570  -6.7405  \n",
       "4920   -6.5753  \n",
       "32790  -6.4594  \n",
       "929    -6.3126  \n",
       "7074   -6.7260  \n",
       "30967  -6.6271  \n",
       "21889  -6.6422  \n",
       "9326   -6.1295  \n",
       "17297  -6.2668  \n",
       "32073  -6.1838  \n",
       "20536  -6.6477  \n",
       "28349  -6.2485  \n",
       "10292  -6.6268  \n",
       "39255  -6.3990  \n",
       "4511   -6.6151  \n",
       "39309  -6.3748  \n",
       "32035  -6.4974  \n",
       "38071  -6.4550  \n",
       "6254   -6.5342  \n",
       "24618  -6.4373  \n",
       "2280   -6.4342  \n",
       "22450  -6.6005  \n",
       "\n",
       "[634 rows x 6 columns], token_table=       Topic      Freq          Term\n",
       "term                                \n",
       "3          1  0.107752      000 acre\n",
       "3          6  0.894345      000 acre\n",
       "118        9  0.985763     101 south\n",
       "144        2  0.034182         11 30\n",
       "144        3  0.013673         11 30\n",
       "144        6  0.075200         11 30\n",
       "144        7  0.020509         11 30\n",
       "144        8  0.854547         11 30\n",
       "144        9  0.006836         11 30\n",
       "388        3  0.977627     1st place\n",
       "475        2  0.983045       202 224\n",
       "517        2  0.984233      224 3121\n",
       "568        2  0.019870           254\n",
       "568        6  0.914025           254\n",
       "568        9  0.039740           254\n",
       "568       10  0.019870           254\n",
       "616        8  0.995278         30 10\n",
       "644        2  0.010827           30c\n",
       "644        8  0.974388           30c\n",
       "651        2  0.984233          3121\n",
       "738        1  0.011732          49er\n",
       "738        6  0.915073          49er\n",
       "738        8  0.023463          49er\n",
       "738        9  0.029329          49er\n",
       "738       10  0.017598          49er\n",
       "826        6  0.152018           680\n",
       "826        9  0.843457           680\n",
       "892        6  0.274565           880\n",
       "892        9  0.724215           880\n",
       "896        9  0.980570     880 south\n",
       "...      ...       ...           ...\n",
       "39116      3  0.027106   work people\n",
       "39116      7  0.027106   work people\n",
       "39116     10  0.009035   work people\n",
       "39153      4  0.951069  work startup\n",
       "39233      2  0.023562      worklife\n",
       "39233     10  0.966039      worklife\n",
       "39255      1  0.214141     world cup\n",
       "39255      2  0.082362     world cup\n",
       "39255      3  0.107070     world cup\n",
       "39255      4  0.057653     world cup\n",
       "39255      8  0.131779     world cup\n",
       "39255     10  0.403573     world cup\n",
       "39309      1  0.600808  world series\n",
       "39309      6  0.061939  world series\n",
       "39309      7  0.006194  world series\n",
       "39309      8  0.012388  world series\n",
       "39309     10  0.309695  world series\n",
       "39652      2  0.003800          yard\n",
       "39652      3  0.030397          yard\n",
       "39652      6  0.049395          yard\n",
       "39652      7  0.136786          yard\n",
       "39652      8  0.664934          yard\n",
       "39652      9  0.079792          yard\n",
       "39652     10  0.034197          yard\n",
       "39664      4  0.999212            yc\n",
       "39986      1  0.022885          zion\n",
       "39986      2  0.022885          zion\n",
       "39986      8  0.137311          zion\n",
       "39986     10  0.800980          zion\n",
       "39989     10  0.918507        zlatan\n",
       "\n",
       "[1594 rows x 3 columns], R=30, lambda_step=0.01, plot_opts={'xlab': 'PC1', 'ylab': 'PC2'}, topic_order=[1, 7, 4, 2, 8, 9, 10, 3, 5, 6])"
      ]
     },
     "execution_count": 52,
     "metadata": {},
     "output_type": "execute_result"
    }
   ],
   "source": [
    "pyLDAvis.enable_notebook()\n",
    "pyLDAvis.sklearn.prepare(lda,X, count)"
   ]
  },
  {
   "cell_type": "markdown",
   "metadata": {},
   "source": [
    "# Latent Semantic Analysis"
   ]
  },
  {
   "cell_type": "markdown",
   "metadata": {},
   "source": [
    "LDA is a useful measure for extracting underlying topics from documents, but another method, namely Latent Semantic Analysis (LSA), is also very useful.  Instead of replicating a document-generating stochastic process, LDA uses matrix factorization techniques in order to extract the underlying important features. "
   ]
  },
  {
   "cell_type": "markdown",
   "metadata": {},
   "source": [
    "In order to properly execute LSA, we first need a document to term matrix.  Each row will make up the document of each user and each column will represent a term in the corpus.  The actual values inside the matrix will be the frequency of that term within the respective document. "
   ]
  },
  {
   "cell_type": "code",
   "execution_count": 37,
   "metadata": {},
   "outputs": [
    {
     "data": {
      "text/html": [
       "<div>\n",
       "<style scoped>\n",
       "    .dataframe tbody tr th:only-of-type {\n",
       "        vertical-align: middle;\n",
       "    }\n",
       "\n",
       "    .dataframe tbody tr th {\n",
       "        vertical-align: top;\n",
       "    }\n",
       "\n",
       "    .dataframe thead th {\n",
       "        text-align: right;\n",
       "    }\n",
       "</style>\n",
       "<table border=\"1\" class=\"dataframe\">\n",
       "  <thead>\n",
       "    <tr style=\"text-align: right;\">\n",
       "      <th></th>\n",
       "      <th>screen_name</th>\n",
       "      <th>documents</th>\n",
       "      <th>textblob_polarity</th>\n",
       "      <th>textblob_subjectivity</th>\n",
       "      <th>vader_polarity</th>\n",
       "    </tr>\n",
       "  </thead>\n",
       "  <tbody>\n",
       "    <tr>\n",
       "      <th>0</th>\n",
       "      <td>511SFBay</td>\n",
       "      <td>today tomorrow day visit learn green commute  ...</td>\n",
       "      <td>0.014809</td>\n",
       "      <td>0.309244</td>\n",
       "      <td>-0.396608</td>\n",
       "    </tr>\n",
       "    <tr>\n",
       "      <th>1</th>\n",
       "      <td>ABCPolitics</td>\n",
       "      <td>president trump threaten pull federal funding ...</td>\n",
       "      <td>0.055523</td>\n",
       "      <td>0.343434</td>\n",
       "      <td>0.036858</td>\n",
       "    </tr>\n",
       "    <tr>\n",
       "      <th>2</th>\n",
       "      <td>AdorabIeDog</td>\n",
       "      <td>dog rescue friend slip fall water  dog rescue ...</td>\n",
       "      <td>0.133552</td>\n",
       "      <td>0.386310</td>\n",
       "      <td>0.216551</td>\n",
       "    </tr>\n",
       "    <tr>\n",
       "      <th>3</th>\n",
       "      <td>AndrewYNg</td>\n",
       "      <td>apparently 20 year ago already contribute face...</td>\n",
       "      <td>0.170709</td>\n",
       "      <td>0.417123</td>\n",
       "      <td>0.310766</td>\n",
       "    </tr>\n",
       "    <tr>\n",
       "      <th>4</th>\n",
       "      <td>BarackObama</td>\n",
       "      <td>veteran family thank tribute truly match magni...</td>\n",
       "      <td>0.124232</td>\n",
       "      <td>0.322780</td>\n",
       "      <td>0.227911</td>\n",
       "    </tr>\n",
       "  </tbody>\n",
       "</table>\n",
       "</div>"
      ],
      "text/plain": [
       "   screen_name                                          documents  \\\n",
       "0     511SFBay  today tomorrow day visit learn green commute  ...   \n",
       "1  ABCPolitics  president trump threaten pull federal funding ...   \n",
       "2  AdorabIeDog  dog rescue friend slip fall water  dog rescue ...   \n",
       "3    AndrewYNg  apparently 20 year ago already contribute face...   \n",
       "4  BarackObama  veteran family thank tribute truly match magni...   \n",
       "\n",
       "   textblob_polarity  textblob_subjectivity  vader_polarity  \n",
       "0           0.014809               0.309244       -0.396608  \n",
       "1           0.055523               0.343434        0.036858  \n",
       "2           0.133552               0.386310        0.216551  \n",
       "3           0.170709               0.417123        0.310766  \n",
       "4           0.124232               0.322780        0.227911  "
      ]
     },
     "execution_count": 37,
     "metadata": {},
     "output_type": "execute_result"
    }
   ],
   "source": [
    "data.head()"
   ]
  },
  {
   "cell_type": "code",
   "execution_count": 59,
   "metadata": {},
   "outputs": [],
   "source": [
    "vectorizer = CountVectorizer( max_features = 40000, ngram_range=(1,2), min_df=5, max_df=0.4)\n",
    "dtm = vectorizer.fit_transform(data.documents)"
   ]
  },
  {
   "cell_type": "code",
   "execution_count": 60,
   "metadata": {},
   "outputs": [],
   "source": [
    "lsa = TruncatedSVD(20, algorithm='arpack')\n",
    "dtm_lsa = lsa.fit_transform(dtm.asfptype())\n",
    "dtm_lsa = Normalizer(copy=False).fit_transform(dtm_lsa)"
   ]
  },
  {
   "cell_type": "code",
   "execution_count": 61,
   "metadata": {},
   "outputs": [
    {
     "data": {
      "text/plain": [
       "0.8890411269669992"
      ]
     },
     "execution_count": 61,
     "metadata": {},
     "output_type": "execute_result"
    }
   ],
   "source": [
    "sum(lsa.explained_variance_ratio_)"
   ]
  },
  {
   "cell_type": "code",
   "execution_count": 62,
   "metadata": {},
   "outputs": [
    {
     "data": {
      "text/plain": [
       "array([0.36921618, 0.11194742, 0.0902646 , 0.07410271, 0.03450982,\n",
       "       0.01835107, 0.02496128, 0.02276306, 0.02188167, 0.02079289,\n",
       "       0.01308321, 0.01294213, 0.01217953, 0.01152576, 0.01126916,\n",
       "       0.00885206, 0.00896924, 0.0078528 , 0.00699504, 0.00658151])"
      ]
     },
     "execution_count": 62,
     "metadata": {},
     "output_type": "execute_result"
    }
   ],
   "source": [
    "lsa.explained_variance_ratio_"
   ]
  },
  {
   "cell_type": "code",
   "execution_count": 63,
   "metadata": {},
   "outputs": [],
   "source": [
    "important_words = pd.DataFrame(lsa.components_.round(5),columns = vectorizer.get_feature_names())"
   ]
  },
  {
   "cell_type": "code",
   "execution_count": 65,
   "metadata": {},
   "outputs": [
    {
     "name": "stdout",
     "output_type": "stream",
     "text": [
      "[[('datascience', 0.5636139791365203),\n",
      "  ('bigdata', 0.5282764400744121),\n",
      "  ('machinelearn', 0.29802335204390684),\n",
      "  ('bigdata datascience', 0.2879898668645746),\n",
      "  ('datascientist', 0.24266362104273376),\n",
      "  ('deeplearn', 0.17072715131752136),\n",
      "  ('machinelearning', 0.1678675315948245),\n",
      "  ('analytic', 0.15886773139743185),\n",
      "  ('datascience ai', 0.12441113044354182),\n",
      "  ('ai machinelearn', 0.11372770053956119)],\n",
      " [('dm', 0.4908009804310787),\n",
      "  ('see help', 0.40401762113276096),\n",
      "  ('let see', 0.32347539742816594),\n",
      "  ('hmm', 0.320940377027107),\n",
      "  ('please follow', 0.29383134555469487),\n",
      "  ('know share', 0.2902366358099235),\n",
      "  ('help please', 0.2158490332524288),\n",
      "  ('hope help', 0.20239173274274053),\n",
      "  ('email address', 0.1327943956640738),\n",
      "  ('help look', 0.10814196900842804)],\n",
      " [('lane block', 0.3384461725098171),\n",
      "  ('residual', 0.29625540535761397),\n",
      "  ('residual delay', 0.29622653847997205),\n",
      "  ('capitol', 0.268870673985623),\n",
      "  ('corridor', 0.26682089151857435),\n",
      "  ('southbound', 0.2562308374909447),\n",
      "  ('northbound', 0.24763773277900375),\n",
      "  ('rd', 0.23404967844700814),\n",
      "  ('westbound', 0.2090195090270384),\n",
      "  ('ave', 0.170757975327394)],\n",
      " [('yc', 0.9834152832322143),\n",
      "  ('office hour', 0.09854412132252052),\n",
      "  ('combinator', 0.07726990540296858),\n",
      "  ('female founder', 0.04646576448721187),\n",
      "  ('demo', 0.03535457655525297),\n",
      "  ('batch', 0.03457743513587255),\n",
      "  ('demo day', 0.03329190078675252),\n",
      "  ('alum', 0.028302992562155124),\n",
      "  ('ama', 0.0251828119820214),\n",
      "  ('fellowship', 0.02464534272498095)],\n",
      " [('president obama', 0.9266013550814584),\n",
      "  ('sotu', 0.08918809052771665),\n",
      "  ('obamacare', 0.08873684765385821),\n",
      "  ('add name', 0.08623443818951022),\n",
      "  ('garland', 0.08406780741963553),\n",
      "  ('obama speak', 0.07991725236779416),\n",
      "  ('watch president', 0.07675032527438784),\n",
      "  ('live president', 0.06785226940704928),\n",
      "  ('million american', 0.04844159442686492),\n",
      "  ('gun violence', 0.04380779301571825)],\n",
      " [('github', 0.5486446773231209),\n",
      "  ('cohn', 0.3134285034143728),\n",
      "  ('bart', 0.1525070923093849),\n",
      "  ('brett kavanaugh', 0.11700217533589458),\n",
      "  ('git', 0.1155631672029317),\n",
      "  ('kaggle', 0.10452513118064477),\n",
      "  ('hillary', 0.10110604329754684),\n",
      "  ('khashoggi', 0.09972523046157944),\n",
      "  ('open source', 0.09773825390800892),\n",
      "  ('oakland', 0.09320158627071964)],\n",
      " [('github', 0.7161201840294973),\n",
      "  ('git', 0.15161532540644665),\n",
      "  ('open source', 0.1183946748716902),\n",
      "  ('president obama', 0.09593458752551992),\n",
      "  ('repository', 0.06420021474684116),\n",
      "  ('pull request', 0.06366823242104322),\n",
      "  ('meetup', 0.06311590939568577),\n",
      "  ('merge', 0.03694123246110156),\n",
      "  ('workshop', 0.03529612441625827),\n",
      "  ('repo', 0.03202374834666185)],\n",
      " [('cohn', 0.7848863127211813),\n",
      "  ('github', 0.122330289145755),\n",
      "  ('respondent', 0.0644760386534393),\n",
      "  ('nyt', 0.05577704710922876),\n",
      "  ('lane block', 0.046010678847234816),\n",
      "  ('upshot', 0.040556471067795204),\n",
      "  ('president obama', 0.038136291077874446),\n",
      "  ('residual delay', 0.03716360625359102),\n",
      "  ('residual', 0.03697062062657488),\n",
      "  ('corridor', 0.03572431887331066)],\n",
      " [('kaggle', 0.4016308274290716),\n",
      "  ('python', 0.312458113909489),\n",
      "  ('data science', 0.2864030396476202),\n",
      "  ('datum science', 0.24336192028970524),\n",
      "  ('machine learn', 0.22933874484023997),\n",
      "  ('machine learning', 0.19083725088425504),\n",
      "  ('deep learning', 0.16879558922319596),\n",
      "  ('datum scientist', 0.15480992293532542),\n",
      "  ('dataset', 0.14617482630505388),\n",
      "  ('data scientist', 0.1384086312332678)],\n",
      " [('bart', 0.4682925421251241),\n",
      "  ('cohn', 0.279873180008223),\n",
      "  ('rider', 0.25239040824025577),\n",
      "  ('fare', 0.17326613874964492),\n",
      "  ('parking', 0.16464271758358417),\n",
      "  ('fleet', 0.12435156014348651),\n",
      "  ('notify', 0.11993730812630059),\n",
      "  ('oakland', 0.1032053390299716),\n",
      "  ('clipper', 0.1019958420927491),\n",
      "  ('maintenance', 0.10182067655592587)]]\n"
     ]
    }
   ],
   "source": [
    "word_list = list(important_words.columns)\n",
    "topics_words = []\n",
    "for i in range(0,10):\n",
    "    check_topic = sorted(list(zip(word_list,lsa.components_[i])), \\\n",
    "                         key=(lambda x: x[1]), reverse = True)\n",
    "    topics_words.append(check_topic[:10])\n",
    "pp.pprint(topics_words)\n"
   ]
  },
  {
   "cell_type": "code",
   "execution_count": null,
   "metadata": {},
   "outputs": [],
   "source": []
  }
 ],
 "metadata": {
  "kernelspec": {
   "display_name": "Python 3",
   "language": "python",
   "name": "python3"
  },
  "language_info": {
   "codemirror_mode": {
    "name": "ipython",
    "version": 3
   },
   "file_extension": ".py",
   "mimetype": "text/x-python",
   "name": "python",
   "nbconvert_exporter": "python",
   "pygments_lexer": "ipython3",
   "version": "3.6.4"
  }
 },
 "nbformat": 4,
 "nbformat_minor": 2
}
